{
 "cells": [
  {
   "cell_type": "code",
   "execution_count": null,
   "id": "c2fd6e19-e60c-424a-9ead-56b100993413",
   "metadata": {},
   "outputs": [],
   "source": [
    "# generate_output.ipynb\n",
    "\n",
    "# Import necessary libraries\n",
    "import os\n",
    "import pandas as pd\n",
    "\n",
    "# Import functions from utils.py\n",
    "from utils import (\n",
    "    load_transformer_model,\n",
    "    load_diffusion_model,\n",
    "    generate_classical_poem\n",
    ")\n",
    "\n",
    "# Configure visualization settings if needed\n",
    "%matplotlib inline\n"
   ]
  },
  {
   "cell_type": "code",
   "execution_count": null,
   "id": "f1a2faad-d48a-45b9-a96b-50d618cdf6c0",
   "metadata": {},
   "outputs": [],
   "source": [
    "# Define model paths and configurations\n",
    "diffusion_model_path = '../models/diffusion/diffusion_model_final.h5'\n",
    "transformer_model_path = '../models/transformers/transformer_model_final.h5'\n",
    "transformer_model_name = 'aubmindlab/bert-base-arabertv2'  # Ensure this matches your trained model\n",
    "max_length = 1000\n",
    "\n",
    "# Load models\n",
    "print(\"Loading trained models...\")\n",
    "transformer_model, tokenizer = load_transformer_model(transformer_model_path, transformer_model_name, max_length)\n",
    "diffusion_model = load_diffusion_model(diffusion_model_path)\n",
    "print(\"Models loaded successfully.\")\n"
   ]
  },
  {
   "cell_type": "code",
   "execution_count": null,
   "id": "6c8fb046-5099-452d-8e36-26f13b566ee9",
   "metadata": {},
   "outputs": [],
   "source": [
    "# Define input file containing modern poems or prompts\n",
    "input_prompts_file = '../data/examples/modern_poems.txt'\n",
    "\n",
    "# Load input prompts\n",
    "print(\"Loading input prompts...\")\n",
    "try:\n",
    "    with open(input_prompts_file, 'r', encoding='utf-8') as f:\n",
    "        modern_prompts = [line.strip() for line in f.readlines() if line.strip()]\n",
    "    print(f\"Loaded {len(modern_prompts)} input prompts.\")\n",
    "except FileNotFoundError:\n",
    "    print(f\"Error: File not found at {input_prompts_file}\")\n",
    "    modern_prompts = []\n"
   ]
  },
  {
   "cell_type": "code",
   "execution_count": null,
   "id": "3b0bdae6-eea2-4588-b52b-241054ad14ef",
   "metadata": {},
   "outputs": [],
   "source": [
    "# Define output directory\n",
    "output_dir = '../results/outputs'\n",
    "os.makedirs(output_dir, exist_ok=True)\n",
    "\n",
    "# Initialize list to store generated poems\n",
    "generated_poems = []\n",
    "\n",
    "# Generate classical poems for each prompt\n",
    "for idx, prompt in enumerate(modern_prompts):\n",
    "    print(f\"Generating classical poem for prompt {idx+1}/{len(modern_prompts)}...\")\n",
    "    classical_poem = generate_classical_poem(\n",
    "        prompt=prompt,\n",
    "        transformer_model=transformer_model,\n",
    "        tokenizer=tokenizer,\n",
    "        diffusion_model=diffusion_model,\n",
    "        max_length=max_length\n",
    "    )\n",
    "    generated_poems.append({\n",
    "        \"prompt\": prompt,\n",
    "        \"classical_poem\": classical_poem\n",
    "    })\n",
    "    # Save to individual files (optional)\n",
    "    output_path = os.path.join(output_dir, f\"classical_poem_{idx+1}.txt\")\n",
    "    with open(output_path, 'w', encoding='utf-8') as f:\n",
    "        f.write(classical_poem)\n",
    "\n",
    "print(\"Classical poem generation completed.\")\n"
   ]
  },
  {
   "cell_type": "code",
   "execution_count": null,
   "id": "cbf0e060-f0bc-458f-9e7c-d914c3ff66dc",
   "metadata": {},
   "outputs": [],
   "source": [
    "# Convert to DataFrame for easy viewing\n",
    "generated_df = pd.DataFrame(generated_poems)\n",
    "\n",
    "# Display first few generated poems\n",
    "generated_df.head()\n"
   ]
  },
  {
   "cell_type": "code",
   "execution_count": null,
   "id": "d7bd75dd-33ac-4542-aad3-2066f3ce1b1c",
   "metadata": {},
   "outputs": [],
   "source": [
    "# Display a specific generated poem\n",
    "poem_number = 1  # Change as needed\n",
    "print(f\"Prompt: {generated_df.loc[poem_number - 1, 'prompt']}\")\n",
    "print(\"Generated Classical Poem:\")\n",
    "print(generated_df.loc[poem_number - 1, 'classical_poem'])\n"
   ]
  }
 ],
 "metadata": {
  "kernelspec": {
   "display_name": "Python (baytdiffuser_env)",
   "language": "python",
   "name": "baytdiffuser_env"
  },
  "language_info": {
   "codemirror_mode": {
    "name": "ipython",
    "version": 3
   },
   "file_extension": ".py",
   "mimetype": "text/x-python",
   "name": "python",
   "nbconvert_exporter": "python",
   "pygments_lexer": "ipython3",
   "version": "3.9.18"
  }
 },
 "nbformat": 4,
 "nbformat_minor": 5
}
