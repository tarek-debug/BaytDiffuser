{
 "cells": [
  {
   "cell_type": "code",
   "execution_count": 1,
   "id": "fb0ea8fd-831b-4623-aba7-24e881e894e1",
   "metadata": {},
   "outputs": [
    {
     "name": "stderr",
     "output_type": "stream",
     "text": [
      "2025-01-01 19:01:46.109146: I tensorflow/core/util/port.cc:113] oneDNN custom operations are on. You may see slightly different numerical results due to floating-point round-off errors from different computation orders. To turn them off, set the environment variable `TF_ENABLE_ONEDNN_OPTS=0`.\n",
      "2025-01-01 19:01:46.162454: E external/local_xla/xla/stream_executor/cuda/cuda_dnn.cc:9261] Unable to register cuDNN factory: Attempting to register factory for plugin cuDNN when one has already been registered\n",
      "2025-01-01 19:01:46.162495: E external/local_xla/xla/stream_executor/cuda/cuda_fft.cc:607] Unable to register cuFFT factory: Attempting to register factory for plugin cuFFT when one has already been registered\n",
      "2025-01-01 19:01:46.163643: E external/local_xla/xla/stream_executor/cuda/cuda_blas.cc:1515] Unable to register cuBLAS factory: Attempting to register factory for plugin cuBLAS when one has already been registered\n",
      "2025-01-01 19:01:46.172084: I tensorflow/core/platform/cpu_feature_guard.cc:182] This TensorFlow binary is optimized to use available CPU instructions in performance-critical operations.\n",
      "To enable the following instructions: SSE4.1 SSE4.2 AVX AVX2 AVX512F AVX512_VNNI FMA, in other operations, rebuild TensorFlow with the appropriate compiler flags.\n"
     ]
    }
   ],
   "source": [
    "import os\n",
    "import tensorflow as tf\n",
    "from transformers import AutoTokenizer, TFAutoModel\n",
    "from tensorflow.keras.callbacks import ModelCheckpoint, EarlyStopping, TensorBoard\n",
    "from tensorflow.keras.mixed_precision import set_global_policy"
   ]
  },
  {
   "cell_type": "code",
   "execution_count": 2,
   "id": "76e6be04-0964-447d-a60d-a07a50d43d57",
   "metadata": {},
   "outputs": [],
   "source": [
    "import os\n",
    "os.environ['TF_ENABLE_ONEDNN_OPTS'] = '0'\n",
    "import tensorflow as tf\n"
   ]
  },
  {
   "cell_type": "code",
   "execution_count": 3,
   "id": "edda569e-8c6e-4f92-8609-b4b7ff3bdc3a",
   "metadata": {},
   "outputs": [],
   "source": [
    "import sys\n",
    "# Add the scripts folder to the system path\n",
    "scripts_path = os.path.abspath(os.path.join('..', 'scripts/python'))\n",
    "sys.path.append(scripts_path)\n"
   ]
  },
  {
   "cell_type": "code",
   "execution_count": 4,
   "id": "6117bc98-a652-453f-ba54-b8bc5e683b6d",
   "metadata": {},
   "outputs": [
    {
     "name": "stdout",
     "output_type": "stream",
     "text": [
      "Loading Transformer tokenizer...\n",
      "Tokenizer loaded.\n",
      "Loading Transformer model...\n"
     ]
    },
    {
     "name": "stderr",
     "output_type": "stream",
     "text": [
      "2025-01-01 19:01:52.638815: I external/local_xla/xla/stream_executor/cuda/cuda_executor.cc:887] could not open file to read NUMA node: /sys/bus/pci/devices/0000:01:00.0/numa_node\n",
      "Your kernel may have been built without NUMA support.\n",
      "2025-01-01 19:01:52.640874: I external/local_xla/xla/stream_executor/cuda/cuda_executor.cc:887] could not open file to read NUMA node: /sys/bus/pci/devices/0000:01:00.0/numa_node\n",
      "Your kernel may have been built without NUMA support.\n",
      "2025-01-01 19:01:52.640943: I external/local_xla/xla/stream_executor/cuda/cuda_executor.cc:887] could not open file to read NUMA node: /sys/bus/pci/devices/0000:01:00.0/numa_node\n",
      "Your kernel may have been built without NUMA support.\n",
      "2025-01-01 19:01:52.646982: I external/local_xla/xla/stream_executor/cuda/cuda_executor.cc:887] could not open file to read NUMA node: /sys/bus/pci/devices/0000:01:00.0/numa_node\n",
      "Your kernel may have been built without NUMA support.\n",
      "2025-01-01 19:01:52.647078: I external/local_xla/xla/stream_executor/cuda/cuda_executor.cc:887] could not open file to read NUMA node: /sys/bus/pci/devices/0000:01:00.0/numa_node\n",
      "Your kernel may have been built without NUMA support.\n",
      "2025-01-01 19:01:52.647118: I external/local_xla/xla/stream_executor/cuda/cuda_executor.cc:887] could not open file to read NUMA node: /sys/bus/pci/devices/0000:01:00.0/numa_node\n",
      "Your kernel may have been built without NUMA support.\n",
      "2025-01-01 19:01:52.898674: I external/local_xla/xla/stream_executor/cuda/cuda_executor.cc:887] could not open file to read NUMA node: /sys/bus/pci/devices/0000:01:00.0/numa_node\n",
      "Your kernel may have been built without NUMA support.\n",
      "2025-01-01 19:01:52.898796: I external/local_xla/xla/stream_executor/cuda/cuda_executor.cc:887] could not open file to read NUMA node: /sys/bus/pci/devices/0000:01:00.0/numa_node\n",
      "Your kernel may have been built without NUMA support.\n",
      "2025-01-01 19:01:52.898813: I tensorflow/core/common_runtime/gpu/gpu_device.cc:2022] Could not identify NUMA node of platform GPU id 0, defaulting to 0.  Your kernel may not have been built with NUMA support.\n",
      "2025-01-01 19:01:52.898881: I external/local_xla/xla/stream_executor/cuda/cuda_executor.cc:887] could not open file to read NUMA node: /sys/bus/pci/devices/0000:01:00.0/numa_node\n",
      "Your kernel may have been built without NUMA support.\n",
      "2025-01-01 19:01:52.898916: I tensorflow/core/common_runtime/gpu/gpu_device.cc:1929] Created device /job:localhost/replica:0/task:0/device:GPU:0 with 1776 MB memory:  -> device: 0, name: NVIDIA GeForce RTX 3070 Laptop GPU, pci bus id: 0000:01:00.0, compute capability: 8.6\n",
      "All model checkpoint layers were used when initializing TFT5ForConditionalGeneration.\n",
      "\n",
      "All the layers of TFT5ForConditionalGeneration were initialized from the model checkpoint at ../models/transformers.\n",
      "If your task is similar to the task the model of the checkpoint was trained on, you can already use TFT5ForConditionalGeneration for predictions without further training.\n"
     ]
    },
    {
     "name": "stdout",
     "output_type": "stream",
     "text": [
      "Transformer model loaded.\n"
     ]
    }
   ],
   "source": [
    "# Transformer_Test.ipynb\n",
    "\n",
    "import os\n",
    "from transformers import AutoTokenizer, TFAutoModelForSeq2SeqLM\n",
    "\n",
    "# Define the directory where the Transformer model and tokenizer are saved\n",
    "transformer_output_dir = '../models/transformers'\n",
    "\n",
    "# Check if the directory exists\n",
    "if not os.path.exists(transformer_output_dir):\n",
    "    raise FileNotFoundError(f\"Transformer output directory not found: {transformer_output_dir}\")\n",
    "\n",
    "# Load the tokenizer\n",
    "print(\"Loading Transformer tokenizer...\")\n",
    "transformer_tokenizer = AutoTokenizer.from_pretrained(transformer_output_dir)\n",
    "print(\"Tokenizer loaded.\")\n",
    "\n",
    "# Load the Transformer model\n",
    "print(\"Loading Transformer model...\")\n",
    "transformer_model = TFAutoModelForSeq2SeqLM.from_pretrained(transformer_output_dir)\n",
    "print(\"Transformer model loaded.\")\n"
   ]
  },
  {
   "cell_type": "code",
   "execution_count": 6,
   "id": "42b23931-0ab9-4249-b0ac-3f75649e1376",
   "metadata": {},
   "outputs": [
    {
     "name": "stdout",
     "output_type": "stream",
     "text": [
      "Generating classical draft...\n",
      "Classical Draft from Transformer: \n"
     ]
    }
   ],
   "source": [
    "# Define a sample modern verse\n",
    "test_input = \"يا جمال الزمان   ويا نور الأمل\"\n",
    "\n",
    "# Tokenize the input\n",
    "input_encodings = transformer_tokenizer(\n",
    "    test_input,\n",
    "    max_length=128,\n",
    "    padding='max_length',\n",
    "    truncation=True,\n",
    "    return_tensors='tf'\n",
    ")\n",
    "\n",
    "input_ids = input_encodings['input_ids']\n",
    "attention_mask = input_encodings['attention_mask']\n",
    "\n",
    "# Generate output\n",
    "print(\"Generating classical draft...\")\n",
    "generated_ids = transformer_model.generate(\n",
    "    input_ids=input_ids,\n",
    "    attention_mask=attention_mask,\n",
    "    max_length=128,\n",
    "    num_beams=4,\n",
    "    early_stopping=True\n",
    ")\n",
    "\n",
    "# Decode the output\n",
    "classical_draft = transformer_tokenizer.decode(generated_ids[0], skip_special_tokens=True)\n",
    "print(f\"Classical Draft from Transformer: {classical_draft}\")\n"
   ]
  },
  {
   "cell_type": "code",
   "execution_count": null,
   "id": "eb04ad94-ba88-41f2-b300-8f1d38ce7073",
   "metadata": {},
   "outputs": [],
   "source": []
  }
 ],
 "metadata": {
  "kernelspec": {
   "display_name": "Python (baytdiffuser_env)",
   "language": "python",
   "name": "baytdiffuser_env"
  },
  "language_info": {
   "codemirror_mode": {
    "name": "ipython",
    "version": 3
   },
   "file_extension": ".py",
   "mimetype": "text/x-python",
   "name": "python",
   "nbconvert_exporter": "python",
   "pygments_lexer": "ipython3",
   "version": "3.9.18"
  }
 },
 "nbformat": 4,
 "nbformat_minor": 5
}
