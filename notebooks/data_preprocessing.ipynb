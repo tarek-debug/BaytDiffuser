{
 "cells": [
  {
   "cell_type": "code",
   "execution_count": 1,
   "id": "8add59c5-58af-4170-a2d7-5695ce8403e7",
   "metadata": {},
   "outputs": [
    {
     "name": "stderr",
     "output_type": "stream",
     "text": [
      "2024-12-31 14:33:15.945046: E external/local_xla/xla/stream_executor/cuda/cuda_dnn.cc:9261] Unable to register cuDNN factory: Attempting to register factory for plugin cuDNN when one has already been registered\n",
      "2024-12-31 14:33:15.945137: E external/local_xla/xla/stream_executor/cuda/cuda_fft.cc:607] Unable to register cuFFT factory: Attempting to register factory for plugin cuFFT when one has already been registered\n",
      "2024-12-31 14:33:15.992910: E external/local_xla/xla/stream_executor/cuda/cuda_blas.cc:1515] Unable to register cuBLAS factory: Attempting to register factory for plugin cuBLAS when one has already been registered\n",
      "2024-12-31 14:33:16.071460: I tensorflow/core/platform/cpu_feature_guard.cc:182] This TensorFlow binary is optimized to use available CPU instructions in performance-critical operations.\n",
      "To enable the following instructions: SSE4.1 SSE4.2 AVX AVX2 AVX512F AVX512_VNNI FMA, in other operations, rebuild TensorFlow with the appropriate compiler flags.\n"
     ]
    }
   ],
   "source": [
    "import os\n",
    "os.environ['TF_ENABLE_ONEDNN_OPTS'] = '0'\n",
    "import tensorflow as tf\n"
   ]
  },
  {
   "cell_type": "code",
   "execution_count": 2,
   "id": "012cc407-f1b6-448e-9c2d-dba9692a2e9d",
   "metadata": {},
   "outputs": [],
   "source": [
    "import sys\n",
    "import os\n",
    "\n",
    "# Add the scripts folder to the system path\n",
    "scripts_path = os.path.abspath(os.path.join('..', 'scripts/python'))\n",
    "sys.path.append(scripts_path)\n"
   ]
  },
  {
   "cell_type": "code",
   "execution_count": 40,
   "id": "009878c3-3e22-43bd-8aef-35187b1948b8",
   "metadata": {},
   "outputs": [],
   "source": [
    "# data_processing.ipynb\n",
    "\n",
    "# Import necessary libraries\n",
    "import os\n",
    "import pandas as pd\n",
    "import matplotlib.pyplot as plt\n",
    "import seaborn as sns\n",
    "import unicodedata\n",
    "\n",
    "# Import functions from utils.py\n",
    "from utils import (\n",
    "    AR,\n",
    "    check_percentage_tashkeel,\n",
    "    Clean_data,\n",
    "    separate_token_with_diacritics,\n",
    "    factor_shadda_tanwin,\n",
    "    string_with_tashkeel_vectorizer,\n",
    "    string_with_tashkeel_vectorizer_per_batch,\n",
    "    calculate_meter_accuracy,\n",
    "    get_verse_length_features\n",
    ")\n",
    "\n",
    "# Configure visualization settings\n",
    "%matplotlib inline\n",
    "sns.set(style=\"whitegrid\")\n"
   ]
  },
  {
   "cell_type": "code",
   "execution_count": 17,
   "id": "024856d3-68ea-42e1-94c1-d1dfed632a6d",
   "metadata": {},
   "outputs": [
    {
     "name": "stdout",
     "output_type": "stream",
     "text": [
      "Loading original dataset...\n",
      "Original dataset loaded with 1831770 records.\n",
      "Loading auto-diacritized dataset...\n",
      "Auto-diacritized dataset loaded with 1831770 records.\n"
     ]
    }
   ],
   "source": [
    "# Define paths\n",
    "original_csv = '../data/raw/apcd/apcd_full.csv'\n",
    "diacritized_csv = '../data/raw/apcd/apcd_full_diacritized.csv'\n",
    "processed_output_dir = '../data/processed'\n",
    "os.makedirs(processed_output_dir, exist_ok=True)\n",
    "# Define the meter pattern for الطويل\n",
    "taweel_pattern = \"―∪∪――∪∪―\"\n",
    "\n",
    "#Load the datasets\n",
    "print(\"Loading original dataset...\")\n",
    "original_df = pd.read_csv(original_csv, encoding='utf-8-sig')\n",
    "print(f\"Original dataset loaded with {len(original_df)} records.\")\n",
    "\n",
    "print(\"Loading auto-diacritized dataset...\")\n",
    "diacritized_df = pd.read_csv(diacritized_csv, encoding='utf-8-sig')\n",
    "print(f\"Auto-diacritized dataset loaded with {len(diacritized_df)} records.\")\n",
    "\n"
   ]
  },
  {
   "cell_type": "code",
   "execution_count": 18,
   "id": "a8098863-fd85-4dfc-bd92-6cf12aff14bf",
   "metadata": {},
   "outputs": [],
   "source": [
    "# Ensure alignment between datasets\n",
    "if len(original_df) != len(diacritized_df):\n",
    "    raise ValueError(\"Original and diacritized datasets have different record counts!\")\n"
   ]
  },
  {
   "cell_type": "code",
   "execution_count": 20,
   "id": "7d882603-044a-4757-a547-9856ab5349a8",
   "metadata": {},
   "outputs": [
    {
     "name": "stdout",
     "output_type": "stream",
     "text": [
      "Filtering for 'طويل بحر'...\n",
      "Filtered Original dataset size: 405378\n",
      "Filtered Diacritized dataset size: 405378\n"
     ]
    }
   ],
   "source": [
    "# Filter for \"طويل بحر\"\n",
    "print(\"Filtering for 'طويل بحر'...\")\n",
    "original_df = original_df[original_df['البحر'] == 'الطويل']\n",
    "diacritized_df = diacritized_df[diacritized_df['البحر'] == 'الطويل']\n",
    "print(f\"Filtered Original dataset size: {len(original_df)}\")\n",
    "print(f\"Filtered Diacritized dataset size: {len(diacritized_df)}\")"
   ]
  },
  {
   "cell_type": "code",
   "execution_count": 21,
   "id": "ec10454a-a4d3-4df5-9838-581ad727d0f0",
   "metadata": {},
   "outputs": [
    {
     "name": "stdout",
     "output_type": "stream",
     "text": [
      "Merging Albayt column and deleting problematic rows...\n",
      "Deleting row 515152 due to error: 'float' object is not iterable\n",
      "Deleting row 653704 due to error: 'float' object is not iterable\n",
      "Deleting row 1507784 due to error: 'float' object is not iterable\n",
      "Merged Albayt column created.\n"
     ]
    }
   ],
   "source": [
    "import unicodedata\n",
    "\n",
    "def merge_albayt(original, diacritized):\n",
    "    \"\"\"\n",
    "    Compare original and diacritized Albayt values letter by letter.\n",
    "    - If the auto-diacritized value has a diacritic but the original doesn't, keep the auto-diacritized.\n",
    "    - If both the original and diacritized have diacritics for the same character, prioritize the original.\n",
    "\n",
    "    Args:\n",
    "        original (str): Original Albayt value.\n",
    "        diacritized (str): Auto-diacritized Albayt value.\n",
    "\n",
    "    Returns:\n",
    "        str: Merged Albayt value.\n",
    "    \"\"\"\n",
    "    merged = []\n",
    "    for orig_char, dia_char in zip(original, diacritized):\n",
    "        # Extract base characters and diacritics\n",
    "        orig_base = unicodedata.normalize('NFD', orig_char)\n",
    "        dia_base = unicodedata.normalize('NFD', dia_char)\n",
    "        \n",
    "        orig_base_char = orig_base[0]\n",
    "        dia_base_char = dia_base[0]\n",
    "\n",
    "        # Case 1: If base characters differ, prioritize the original character\n",
    "        if orig_base_char != dia_base_char:\n",
    "            merged.append(orig_char)\n",
    "        else:\n",
    "            # Base characters match, compare diacritics\n",
    "            orig_diacritics = ''.join(c for c in orig_base[1:] if unicodedata.category(c) == 'Mn')\n",
    "            dia_diacritics = ''.join(c for c in dia_base[1:] if unicodedata.category(c) == 'Mn')\n",
    "            \n",
    "            # Case 2: If original has diacritics, keep the original character\n",
    "            if orig_diacritics:\n",
    "                merged.append(orig_char)\n",
    "            # Case 3: Otherwise, use the diacritized version\n",
    "            elif dia_diacritics:\n",
    "                merged.append(dia_char)\n",
    "            # Case 4: If neither has diacritics, keep the original character\n",
    "            else:\n",
    "                merged.append(orig_char)\n",
    "    \n",
    "    # Handle cases where one string is longer than the other\n",
    "    if len(original) > len(diacritized):\n",
    "        merged.extend(original[len(diacritized):])\n",
    "    elif len(diacritized) > len(original):\n",
    "        merged.extend(diacritized[len(original):])\n",
    "    \n",
    "    return ''.join(merged)\n",
    "\n",
    "    \n",
    "# Function to safely compare and remove problematic rows\n",
    "def safe_merge_albayt(row):\n",
    "    try:\n",
    "        # Perform the merge\n",
    "        return merge_albayt(row['البيت'], diacritized_df.loc[row.name, 'البيت'])\n",
    "    except Exception as e:\n",
    "        print(f\"Deleting row {row.name} due to error: {e}\")\n",
    "        # Drop the row from both dataframes\n",
    "        original_df.drop(index=row.name, inplace=True)\n",
    "        diacritized_df.drop(index=row.name, inplace=True)\n",
    "        return None  # This value won't be used as the row is being deleted\n",
    "\n",
    "# Apply the function\n",
    "print(\"Merging Albayt column and deleting problematic rows...\")\n",
    "original_df['final_albayt'] = original_df.apply(safe_merge_albayt, axis=1)\n",
    "print(\"Merged Albayt column created.\")\n"
   ]
  },
  {
   "cell_type": "code",
   "execution_count": 24,
   "id": "ca5b209d-589e-4374-adbb-624a39bcc75d",
   "metadata": {
    "scrolled": true
   },
   "outputs": [
    {
     "data": {
      "text/html": [
       "<div>\n",
       "<style scoped>\n",
       "    .dataframe tbody tr th:only-of-type {\n",
       "        vertical-align: middle;\n",
       "    }\n",
       "\n",
       "    .dataframe tbody tr th {\n",
       "        vertical-align: top;\n",
       "    }\n",
       "\n",
       "    .dataframe thead th {\n",
       "        text-align: right;\n",
       "    }\n",
       "</style>\n",
       "<table border=\"1\" class=\"dataframe\">\n",
       "  <thead>\n",
       "    <tr style=\"text-align: right;\">\n",
       "      <th></th>\n",
       "      <th>العصر</th>\n",
       "      <th>الشاعر</th>\n",
       "      <th>الديوان</th>\n",
       "      <th>القافية</th>\n",
       "      <th>البحر</th>\n",
       "      <th>الشطر الايسر</th>\n",
       "      <th>الشطر الايمن</th>\n",
       "      <th>البيت</th>\n",
       "      <th>final_albayt</th>\n",
       "    </tr>\n",
       "  </thead>\n",
       "  <tbody>\n",
       "    <tr>\n",
       "      <th>0</th>\n",
       "      <td>قبل الإسلام</td>\n",
       "      <td>عمرو بنِ قُمَيئَة</td>\n",
       "      <td>الديوان الرئيسي</td>\n",
       "      <td>د</td>\n",
       "      <td>الطويل</td>\n",
       "      <td>وَأَن تَجمَعا شَملي وَتَنتَظِرا غَدا</td>\n",
       "      <td>خَليلَيَّ لا تَستَعجِلا أَن تَزَوَّدا</td>\n",
       "      <td>خَليلَيَّ لا تَستَعجِلا أَن تَزَوَّدا    وَأَن...</td>\n",
       "      <td>خَليلَيَّ لا تَستَعجِلا أَن تَزَوَّدا    وَأَن...</td>\n",
       "    </tr>\n",
       "    <tr>\n",
       "      <th>1</th>\n",
       "      <td>قبل الإسلام</td>\n",
       "      <td>عمرو بنِ قُمَيئَة</td>\n",
       "      <td>الديوان الرئيسي</td>\n",
       "      <td>د</td>\n",
       "      <td>الطويل</td>\n",
       "      <td>وَلا سُرعَتي يَوماً بِسابِقَةِ الرَدى</td>\n",
       "      <td>فَما لَبَثٌ يَوماً بِسابِقٍ مَغنَمٍ</td>\n",
       "      <td>فَما لَبَثٌ يَوماً بِسابِقٍ مَغنَمٍ    وَلا سُ...</td>\n",
       "      <td>فَما لَبَثٌ يَوماً بِسابِقٍ مَغنَمٍ    وَلا سُ...</td>\n",
       "    </tr>\n",
       "    <tr>\n",
       "      <th>2</th>\n",
       "      <td>قبل الإسلام</td>\n",
       "      <td>عمرو بنِ قُمَيئَة</td>\n",
       "      <td>الديوان الرئيسي</td>\n",
       "      <td>د</td>\n",
       "      <td>الطويل</td>\n",
       "      <td>وَتَستَوجِبا مَنّاً عَلَيَّ وَتُحمَدا</td>\n",
       "      <td>وَإِن تُنظِراني اليَومَ أَقضِ لُبانَةً</td>\n",
       "      <td>وَإِن تُنظِراني اليَومَ أَقضِ لُبانَةً    وَتَ...</td>\n",
       "      <td>وَإِن تُنظِراني اليَومَ أَقضِ لُبانَةً    وَتَ...</td>\n",
       "    </tr>\n",
       "    <tr>\n",
       "      <th>3</th>\n",
       "      <td>قبل الإسلام</td>\n",
       "      <td>عمرو بنِ قُمَيئَة</td>\n",
       "      <td>الديوان الرئيسي</td>\n",
       "      <td>د</td>\n",
       "      <td>الطويل</td>\n",
       "      <td>تُؤامِرُني سِرّاً لِأَصرِمَ مَرثَدا</td>\n",
       "      <td>لَعَمرُكَ ما نَفسٌ بِجِدٍ رَشيدَةٍ</td>\n",
       "      <td>لَعَمرُكَ ما نَفسٌ بِجِدٍ رَشيدَةٍ    تُؤامِرُ...</td>\n",
       "      <td>لَعَمرُكَ ما نَفسٌ بِجِدٍ رَشيدَةٍ    تُؤامِرُ...</td>\n",
       "    </tr>\n",
       "    <tr>\n",
       "      <th>4</th>\n",
       "      <td>قبل الإسلام</td>\n",
       "      <td>عمرو بنِ قُمَيئَة</td>\n",
       "      <td>الديوان الرئيسي</td>\n",
       "      <td>د</td>\n",
       "      <td>الطويل</td>\n",
       "      <td>وَأَفرَعَ في لَومي مِراراً وَأَصعَدا</td>\n",
       "      <td>وَإِن ظَهَرَت مِنهُ قَوارِصُ جَمَّةٌ</td>\n",
       "      <td>وَإِن ظَهَرَت مِنهُ قَوارِصُ جَمَّةٌ    وَأَفر...</td>\n",
       "      <td>وَإِن ظَهَرَت مِنهُ قَوارِصُ جَمَّةٌ    وَأَفر...</td>\n",
       "    </tr>\n",
       "  </tbody>\n",
       "</table>\n",
       "</div>"
      ],
      "text/plain": [
       "         العصر             الشاعر          الديوان القافية   البحر  \\\n",
       "0  قبل الإسلام  عمرو بنِ قُمَيئَة  الديوان الرئيسي       د  الطويل   \n",
       "1  قبل الإسلام  عمرو بنِ قُمَيئَة  الديوان الرئيسي       د  الطويل   \n",
       "2  قبل الإسلام  عمرو بنِ قُمَيئَة  الديوان الرئيسي       د  الطويل   \n",
       "3  قبل الإسلام  عمرو بنِ قُمَيئَة  الديوان الرئيسي       د  الطويل   \n",
       "4  قبل الإسلام  عمرو بنِ قُمَيئَة  الديوان الرئيسي       د  الطويل   \n",
       "\n",
       "                            الشطر الايسر  \\\n",
       "0   وَأَن تَجمَعا شَملي وَتَنتَظِرا غَدا   \n",
       "1  وَلا سُرعَتي يَوماً بِسابِقَةِ الرَدى   \n",
       "2  وَتَستَوجِبا مَنّاً عَلَيَّ وَتُحمَدا   \n",
       "3    تُؤامِرُني سِرّاً لِأَصرِمَ مَرثَدا   \n",
       "4   وَأَفرَعَ في لَومي مِراراً وَأَصعَدا   \n",
       "\n",
       "                             الشطر الايمن  \\\n",
       "0   خَليلَيَّ لا تَستَعجِلا أَن تَزَوَّدا   \n",
       "1     فَما لَبَثٌ يَوماً بِسابِقٍ مَغنَمٍ   \n",
       "2  وَإِن تُنظِراني اليَومَ أَقضِ لُبانَةً   \n",
       "3      لَعَمرُكَ ما نَفسٌ بِجِدٍ رَشيدَةٍ   \n",
       "4    وَإِن ظَهَرَت مِنهُ قَوارِصُ جَمَّةٌ   \n",
       "\n",
       "                                               البيت  \\\n",
       "0  خَليلَيَّ لا تَستَعجِلا أَن تَزَوَّدا    وَأَن...   \n",
       "1  فَما لَبَثٌ يَوماً بِسابِقٍ مَغنَمٍ    وَلا سُ...   \n",
       "2  وَإِن تُنظِراني اليَومَ أَقضِ لُبانَةً    وَتَ...   \n",
       "3  لَعَمرُكَ ما نَفسٌ بِجِدٍ رَشيدَةٍ    تُؤامِرُ...   \n",
       "4  وَإِن ظَهَرَت مِنهُ قَوارِصُ جَمَّةٌ    وَأَفر...   \n",
       "\n",
       "                                        final_albayt  \n",
       "0  خَليلَيَّ لا تَستَعجِلا أَن تَزَوَّدا    وَأَن...  \n",
       "1  فَما لَبَثٌ يَوماً بِسابِقٍ مَغنَمٍ    وَلا سُ...  \n",
       "2  وَإِن تُنظِراني اليَومَ أَقضِ لُبانَةً    وَتَ...  \n",
       "3  لَعَمرُكَ ما نَفسٌ بِجِدٍ رَشيدَةٍ    تُؤامِرُ...  \n",
       "4  وَإِن ظَهَرَت مِنهُ قَوارِصُ جَمَّةٌ    وَأَفر...  "
      ]
     },
     "execution_count": 24,
     "metadata": {},
     "output_type": "execute_result"
    }
   ],
   "source": [
    "# Preview raw data\n",
    "original_df.head()"
   ]
  },
  {
   "cell_type": "code",
   "execution_count": 32,
   "id": "a2e43d1e-c188-4041-b21b-5a0ea20ad173",
   "metadata": {},
   "outputs": [],
   "source": [
    "raw_df = original_df.copy()\n"
   ]
  },
  {
   "cell_type": "code",
   "execution_count": 33,
   "id": "4304f9c6-e352-4f73-800c-775b19cd3e89",
   "metadata": {},
   "outputs": [
    {
     "name": "stdout",
     "output_type": "stream",
     "text": [
      "Applying diacritization filtering with threshold 0.7...\n",
      "Filtered dataset size: 103441\n"
     ]
    }
   ],
   "source": [
    "# Apply diacritization filtering\n",
    "tashkeel_threshold = 0.7  # Adjust as needed\n",
    "print(f\"Applying diacritization filtering with threshold {tashkeel_threshold}...\")\n",
    "raw_df['passes_diacritization'] = raw_df['final_albayt'].apply(lambda x: check_percentage_tashkeel(x, threshold=tashkeel_threshold))\n",
    "filtered_df = raw_df[raw_df['passes_diacritization']].copy()\n",
    "print(f\"Filtered dataset size: {len(filtered_df)}\")"
   ]
  },
  {
   "cell_type": "code",
   "execution_count": 35,
   "id": "62862761-bd9b-480e-87b6-dfc73ecfc531",
   "metadata": {},
   "outputs": [
    {
     "name": "stdout",
     "output_type": "stream",
     "text": [
      "0      خَليلَيَّ لا تَستَعجِلا أَن تَزَوَّدا    وَأَن تَجمَعا شَملي وَتَنتَظِرا غَدا\n",
      "1       فَما لَبَثٌ يَوماً بِسابِقٍ مَغنَمٍ    وَلا سُرعَتي يَوماً بِسابِقَةِ الرَدى\n",
      "2    وَإِن تُنظِراني اليَومَ أَقضِ لُبانَةً    وَتَستَوجِبا مَنّاً عَلَيَّ وَتُحمَدا\n",
      "3          لَعَمرُكَ ما نَفسٌ بِجِدٍ رَشيدَةٍ    تُؤامِرُني سِرّاً لِأَصرِمَ مَرثَدا\n",
      "4       وَإِن ظَهَرَت مِنهُ قَوارِصُ جَمَّةٌ    وَأَفرَعَ في لَومي مِراراً وَأَصعَدا\n",
      "Name: البيت, dtype: object\n"
     ]
    }
   ],
   "source": [
    "import pandas as pd\n",
    "\n",
    "# Print full content of the first 5 rows for the column \"البيت\"\n",
    "pd.set_option('display.max_colwidth', None)\n",
    "print(filtered_df[\"البيت\"].head())\n"
   ]
  },
  {
   "cell_type": "code",
   "execution_count": 38,
   "id": "58079fa1-a73b-4218-ae42-4b08947390ab",
   "metadata": {},
   "outputs": [
    {
     "name": "stdout",
     "output_type": "stream",
     "text": [
      "Calculating meter accuracy for Taweel...\n",
      "Meter accuracy calculation complete.\n"
     ]
    }
   ],
   "source": [
    "# Calculate meter accuracy\n",
    "print(\"Calculating meter accuracy for Taweel...\")\n",
    "filtered_df['meter_accuracy'] = filtered_df['البيت'].apply(\n",
    "    lambda verse: calculate_meter_accuracy(verse, taweel_pattern)\n",
    ")\n",
    "print(\"Meter accuracy calculation complete.\")"
   ]
  },
  {
   "cell_type": "code",
   "execution_count": 41,
   "id": "b5fd654f-e868-4e05-b8f4-39a7b7d29da0",
   "metadata": {},
   "outputs": [
    {
     "name": "stdout",
     "output_type": "stream",
     "text": [
      "Calculating verse length features...\n",
      "Verse length features added.\n"
     ]
    }
   ],
   "source": [
    "# Add verse length features\n",
    "print(\"Calculating verse length features...\")\n",
    "filtered_df = get_verse_length_features(filtered_df)\n",
    "print(\"Verse length features added.\")"
   ]
  },
  {
   "cell_type": "code",
   "execution_count": 42,
   "id": "aa771608-1945-4a5e-a96f-d5613fedcc04",
   "metadata": {},
   "outputs": [
    {
     "name": "stdout",
     "output_type": "stream",
     "text": [
      "Selecting and renaming columns...\n",
      "Columns selected and renamed.\n"
     ]
    }
   ],
   "source": [
    "# Select and rename relevant columns\n",
    "print(\"Selecting and renaming columns...\")\n",
    "processed_df = filtered_df[['البيت', 'البحر', 'العصر', 'الشاعر', 'القافية', 'meter_accuracy', 'verse_length', 'avg_shatr_length']].rename(columns={\n",
    "    'البيت': 'text',\n",
    "    'البحر': 'meter',\n",
    "    'العصر': 'era',\n",
    "    'الشاعر': 'poet',\n",
    "    'القافية': 'rhyme'\n",
    "})\n",
    "print(\"Columns selected and renamed.\")"
   ]
  },
  {
   "cell_type": "code",
   "execution_count": 43,
   "id": "4cc4573a-a86d-4baf-b2cd-0a3f2006c007",
   "metadata": {},
   "outputs": [
    {
     "name": "stdout",
     "output_type": "stream",
     "text": [
      "Cleaning the text data...\n",
      "Text data cleaned.\n"
     ]
    }
   ],
   "source": [
    "# Clean the text data\n",
    "max_bayt_len = 1000\n",
    "print(\"Cleaning the text data...\")\n",
    "processed_df = Clean_data(processed_df, max_bayt_len=max_bayt_len, verse_column_name='text')\n",
    "print(\"Text data cleaned.\")"
   ]
  },
  {
   "cell_type": "code",
   "execution_count": 44,
   "id": "2f771e57-8eb6-457d-9a0f-03fb13a7b8d0",
   "metadata": {},
   "outputs": [
    {
     "data": {
      "text/html": [
       "<div>\n",
       "<style scoped>\n",
       "    .dataframe tbody tr th:only-of-type {\n",
       "        vertical-align: middle;\n",
       "    }\n",
       "\n",
       "    .dataframe tbody tr th {\n",
       "        vertical-align: top;\n",
       "    }\n",
       "\n",
       "    .dataframe thead th {\n",
       "        text-align: right;\n",
       "    }\n",
       "</style>\n",
       "<table border=\"1\" class=\"dataframe\">\n",
       "  <thead>\n",
       "    <tr style=\"text-align: right;\">\n",
       "      <th></th>\n",
       "      <th>text</th>\n",
       "      <th>meter</th>\n",
       "      <th>era</th>\n",
       "      <th>poet</th>\n",
       "      <th>rhyme</th>\n",
       "      <th>meter_accuracy</th>\n",
       "      <th>verse_length</th>\n",
       "      <th>avg_shatr_length</th>\n",
       "    </tr>\n",
       "  </thead>\n",
       "  <tbody>\n",
       "    <tr>\n",
       "      <th>0</th>\n",
       "      <td>خَليلَيْيَ لا تَستَعجِلا ءَن تَزَوْوَدا    وَءَن تَجمَعا شَملي وَتَنتَظِرا غَدا</td>\n",
       "      <td>الطويل</td>\n",
       "      <td>قبل الإسلام</td>\n",
       "      <td>عمرو بنِ قُمَيئَة</td>\n",
       "      <td>د</td>\n",
       "      <td>39.02</td>\n",
       "      <td>73</td>\n",
       "      <td>36.5</td>\n",
       "    </tr>\n",
       "    <tr>\n",
       "      <th>1</th>\n",
       "      <td>فَما لَبَثُنْ يَومنْ بِسابِقِنْ مَغنَمِنْ    وَلا سُرعَتي يَومنْ بِسابِقَةِ الرَدى</td>\n",
       "      <td>الطويل</td>\n",
       "      <td>قبل الإسلام</td>\n",
       "      <td>عمرو بنِ قُمَيئَة</td>\n",
       "      <td>د</td>\n",
       "      <td>38.10</td>\n",
       "      <td>72</td>\n",
       "      <td>36.0</td>\n",
       "    </tr>\n",
       "    <tr>\n",
       "      <th>2</th>\n",
       "      <td>وَءِن تُنظِراني اليَومَ ءَقضِ لُبانَتَنْ    وَتَستَوجِبا مَنْننْ عَلَيْيَ وَتُحمَدا</td>\n",
       "      <td>الطويل</td>\n",
       "      <td>قبل الإسلام</td>\n",
       "      <td>عمرو بنِ قُمَيئَة</td>\n",
       "      <td>د</td>\n",
       "      <td>37.21</td>\n",
       "      <td>75</td>\n",
       "      <td>37.5</td>\n",
       "    </tr>\n",
       "    <tr>\n",
       "      <th>3</th>\n",
       "      <td>لَعَمرُكَ ما نَفسُنْ بِجِدِنْ رَشيدَتِنْ    تُءامِرُني سِرْرنْ لِءَصرِمَ مَرثَدا</td>\n",
       "      <td>الطويل</td>\n",
       "      <td>قبل الإسلام</td>\n",
       "      <td>عمرو بنِ قُمَيئَة</td>\n",
       "      <td>د</td>\n",
       "      <td>40.00</td>\n",
       "      <td>69</td>\n",
       "      <td>34.5</td>\n",
       "    </tr>\n",
       "    <tr>\n",
       "      <th>4</th>\n",
       "      <td>وَءِن ظَهَرَت مِنهُ قَوارِصُ جَمْمَتُنْ    وَءَفرَعَ في لَومي مِرارنْ وَءَصعَدا</td>\n",
       "      <td>الطويل</td>\n",
       "      <td>قبل الإسلام</td>\n",
       "      <td>عمرو بنِ قُمَيئَة</td>\n",
       "      <td>د</td>\n",
       "      <td>39.02</td>\n",
       "      <td>72</td>\n",
       "      <td>36.0</td>\n",
       "    </tr>\n",
       "  </tbody>\n",
       "</table>\n",
       "</div>"
      ],
      "text/plain": [
       "                                                                                  text  \\\n",
       "0      خَليلَيْيَ لا تَستَعجِلا ءَن تَزَوْوَدا    وَءَن تَجمَعا شَملي وَتَنتَظِرا غَدا   \n",
       "1   فَما لَبَثُنْ يَومنْ بِسابِقِنْ مَغنَمِنْ    وَلا سُرعَتي يَومنْ بِسابِقَةِ الرَدى   \n",
       "2  وَءِن تُنظِراني اليَومَ ءَقضِ لُبانَتَنْ    وَتَستَوجِبا مَنْننْ عَلَيْيَ وَتُحمَدا   \n",
       "3     لَعَمرُكَ ما نَفسُنْ بِجِدِنْ رَشيدَتِنْ    تُءامِرُني سِرْرنْ لِءَصرِمَ مَرثَدا   \n",
       "4      وَءِن ظَهَرَت مِنهُ قَوارِصُ جَمْمَتُنْ    وَءَفرَعَ في لَومي مِرارنْ وَءَصعَدا   \n",
       "\n",
       "    meter          era               poet rhyme  meter_accuracy  verse_length  \\\n",
       "0  الطويل  قبل الإسلام  عمرو بنِ قُمَيئَة     د           39.02            73   \n",
       "1  الطويل  قبل الإسلام  عمرو بنِ قُمَيئَة     د           38.10            72   \n",
       "2  الطويل  قبل الإسلام  عمرو بنِ قُمَيئَة     د           37.21            75   \n",
       "3  الطويل  قبل الإسلام  عمرو بنِ قُمَيئَة     د           40.00            69   \n",
       "4  الطويل  قبل الإسلام  عمرو بنِ قُمَيئَة     د           39.02            72   \n",
       "\n",
       "   avg_shatr_length  \n",
       "0              36.5  \n",
       "1              36.0  \n",
       "2              37.5  \n",
       "3              34.5  \n",
       "4              36.0  "
      ]
     },
     "execution_count": 44,
     "metadata": {},
     "output_type": "execute_result"
    }
   ],
   "source": [
    "# Preview processed data\n",
    "processed_df.head()\n"
   ]
  },
  {
   "cell_type": "code",
   "execution_count": 45,
   "id": "648294bd-2383-497b-a490-f4cf53e7f6bb",
   "metadata": {},
   "outputs": [
    {
     "data": {
      "image/png": "[encoded data removed]",
      "text/plain": [
       "<Figure size 1200x600 with 1 Axes>"
      ]
     },
     "metadata": {},
     "output_type": "display_data"
    }
   ],
   "source": [
    "# Visualizations\n",
    "# Meter accuracy distribution\n",
    "plt.figure(figsize=(12, 6))\n",
    "sns.histplot(processed_df['meter_accuracy'], bins=50, kde=True)\n",
    "plt.title('Meter Accuracy Distribution (Taweel)')\n",
    "plt.xlabel('Accuracy (%)')\n",
    "plt.ylabel('Frequency')\n",
    "plt.show()"
   ]
  },
  {
   "cell_type": "code",
   "execution_count": 46,
   "id": "b4ab53d6-c81b-408d-a54c-13c5fdc9f912",
   "metadata": {},
   "outputs": [
    {
     "data": {
      "image/png": "[encoded data removed]",
      "text/plain": [
       "<Figure size 1200x600 with 1 Axes>"
      ]
     },
     "metadata": {},
     "output_type": "display_data"
    }
   ],
   "source": [
    "# Verse length distribution\n",
    "plt.figure(figsize=(12, 6))\n",
    "sns.histplot(processed_df['verse_length'], bins=50, kde=True)\n",
    "plt.title('Verse Length Distribution (Taweel)')\n",
    "plt.xlabel('Verse Length')\n",
    "plt.ylabel('Frequency')\n",
    "plt.show()"
   ]
  },
  {
   "cell_type": "code",
   "execution_count": 47,
   "id": "404c8c77-64c3-4350-91c5-1b9c3a11cdc6",
   "metadata": {},
   "outputs": [
    {
     "name": "stdout",
     "output_type": "stream",
     "text": [
      "Saving processed data...\n",
      "Processed data saved to ../data/processed/processed_taweel_data.csv\n"
     ]
    }
   ],
   "source": [
    "# Save processed data\n",
    "output_path = os.path.join(processed_output_dir, 'processed_taweel_data.csv')\n",
    "print(\"Saving processed data...\")\n",
    "processed_df.to_csv(output_path, index=False, encoding='utf-8-sig')\n",
    "print(f\"Processed data saved to {output_path}\")"
   ]
  },
  {
   "cell_type": "code",
   "execution_count": null,
   "id": "440fc001-985f-494a-b68c-13adaa8cc9d7",
   "metadata": {},
   "outputs": [],
   "source": []
  }
 ],
 "metadata": {
  "kernelspec": {
   "display_name": "Python 3 (ipykernel)",
   "language": "python",
   "name": "python3"
  },
  "language_info": {
   "codemirror_mode": {
    "name": "ipython",
    "version": 3
   },
   "file_extension": ".py",
   "mimetype": "text/x-python",
   "name": "python",
   "nbconvert_exporter": "python",
   "pygments_lexer": "ipython3",
   "version": "3.9.18"
  }
 },
 "nbformat": 4,
 "nbformat_minor": 5
}
