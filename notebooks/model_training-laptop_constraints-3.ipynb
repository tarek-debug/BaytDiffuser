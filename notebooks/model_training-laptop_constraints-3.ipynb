{
 "cells": [
  {
   "cell_type": "code",
   "execution_count": 1,
   "id": "2635d441-e747-4795-b2bf-ad8390c628d9",
   "metadata": {},
   "outputs": [],
   "source": [
    "import os\n",
    "os.environ['TF_ENABLE_ONEDNN_OPTS'] = '0'"
   ]
  },
  {
   "cell_type": "code",
   "execution_count": 2,
   "id": "d2e3f7bd-4095-4301-8bf6-35669028f7a5",
   "metadata": {},
   "outputs": [],
   "source": [
    "import sys\n",
    "# Add the scripts folder to the system path\n",
    "scripts_path = os.path.abspath(os.path.join('..', 'scripts/python'))\n",
    "sys.path.append(scripts_path)\n"
   ]
  },
  {
   "cell_type": "code",
   "execution_count": 3,
   "id": "c9a52dfa-6254-4a81-a973-39a8437cfe2f",
   "metadata": {},
   "outputs": [],
   "source": [
    "import os\n",
    "import torch \n",
    "import pandas as pd\n",
    "from sklearn.model_selection import train_test_split\n",
    "import matplotlib.pyplot as plt\n",
    "from transformers import AutoTokenizer, AutoModelForCausalLM\n",
    "from arabert import ArabertPreprocessor\n",
    "\n",
    "# Import PyTorch-based functions and classes from utils.py\n",
    "from utils import (\n",
    "    create_thepoet_pipeline,\n",
    "    AraGPT2ForClassicalStyle,\n",
    "    train_aragpt2_for_classical_style,\n",
    "    create_diffusion_model_pytorch,\n",
    "    generate_classical_poem_with_thepoet,\n",
    "    train_diffusion_with_gpt2_decoder\n",
    ")\n"
   ]
  },
  {
   "cell_type": "code",
   "execution_count": 4,
   "id": "caa86b70-17cd-46fd-a514-7bc007e4d27c",
   "metadata": {},
   "outputs": [],
   "source": [
    "# --------------------------\n",
    "# 1) Define Paths\n",
    "# --------------------------\n",
    "processed_data_path = '../data/processed/processed_taweel_data.csv'\n",
    "diffusion_output_dir = '../models/diffusion'\n",
    "transformer_output_dir = '../models/transformers'\n",
    "poet_output_dir = '../models/thepoet'  # Optional: Directory to save ThePoet outputs or models\n",
    "\n",
    "# Create directories if they don't exist\n",
    "os.makedirs(diffusion_output_dir, exist_ok=True)\n",
    "os.makedirs(transformer_output_dir, exist_ok=True)\n",
    "os.makedirs(poet_output_dir, exist_ok=True)"
   ]
  },
  {
   "cell_type": "code",
   "execution_count": 5,
   "id": "88d11ab4-5f13-416d-8fdc-59e71d79e83c",
   "metadata": {},
   "outputs": [
    {
     "name": "stdout",
     "output_type": "stream",
     "text": [
      "Loading processed data...\n",
      "Processed data loaded with 103441 records.\n"
     ]
    }
   ],
   "source": [
    "# --------------------------\n",
    "# 2) Load Processed Data\n",
    "# --------------------------\n",
    "print(\"Loading processed data...\")\n",
    "try:\n",
    "    processed_df = pd.read_csv(processed_data_path, encoding='utf-8-sig')\n",
    "    print(f\"Processed data loaded with {len(processed_df)} records.\")\n",
    "except FileNotFoundError:\n",
    "    print(f\"Error: The file '{processed_data_path}' was not found.\")\n",
    "    sys.exit(1)\n",
    "except Exception as e:\n",
    "    print(f\"An error occurred while loading data: {e}\")\n",
    "    sys.exit(1)\n"
   ]
  },
  {
   "cell_type": "code",
   "execution_count": 6,
   "id": "d7b99763-921f-460a-bbcf-52f072ea1cce",
   "metadata": {},
   "outputs": [
    {
     "name": "stdout",
     "output_type": "stream",
     "text": [
      "Using subset for testing...\n",
      "Training records: 100; Validation records: 20\n"
     ]
    }
   ],
   "source": [
    "# --------------------------\n",
    "# 3) Subset Data (Optional)\n",
    "# --------------------------\n",
    "subset = True  # Set to False to use the full dataset\n",
    "if subset:\n",
    "    print(\"Using subset for testing...\")\n",
    "    train_df, valid_df = train_test_split(processed_df, test_size=0.2, random_state=42)\n",
    "    train_subset = train_df.sample(n=100, random_state=42)\n",
    "    valid_subset = valid_df.sample(n=20, random_state=42)\n",
    "else:\n",
    "    train_df, valid_df = train_test_split(processed_df, test_size=0.2, random_state=42)\n",
    "    train_subset, valid_subset = train_df, valid_df\n",
    "\n",
    "print(f\"Training records: {len(train_subset)}; Validation records: {len(valid_subset)}\")"
   ]
  },
  {
   "cell_type": "code",
   "execution_count": 7,
   "id": "0f848503-88d2-4f1a-927a-d66dcc9ee716",
   "metadata": {},
   "outputs": [
    {
     "name": "stdout",
     "output_type": "stream",
     "text": [
      "Creating ThePoet pipeline...\n"
     ]
    },
    {
     "name": "stderr",
     "output_type": "stream",
     "text": [
      "Device set to use cuda:0\n"
     ]
    },
    {
     "name": "stdout",
     "output_type": "stream",
     "text": [
      "ThePoet pipeline created.\n"
     ]
    }
   ],
   "source": [
    "# --------------------------\n",
    "# 4) Load ThePoet Pipeline\n",
    "# --------------------------\n",
    "print(\"Creating ThePoet pipeline...\")\n",
    "try:\n",
    "    poet_pipeline = create_thepoet_pipeline()\n",
    "    print(\"ThePoet pipeline created.\")\n",
    "except Exception as e:\n",
    "    print(f\"An error occurred while creating ThePoet pipeline: {e}\")\n",
    "    sys.exit(1)\n"
   ]
  },
  {
   "cell_type": "code",
   "execution_count": 8,
   "id": "70932028-a902-481b-9654-9ccf5de2eafa",
   "metadata": {},
   "outputs": [
    {
     "name": "stdout",
     "output_type": "stream",
     "text": [
      "Training Transformer (AraGPT2) in auto-encoder style for classical poems...\n",
      "Assigned EOS token as PAD token for the tokenizer.\n"
     ]
    },
    {
     "name": "stderr",
     "output_type": "stream",
     "text": [
      "WARNING:root:Model provided is not in the accepted model list. Preprocessor will default to a base Arabic preprocessor\n"
     ]
    },
    {
     "name": "stdout",
     "output_type": "stream",
     "text": [
      "Initialized ArabertPreprocessor.\n"
     ]
    }
   ],
   "source": [
    "# --------------------------\n",
    "# 5) Initialize and Train AraGPT2 Model\n",
    "# --------------------------\n",
    "print(\"Training Transformer (AraGPT2) in auto-encoder style for classical poems...\")\n",
    "transformer_name = \"aubmindlab/aragpt2-base\"  # AraGPT2 model\n",
    "try:\n",
    "    transformer_tokenizer = AutoTokenizer.from_pretrained(transformer_name)\n",
    "    # Assign `pad_token` if not already set\n",
    "    if transformer_tokenizer.pad_token is None:\n",
    "        transformer_tokenizer.pad_token = transformer_tokenizer.eos_token\n",
    "        # Alternatively, use a new token for padding:\n",
    "        # transformer_tokenizer.add_special_tokens({'pad_token': '[PAD]'})\n",
    "        print(\"Assigned EOS token as PAD token for the tokenizer.\")\n",
    "except Exception as e:\n",
    "    print(f\"Error loading tokenizer '{transformer_name}': {e}\")\n",
    "\n",
    "try:\n",
    "    transformer_model = AraGPT2ForClassicalStyle(\n",
    "        model_name=transformer_name,\n",
    "        freeze_layers=0,   # Adjust if you want to freeze lower layers\n",
    "        dropout_prob=0.1   # Optional: Adjust dropout probability\n",
    "    )\n",
    "except Exception as e:\n",
    "    print(f\"Error initializing AraGPT2 model: {e}\")\n",
    "\n",
    "# Initialize the preprocessor\n",
    "try:\n",
    "    preprocessor = ArabertPreprocessor(model_name='aubmindlab/arabertv2')\n",
    "    print(\"Initialized ArabertPreprocessor.\")\n",
    "except Exception as e:\n",
    "    print(f\"Error initializing ArabertPreprocessor: {e}\")\n"
   ]
  },
  {
   "cell_type": "code",
   "execution_count": 9,
   "id": "07c2c741-0513-427c-ad3e-61b153d3ae29",
   "metadata": {},
   "outputs": [
    {
     "name": "stderr",
     "output_type": "stream",
     "text": [
      "Training Epoch 1: 100%|██████████████████████████████████████████████████████████████████████| 20/20 [00:03<00:00,  6.57it/s]\n",
      "Validation Epoch 1: 100%|██████████████████████████████████████████████████████████████████████| 5/5 [00:00<00:00, 31.95it/s]\n"
     ]
    },
    {
     "name": "stdout",
     "output_type": "stream",
     "text": [
      "Epoch 1/10 | Train Loss: 4.3032 | Train Perplexity: 73.94 | Val Loss: 1.4576 | Val Perplexity: 4.30\n",
      "Underlying Hugging Face model saved to '../models/transformers/model_epoch_1'\n",
      "Custom dropout layer state_dict saved to '../models/transformers/model_epoch_1/dropout.pt'\n",
      "Saved best model to '../models/transformers/model_epoch_1'\n"
     ]
    },
    {
     "name": "stderr",
     "output_type": "stream",
     "text": [
      "Training Epoch 2: 100%|██████████████████████████████████████████████████████████████████████| 20/20 [00:02<00:00,  7.14it/s]\n",
      "Validation Epoch 2: 100%|██████████████████████████████████████████████████████████████████████| 5/5 [00:00<00:00, 31.34it/s]\n"
     ]
    },
    {
     "name": "stdout",
     "output_type": "stream",
     "text": [
      "Epoch 2/10 | Train Loss: 1.6849 | Train Perplexity: 5.39 | Val Loss: 1.2746 | Val Perplexity: 3.58\n",
      "Underlying Hugging Face model saved to '../models/transformers/model_epoch_2'\n",
      "Custom dropout layer state_dict saved to '../models/transformers/model_epoch_2/dropout.pt'\n",
      "Saved best model to '../models/transformers/model_epoch_2'\n"
     ]
    },
    {
     "name": "stderr",
     "output_type": "stream",
     "text": [
      "Training Epoch 3: 100%|██████████████████████████████████████████████████████████████████████| 20/20 [00:02<00:00,  7.63it/s]\n",
      "Validation Epoch 3: 100%|██████████████████████████████████████████████████████████████████████| 5/5 [00:00<00:00, 30.75it/s]\n"
     ]
    },
    {
     "name": "stdout",
     "output_type": "stream",
     "text": [
      "Epoch 3/10 | Train Loss: 1.3802 | Train Perplexity: 3.98 | Val Loss: 1.1579 | Val Perplexity: 3.18\n",
      "Underlying Hugging Face model saved to '../models/transformers/model_epoch_3'\n",
      "Custom dropout layer state_dict saved to '../models/transformers/model_epoch_3/dropout.pt'\n",
      "Saved best model to '../models/transformers/model_epoch_3'\n"
     ]
    },
    {
     "name": "stderr",
     "output_type": "stream",
     "text": [
      "Training Epoch 4: 100%|██████████████████████████████████████████████████████████████████████| 20/20 [00:02<00:00,  7.35it/s]\n",
      "Validation Epoch 4: 100%|██████████████████████████████████████████████████████████████████████| 5/5 [00:00<00:00, 33.21it/s]\n"
     ]
    },
    {
     "name": "stdout",
     "output_type": "stream",
     "text": [
      "Epoch 4/10 | Train Loss: 1.2680 | Train Perplexity: 3.55 | Val Loss: 1.1324 | Val Perplexity: 3.10\n",
      "Underlying Hugging Face model saved to '../models/transformers/model_epoch_4'\n",
      "Custom dropout layer state_dict saved to '../models/transformers/model_epoch_4/dropout.pt'\n",
      "Saved best model to '../models/transformers/model_epoch_4'\n"
     ]
    },
    {
     "name": "stderr",
     "output_type": "stream",
     "text": [
      "Training Epoch 5: 100%|██████████████████████████████████████████████████████████████████████| 20/20 [00:02<00:00,  7.30it/s]\n",
      "Validation Epoch 5: 100%|██████████████████████████████████████████████████████████████████████| 5/5 [00:00<00:00, 34.92it/s]\n"
     ]
    },
    {
     "name": "stdout",
     "output_type": "stream",
     "text": [
      "Epoch 5/10 | Train Loss: 1.1977 | Train Perplexity: 3.31 | Val Loss: 1.1229 | Val Perplexity: 3.07\n",
      "Underlying Hugging Face model saved to '../models/transformers/model_epoch_5'\n",
      "Custom dropout layer state_dict saved to '../models/transformers/model_epoch_5/dropout.pt'\n",
      "Saved best model to '../models/transformers/model_epoch_5'\n"
     ]
    },
    {
     "name": "stderr",
     "output_type": "stream",
     "text": [
      "Training Epoch 6: 100%|██████████████████████████████████████████████████████████████████████| 20/20 [00:02<00:00,  7.42it/s]\n",
      "Validation Epoch 6: 100%|██████████████████████████████████████████████████████████████████████| 5/5 [00:00<00:00, 32.25it/s]\n"
     ]
    },
    {
     "name": "stdout",
     "output_type": "stream",
     "text": [
      "Epoch 6/10 | Train Loss: 1.1767 | Train Perplexity: 3.24 | Val Loss: 1.1166 | Val Perplexity: 3.05\n",
      "Underlying Hugging Face model saved to '../models/transformers/model_epoch_6'\n",
      "Custom dropout layer state_dict saved to '../models/transformers/model_epoch_6/dropout.pt'\n",
      "Saved best model to '../models/transformers/model_epoch_6'\n"
     ]
    },
    {
     "name": "stderr",
     "output_type": "stream",
     "text": [
      "Training Epoch 7: 100%|██████████████████████████████████████████████████████████████████████| 20/20 [00:02<00:00,  6.91it/s]\n",
      "Validation Epoch 7: 100%|██████████████████████████████████████████████████████████████████████| 5/5 [00:00<00:00, 33.27it/s]\n"
     ]
    },
    {
     "name": "stdout",
     "output_type": "stream",
     "text": [
      "Epoch 7/10 | Train Loss: 1.1469 | Train Perplexity: 3.15 | Val Loss: 1.1018 | Val Perplexity: 3.01\n",
      "Underlying Hugging Face model saved to '../models/transformers/model_epoch_7'\n",
      "Custom dropout layer state_dict saved to '../models/transformers/model_epoch_7/dropout.pt'\n",
      "Saved best model to '../models/transformers/model_epoch_7'\n"
     ]
    },
    {
     "name": "stderr",
     "output_type": "stream",
     "text": [
      "Training Epoch 8: 100%|██████████████████████████████████████████████████████████████████████| 20/20 [00:02<00:00,  7.31it/s]\n",
      "Validation Epoch 8: 100%|██████████████████████████████████████████████████████████████████████| 5/5 [00:00<00:00, 33.45it/s]\n"
     ]
    },
    {
     "name": "stdout",
     "output_type": "stream",
     "text": [
      "Epoch 8/10 | Train Loss: 1.1315 | Train Perplexity: 3.10 | Val Loss: 1.0951 | Val Perplexity: 2.99\n",
      "Underlying Hugging Face model saved to '../models/transformers/model_epoch_8'\n",
      "Custom dropout layer state_dict saved to '../models/transformers/model_epoch_8/dropout.pt'\n",
      "Saved best model to '../models/transformers/model_epoch_8'\n"
     ]
    },
    {
     "name": "stderr",
     "output_type": "stream",
     "text": [
      "Training Epoch 9: 100%|██████████████████████████████████████████████████████████████████████| 20/20 [00:02<00:00,  7.14it/s]\n",
      "Validation Epoch 9: 100%|██████████████████████████████████████████████████████████████████████| 5/5 [00:00<00:00, 34.71it/s]\n"
     ]
    },
    {
     "name": "stdout",
     "output_type": "stream",
     "text": [
      "Epoch 9/10 | Train Loss: 1.1086 | Train Perplexity: 3.03 | Val Loss: 1.1011 | Val Perplexity: 3.01\n",
      "No improvement in validation loss for 1 epoch(s).\n"
     ]
    },
    {
     "name": "stderr",
     "output_type": "stream",
     "text": [
      "Training Epoch 10: 100%|█████████████████████████████████████████████████████████████████████| 20/20 [00:02<00:00,  8.13it/s]\n",
      "Validation Epoch 10: 100%|█████████████████████████████████████████████████████████████████████| 5/5 [00:00<00:00, 34.27it/s]\n"
     ]
    },
    {
     "name": "stdout",
     "output_type": "stream",
     "text": [
      "Epoch 10/10 | Train Loss: 1.0960 | Train Perplexity: 2.99 | Val Loss: 1.0950 | Val Perplexity: 2.99\n",
      "Underlying Hugging Face model saved to '../models/transformers/model_epoch_10'\n",
      "Custom dropout layer state_dict saved to '../models/transformers/model_epoch_10/dropout.pt'\n",
      "Saved best model to '../models/transformers/model_epoch_10'\n",
      "Training complete.\n",
      "Transformer (AraGPT2) training complete.\n"
     ]
    }
   ],
   "source": [
    "# Fine-tuning AraGPT2 with improved training function\n",
    "try:\n",
    "    trained_transformer, hist = train_aragpt2_for_classical_style(\n",
    "        df_classical=train_subset,\n",
    "        tokenizer=transformer_tokenizer,\n",
    "        model=transformer_model,\n",
    "        preprocessor=preprocessor,  # Pass the preprocessor here\n",
    "        max_length=128,  # Consistent with max_bayt_len\n",
    "        epochs=10,        # Increased epochs for better training\n",
    "        batch_size=4, \n",
    "        output_dir=transformer_output_dir,\n",
    "        device='cuda' if torch.cuda.is_available() else 'cpu',\n",
    "        freeze_layers=0,       # Adjust as needed\n",
    "        weight_decay=0.01,     # Added weight decay for regularization\n",
    "        patience=3,            # Early stopping patience\n",
    "        max_grad_norm=1.0      # Gradient clipping max norm\n",
    "    )\n",
    "    print(\"Transformer (AraGPT2) training complete.\")\n",
    "except Exception as e:\n",
    "    print(f\"Error during AraGPT2 training: {e}\")\n",
    "    sys.exit(1)"
   ]
  },
  {
   "cell_type": "code",
   "execution_count": 10,
   "id": "b38aad4f-6034-45c2-be9b-be1c78119356",
   "metadata": {},
   "outputs": [
    {
     "name": "stdout",
     "output_type": "stream",
     "text": [
      "Saving the Transformer model and tokenizer using save_pretrained...\n",
      "Underlying Hugging Face model saved to '../models/transformers'\n",
      "Custom dropout layer state_dict saved to '../models/transformers/dropout.pt'\n",
      "Transformer model saved to '../models/transformers'\n",
      "Tokenizer saved to '../models/transformers'\n"
     ]
    }
   ],
   "source": [
    "# --------------------------\n",
    "# 6) Save the Transformer Model and Tokenizer\n",
    "# --------------------------\n",
    "print(\"Saving the Transformer model and tokenizer using save_pretrained...\")\n",
    "try:\n",
    "    trained_transformer.save_pretrained(transformer_output_dir)\n",
    "    print(f\"Transformer model saved to '{transformer_output_dir}'\")\n",
    "except Exception as e:\n",
    "    print(f\"Error saving the Transformer model: {e}\")\n",
    "\n",
    "try:\n",
    "    transformer_tokenizer.save_pretrained(transformer_output_dir)\n",
    "    print(f\"Tokenizer saved to '{transformer_output_dir}'\")\n",
    "except Exception as e:\n",
    "    print(f\"Error saving the tokenizer: {e}\")\n"
   ]
  },
  {
   "cell_type": "code",
   "execution_count": 11,
   "id": "f0c23064-526d-4447-be46-b76f986d173e",
   "metadata": {},
   "outputs": [
    {
     "data": {
      "image/png": "[encoded data removed]",
      "text/plain": [
       "<Figure size 1000x400 with 1 Axes>"
      ]
     },
     "metadata": {},
     "output_type": "display_data"
    },
    {
     "data": {
      "image/png": "[encoded data removed]",
      "text/plain": [
       "<Figure size 1000x400 with 1 Axes>"
      ]
     },
     "metadata": {},
     "output_type": "display_data"
    }
   ],
   "source": [
    "# --------------------------\n",
    "# 7) Plot Training History\n",
    "# --------------------------\n",
    "try:\n",
    "    plt.figure(figsize=(10, 4))\n",
    "    plt.plot(hist['train_loss'], label='Train Loss')\n",
    "    plt.plot(hist['val_loss'], label='Validation Loss')\n",
    "    plt.title(\"AraGPT2 Fine-Tuning Training Loss\")\n",
    "    plt.xlabel(\"Epoch\")\n",
    "    plt.ylabel(\"Loss\")\n",
    "    plt.legend()\n",
    "    plt.show()\n",
    "\n",
    "    plt.figure(figsize=(10, 4))\n",
    "    plt.plot(hist['train_perplexity'], label='Train Perplexity')\n",
    "    plt.plot(hist['val_perplexity'], label='Validation Perplexity')\n",
    "    plt.title(\"AraGPT2 Fine-Tuning Training Perplexity\")\n",
    "    plt.xlabel(\"Epoch\")\n",
    "    plt.ylabel(\"Perplexity\")\n",
    "    plt.legend()\n",
    "    plt.show()\n",
    "except Exception as e:\n",
    "    print(f\"Error while plotting training history: {e}\")"
   ]
  },
  {
   "cell_type": "code",
   "execution_count": 12,
   "id": "bc81317f-4a9f-4c7b-a429-cdfe483da867",
   "metadata": {},
   "outputs": [
    {
     "name": "stdout",
     "output_type": "stream",
     "text": [
      "Initializing Diffusion Model...\n",
      "Diffusion Model initialized.\n",
      "No pre-trained Diffusion Model found. Proceeding with randomly initialized model.\n"
     ]
    }
   ],
   "source": [
    "# -------------\n",
    "# 3) Diffusion Model\n",
    "# -------------\n",
    "max_length = 128\n",
    "max_bayt_len = 128  # for Diffusion, must match\n",
    "encoding_dim = 8    # each token vector dimension# Initialize and load the Diffusion Model\n",
    "# Initialize and load the Diffusion Model\n",
    "print(\"Initializing Diffusion Model...\")\n",
    "diffusion_model_params = {\n",
    "    'num_transformer_blocks': 4,\n",
    "    'num_heads': 8,\n",
    "    'key_dim': 64,\n",
    "    'ffn_units': 512\n",
    "}\n",
    "input_shape = (max_bayt_len, encoding_dim)\n",
    "diffusion_model = create_diffusion_model_pytorch(input_shape, diffusion_model_params).to('cuda' if torch.cuda.is_available() else 'cpu')\n",
    "print(\"Diffusion Model initialized.\")\n",
    "\n",
    "# Optionally, load a pre-trained diffusion model\n",
    "diffusion_checkpoint_path = os.path.join(diffusion_output_dir, \"diffusion_model_final.pt\")\n",
    "if os.path.exists(diffusion_checkpoint_path):\n",
    "    diffusion_model.load_state_dict(torch.load(diffusion_checkpoint_path, map_location=device))\n",
    "    print(f\"Loaded pre-trained Diffusion Model from '{diffusion_checkpoint_path}'\")\n",
    "else:\n",
    "    print(\"No pre-trained Diffusion Model found. Proceeding with randomly initialized model.\")\n"
   ]
  },
  {
   "cell_type": "code",
   "execution_count": 13,
   "id": "3ef4e1e9-b5d9-4430-96cc-810d478d7403",
   "metadata": {},
   "outputs": [
    {
     "name": "stdout",
     "output_type": "stream",
     "text": [
      "Training Diffusion Model...\n",
      "Projection layer added: 8 -> 768\n"
     ]
    },
    {
     "name": "stderr",
     "output_type": "stream",
     "text": [
      "Training Epoch 1: 100%|██████████████████████████████████████████████████████████████████████| 10/10 [00:19<00:00,  1.92s/it]\n",
      "Validation Epoch 1: 100%|██████████████████████████████████████████████████████████████████████| 3/3 [00:01<00:00,  2.96it/s]\n"
     ]
    },
    {
     "name": "stdout",
     "output_type": "stream",
     "text": [
      "Epoch 1/10 | Train Loss: 3.8678 | Val Loss: 1.8180\n",
      "Saved best model to '../models/diffusion/diffusion_model_epoch_1.pt'\n"
     ]
    },
    {
     "name": "stderr",
     "output_type": "stream",
     "text": [
      "Training Epoch 2: 100%|██████████████████████████████████████████████████████████████████████| 10/10 [00:30<00:00,  3.05s/it]\n",
      "Validation Epoch 2: 100%|██████████████████████████████████████████████████████████████████████| 3/3 [00:01<00:00,  2.90it/s]\n"
     ]
    },
    {
     "name": "stdout",
     "output_type": "stream",
     "text": [
      "Epoch 2/10 | Train Loss: 1.8261 | Val Loss: 1.6417\n",
      "Saved best model to '../models/diffusion/diffusion_model_epoch_2.pt'\n"
     ]
    },
    {
     "name": "stderr",
     "output_type": "stream",
     "text": [
      "Training Epoch 3: 100%|██████████████████████████████████████████████████████████████████████| 10/10 [00:31<00:00,  3.11s/it]\n",
      "Validation Epoch 3: 100%|██████████████████████████████████████████████████████████████████████| 3/3 [00:00<00:00,  3.66it/s]\n"
     ]
    },
    {
     "name": "stdout",
     "output_type": "stream",
     "text": [
      "Epoch 3/10 | Train Loss: 1.6563 | Val Loss: 1.5644\n",
      "Saved best model to '../models/diffusion/diffusion_model_epoch_3.pt'\n"
     ]
    },
    {
     "name": "stderr",
     "output_type": "stream",
     "text": [
      "Training Epoch 4: 100%|██████████████████████████████████████████████████████████████████████| 10/10 [00:21<00:00,  2.17s/it]\n",
      "Validation Epoch 4: 100%|██████████████████████████████████████████████████████████████████████| 3/3 [00:00<00:00,  3.20it/s]\n"
     ]
    },
    {
     "name": "stdout",
     "output_type": "stream",
     "text": [
      "Epoch 4/10 | Train Loss: 1.5189 | Val Loss: 1.4723\n",
      "Saved best model to '../models/diffusion/diffusion_model_epoch_4.pt'\n"
     ]
    },
    {
     "name": "stderr",
     "output_type": "stream",
     "text": [
      "Training Epoch 5: 100%|██████████████████████████████████████████████████████████████████████| 10/10 [00:21<00:00,  2.11s/it]\n",
      "Validation Epoch 5: 100%|██████████████████████████████████████████████████████████████████████| 3/3 [00:00<00:00,  3.00it/s]\n"
     ]
    },
    {
     "name": "stdout",
     "output_type": "stream",
     "text": [
      "Epoch 5/10 | Train Loss: 1.3506 | Val Loss: 1.4345\n",
      "Saved best model to '../models/diffusion/diffusion_model_epoch_5.pt'\n"
     ]
    },
    {
     "name": "stderr",
     "output_type": "stream",
     "text": [
      "Training Epoch 6: 100%|██████████████████████████████████████████████████████████████████████| 10/10 [00:29<00:00,  2.98s/it]\n",
      "Validation Epoch 6: 100%|██████████████████████████████████████████████████████████████████████| 3/3 [00:01<00:00,  2.95it/s]\n"
     ]
    },
    {
     "name": "stdout",
     "output_type": "stream",
     "text": [
      "Epoch 6/10 | Train Loss: 1.2613 | Val Loss: 1.2452\n",
      "Saved best model to '../models/diffusion/diffusion_model_epoch_6.pt'\n"
     ]
    },
    {
     "name": "stderr",
     "output_type": "stream",
     "text": [
      "Training Epoch 7: 100%|██████████████████████████████████████████████████████████████████████| 10/10 [00:32<00:00,  3.28s/it]\n",
      "Validation Epoch 7: 100%|██████████████████████████████████████████████████████████████████████| 3/3 [00:01<00:00,  2.00it/s]\n"
     ]
    },
    {
     "name": "stdout",
     "output_type": "stream",
     "text": [
      "Epoch 7/10 | Train Loss: 1.2231 | Val Loss: 1.2494\n",
      "No improvement in validation loss for 1 epoch(s).\n"
     ]
    },
    {
     "name": "stderr",
     "output_type": "stream",
     "text": [
      "Training Epoch 8: 100%|██████████████████████████████████████████████████████████████████████| 10/10 [00:20<00:00,  2.08s/it]\n",
      "Validation Epoch 8: 100%|██████████████████████████████████████████████████████████████████████| 3/3 [00:01<00:00,  2.84it/s]\n"
     ]
    },
    {
     "name": "stdout",
     "output_type": "stream",
     "text": [
      "Epoch 8/10 | Train Loss: 1.1585 | Val Loss: 1.2337\n",
      "Saved best model to '../models/diffusion/diffusion_model_epoch_8.pt'\n"
     ]
    },
    {
     "name": "stderr",
     "output_type": "stream",
     "text": [
      "Training Epoch 9: 100%|██████████████████████████████████████████████████████████████████████| 10/10 [00:24<00:00,  2.43s/it]\n",
      "Validation Epoch 9: 100%|██████████████████████████████████████████████████████████████████████| 3/3 [00:00<00:00,  3.14it/s]\n"
     ]
    },
    {
     "name": "stdout",
     "output_type": "stream",
     "text": [
      "Epoch 9/10 | Train Loss: 1.1072 | Val Loss: 1.2368\n",
      "No improvement in validation loss for 1 epoch(s).\n"
     ]
    },
    {
     "name": "stderr",
     "output_type": "stream",
     "text": [
      "Training Epoch 10: 100%|█████████████████████████████████████████████████████████████████████| 10/10 [00:20<00:00,  2.05s/it]\n",
      "Validation Epoch 10: 100%|█████████████████████████████████████████████████████████████████████| 3/3 [00:00<00:00,  3.27it/s]"
     ]
    },
    {
     "name": "stdout",
     "output_type": "stream",
     "text": [
      "Epoch 10/10 | Train Loss: 1.0863 | Val Loss: 1.3239\n",
      "No improvement in validation loss for 2 epoch(s).\n",
      "Training complete.\n",
      "Diffusion Model training complete.\n"
     ]
    },
    {
     "name": "stderr",
     "output_type": "stream",
     "text": [
      "\n"
     ]
    }
   ],
   "source": [
    "# ---------------\n",
    "# 4) Train Diffusion Model (Optional)\n",
    "# ---------------\n",
    "print(\"Training Diffusion Model...\")\n",
    "try:\n",
    "    trained_combined_model, training_history = train_diffusion_with_gpt2_decoder(\n",
    "        df_classical=train_subset,\n",
    "        diffusion_model=diffusion_model,\n",
    "        tokenizer=transformer_tokenizer,\n",
    "        preprocessor=preprocessor,\n",
    "        max_length=128,\n",
    "        max_bayt_len=128,\n",
    "        encoding_dim=8,\n",
    "        epochs=10,\n",
    "        batch_size=8,\n",
    "        output_dir=diffusion_output_dir,\n",
    "        learning_rate=1e-4,\n",
    "        patience=3,\n",
    "        device='cuda' if torch.cuda.is_available() else 'cpu'\n",
    "    )\n",
    "    print(\"Diffusion Model training complete.\")\n",
    "except Exception as e:\n",
    "    print(f\"Error during Diffusion Model training: {e}\")\n",
    "    "
   ]
  },
  {
   "cell_type": "code",
   "execution_count": 14,
   "id": "34cf0700-7d13-47c4-97f3-4f4e0940bf78",
   "metadata": {},
   "outputs": [
    {
     "name": "stdout",
     "output_type": "stream",
     "text": [
      "Final combined model saved to '../models/diffusion/final_diffusion_model_with_decoder.pt'\n"
     ]
    }
   ],
   "source": [
    "# Save the final combined model\n",
    "final_model_path = os.path.join(diffusion_output_dir, 'final_diffusion_model_with_decoder.pt')\n",
    "torch.save(trained_combined_model.state_dict(), final_model_path)\n",
    "print(f\"Final combined model saved to '{final_model_path}'\")"
   ]
  },
  {
   "cell_type": "code",
   "execution_count": 15,
   "id": "1bd6607b-fe6a-4339-9ebf-5e1892770d00",
   "metadata": {},
   "outputs": [
    {
     "name": "stderr",
     "output_type": "stream",
     "text": [
      "Truncation was not explicitly activated but `max_length` is provided a specific value, please use `truncation=True` to explicitly truncate examples to max length. Defaulting to 'longest_first' truncation strategy. If you encode pairs of sequences (GLUE-style) with the tokenizer you can select this strategy more precisely by providing a specific strategy to `truncation`.\n",
      "Setting `pad_token_id` to `eos_token_id`:0 for open-end generation.\n"
     ]
    },
    {
     "name": "stdout",
     "output_type": "stream",
     "text": [
      "Generating final classical poem by chaining ThePoet -> AraGPT2 -> Diffusion...\n"
     ]
    },
    {
     "name": "stderr",
     "output_type": "stream",
     "text": [
      "Setting `pad_token_id` to `eos_token_id`:0 for open-end generation.\n"
     ]
    },
    {
     "name": "stdout",
     "output_type": "stream",
     "text": [
      "\n",
      "Generated rough poems from ThePoet:\n",
      "1: يا جمال الزمان ويا نور الأمل. وإني على العهد القديم - من بعد ما قد مضى عهد الصبا. ألا يا خير الورى في كل عام - وفي كل يوم عيد أضحى عيدا. فإن لم يكن لي منه نصيب\n",
      "Replaced hyphen with three spaces: وإني على العهد القديم     من بعد ما قد مضى عهد الصبا\n",
      "Added missing period to verse: وإني على العهد القديم     من بعد ما قد مضى عهد الصبا.\n",
      "Replaced hyphen with three spaces: ألا يا خير الورى في كل عام     وفي كل يوم عيد أضحى عيدا\n",
      "Added missing period to verse: ألا يا خير الورى في كل عام     وفي كل يوم عيد أضحى عيدا.\n",
      "Verse does not have two halves. Fixed verse: فإن لم يكن   لي منه نصيب\n",
      "Attempt 1: Generated poems do not match the required format. Regenerating...\n",
      "\n",
      "Generated rough poems from ThePoet:\n",
      "1: فإن لم يكن لي منه نصيب - وإن لم يكن لك فيه نصيب. وإني لأرجو من الله أن يرحمني - على رغم ما قد كان مني مورد. ألا يا نفس إن كنت لا تعلمي - بأن الذي\n",
      "Replaced hyphen with three spaces: فإن لم يكن لي منه نصيب     وإن لم يكن لك فيه نصيب\n",
      "Added missing period to verse: فإن لم يكن لي منه نصيب     وإن لم يكن لك فيه نصيب.\n",
      "Replaced hyphen with three spaces: وإني لأرجو من الله أن يرحمني     على رغم ما قد كان مني مورد\n",
      "Added missing period to verse: وإني لأرجو من الله أن يرحمني     على رغم ما قد كان مني مورد.\n",
      "Added missing period to verse 1: يا جمال الزمان ويا نور الأمل.\n",
      "\n",
      "==== Final Chained Poem ====\n",
      "يا جمال الزمان ويا نور الأمل.\n",
      "وإني على العهد القديم     من بعد ما قد مضى عهد الصبا.\n",
      "ألا يا خير الورى في كل عام     وفي كل يوم عيد أضحى عيدا.\n",
      "فإن لم يكن   لي منه نصيب.\n",
      "فإن لم يكن لي منه نصيب     وإن لم يكن لك فيه نصيب.\n",
      "وإني لأرجو من الله أن يرحمني     على رغم ما قد كان مني مورد.\n",
      "================================\n",
      "\n",
      "Rough Poem from ThePoet:\n",
      "يا جمال الزمان ويا نور الأمل.\n",
      "وإني على العهد القديم     من بعد ما قد مضى عهد الصبا.\n",
      "ألا يا خير الورى في كل عام     وفي كل يوم عيد أضحى عيدا.\n",
      "فإن لم يكن   لي منه نصيب.\n",
      "فإن لم يكن لي منه نصيب     وإن لم يكن لك فيه نصيب.\n",
      "وإني لأرجو من الله أن يرحمني     على رغم ما قد كان مني مورد.\n",
      "\n",
      "Rough Poem after formatting:\n",
      "يا جمال الزمان ويا نور الأمل. وإني على العهد القديم من بعد ما قد مضى عهد الصبا. ألا يا خير الورى في كل عام وفي كل يوم عيد أضحى عيدا. فإن لم يكن لي منه نصيب. فإن لم يكن لي منه نصيب وإن لم يكن لك فيه نصيب. وإني لأرجو من الله أن يرحمني على رغم ما قد كان مني مورد.\n",
      "\n",
      "Number of verses extracted: 6\n",
      "Verse 1: يا جمال الزمان ويا نور الأمل\n",
      "Verse 2: وإني على العهد القديم من بعد ما قد مضى عهد الصبا\n",
      "Verse 3: ألا يا خير الورى في كل عام وفي كل يوم عيد أضحى عيدا\n",
      "Verse 4: فإن لم يكن لي منه نصيب\n",
      "Verse 5: فإن لم يكن لي منه نصيب وإن لم يكن لك فيه نصيب\n",
      "Verse 6: وإني لأرجو من الله أن يرحمني على رغم ما قد كان مني مورد\n",
      "\n",
      "Processing Verse 1: يا جمال الزمان ويا نور الأمل\n",
      "Verse split into halves: يا جمال الزمان   ويا نور الأمل\n"
     ]
    },
    {
     "name": "stderr",
     "output_type": "stream",
     "text": [
      "Setting `pad_token_id` to `eos_token_id`:0 for open-end generation.\n"
     ]
    },
    {
     "name": "stdout",
     "output_type": "stream",
     "text": [
      "Diacritized Verse: يا جَمالُ الزَّمانِ وَيا نورَ الأَمَلِ\n",
      "Diacritized Verse re-split into halves: يا جَمالُ الزَّمانِ   وَيا نورَ الأَمَلِ\n",
      "Classical Draft from AraGPT2: يا جَمالُ الزَّمانِ   وَيا نورَ الأَمَلِمن\n",
      "Classical Draft after filtering non-Arabic characters: يا جَمالُ الزَّمانِ   وَيا نورَ الأَمَلِمن\n",
      "Passing verse through Diffusion Model for further refinement...\n",
      "Final Verse after Diffusion Refinement: ننننننننننننننننننن\n",
      "\n",
      "Processing Verse 2: وإني على العهد القديم من بعد ما قد مضى عهد الصبا\n",
      "Verse split into halves: وإني على العهد القديم من   بعد ما قد مضى عهد الصبا\n"
     ]
    },
    {
     "name": "stderr",
     "output_type": "stream",
     "text": [
      "Setting `pad_token_id` to `eos_token_id`:0 for open-end generation.\n"
     ]
    },
    {
     "name": "stdout",
     "output_type": "stream",
     "text": [
      "Diacritized Verse: وَإِنّي عَلَى العَهْدِ القَديمِ مِنْ بَعْدِ ما قَدْ مَضَى عَهْدُ الصِّبا\n",
      "Diacritized Verse re-split into halves: وَإِنّي عَلَى العَهْدِ القَديمِ مِنْ   بَعْدِ ما قَدْ مَضَى عَهْدُ الصِّبا\n",
      "Classical Draft from AraGPT2: وَإِنّي عَلَى العَهْدِ القَديمِ مِنْ   بَعْدِ ما قَدْ مَضَى عَهْدُ الصِّبامن\n",
      "Classical Draft after filtering non-Arabic characters: وَإِنّي عَلَى العَهْدِ القَديمِ مِنْ   بَعْدِ ما قَدْ مَضَى عَهْدُ الصِّبامن\n",
      "Passing verse through Diffusion Model for further refinement...\n",
      "Final Verse after Diffusion Refinement: ننننننننننننننننننن\n",
      "\n",
      "Processing Verse 3: ألا يا خير الورى في كل عام وفي كل يوم عيد أضحى عيدا\n",
      "Verse split into halves: ألا يا خير الورى في كل   عام وفي كل يوم عيد أضحى عيدا\n"
     ]
    },
    {
     "name": "stderr",
     "output_type": "stream",
     "text": [
      "Setting `pad_token_id` to `eos_token_id`:0 for open-end generation.\n"
     ]
    },
    {
     "name": "stdout",
     "output_type": "stream",
     "text": [
      "Diacritized Verse: أَلّا يا خَيْرَ الوَرَى في كُلِّ عامٍ وَفي كُلِّ يَوْمٍ عيدِ أَضْحَى عيدًا\n",
      "Diacritized Verse re-split into halves: أَلّا يا خَيْرَ الوَرَى في كُلِّ   عامٍ وَفي كُلِّ يَوْمٍ عيدِ أَضْحَى عيدًا\n",
      "Classical Draft from AraGPT2: أَلّا يا خَيْرَ الوَرَى في كُلِّ   عامٍ وَفي كُلِّ يَوْمٍ عيدِ أَضْحَى عيدًا ء\n",
      "Classical Draft after filtering non-Arabic characters: أَلّا يا خَيْرَ الوَرَى في كُلِّ   عامٍ وَفي كُلِّ يَوْمٍ عيدِ أَضْحَى عيدًا ء\n",
      "Passing verse through Diffusion Model for further refinement...\n",
      "Final Verse after Diffusion Refinement: ننننننننننننننننننن\n",
      "\n",
      "Processing Verse 4: فإن لم يكن لي منه نصيب\n",
      "Verse split into halves: فإن لم يكن   لي منه نصيب\n"
     ]
    },
    {
     "name": "stderr",
     "output_type": "stream",
     "text": [
      "Setting `pad_token_id` to `eos_token_id`:0 for open-end generation.\n"
     ]
    },
    {
     "name": "stdout",
     "output_type": "stream",
     "text": [
      "Diacritized Verse: فَإِنْ لَمْ يَكُنْ لي مِنْهُ نَصيبٌ\n",
      "Diacritized Verse re-split into halves: فَإِنْ لَمْ يَكُنْ   لي مِنْهُ نَصيبٌ\n",
      "Classical Draft from AraGPT2: فَإِنْ لَمْ يَكُنْ   لي مِنْهُ نَصيبٌن\n",
      "Classical Draft after filtering non-Arabic characters: فَإِنْ لَمْ يَكُنْ   لي مِنْهُ نَصيبٌن\n",
      "Passing verse through Diffusion Model for further refinement...\n",
      "Final Verse after Diffusion Refinement: ننننننننننننننننننن\n",
      "\n",
      "Processing Verse 5: فإن لم يكن لي منه نصيب وإن لم يكن لك فيه نصيب\n",
      "Verse split into halves: فإن لم يكن لي منه نصيب   وإن لم يكن لك فيه نصيب\n"
     ]
    },
    {
     "name": "stderr",
     "output_type": "stream",
     "text": [
      "Setting `pad_token_id` to `eos_token_id`:0 for open-end generation.\n"
     ]
    },
    {
     "name": "stdout",
     "output_type": "stream",
     "text": [
      "Diacritized Verse: فَإِنْ لَمْ يَكُنْ لي مِنْهُ نَصيبٌ وَإِنْ لَمْ يَكُنْ لَكَ فيهِ نَصيبٌ\n",
      "Diacritized Verse re-split into halves: فَإِنْ لَمْ يَكُنْ لي مِنْهُ نَصيبٌ   وَإِنْ لَمْ يَكُنْ لَكَ فيهِ نَصيبٌ\n",
      "Classical Draft from AraGPT2: فَإِنْ لَمْ يَكُنْ لي مِنْهُ نَصيبٌ   وَإِنْ لَمْ يَكُنْ لَكَ فيهِ نَصيبٌمن\n",
      "Classical Draft after filtering non-Arabic characters: فَإِنْ لَمْ يَكُنْ لي مِنْهُ نَصيبٌ   وَإِنْ لَمْ يَكُنْ لَكَ فيهِ نَصيبٌمن\n",
      "Passing verse through Diffusion Model for further refinement...\n",
      "Final Verse after Diffusion Refinement: ننننننننننننننننننن\n",
      "\n",
      "Processing Verse 6: وإني لأرجو من الله أن يرحمني على رغم ما قد كان مني مورد\n",
      "Verse split into halves: وإني لأرجو من الله أن يرحمني   على رغم ما قد كان مني مورد\n"
     ]
    },
    {
     "name": "stderr",
     "output_type": "stream",
     "text": [
      "Setting `pad_token_id` to `eos_token_id`:0 for open-end generation.\n"
     ]
    },
    {
     "name": "stdout",
     "output_type": "stream",
     "text": [
      "Diacritized Verse: وَإِنّي لَأَرْجو مِنْ اللَّهِ أَنْ يَرْحَمْني عَلَى رَغْمَ ما قَدْ كانَ مِنّي مَوْرِدٌ\n",
      "Diacritized Verse re-split into halves: وَإِنّي لَأَرْجو مِنْ اللَّهِ أَنْ يَرْحَمْني   عَلَى رَغْمَ ما قَدْ كانَ مِنّي مَوْرِدٌ\n",
      "Classical Draft from AraGPT2: وَإِنّي لَأَرْجو مِنْ اللَّهِ أَنْ يَرْحَمْني   عَلَى رَغْمَ ما قَدْ كانَ مِنّي مَوْرِدٌمن\n",
      "Classical Draft after filtering non-Arabic characters: وَإِنّي لَأَرْجو مِنْ اللَّهِ أَنْ يَرْحَمْني   عَلَى رَغْمَ ما قَدْ كانَ مِنّي مَوْرِدٌمن\n",
      "Passing verse through Diffusion Model for further refinement...\n",
      "Final Verse after Diffusion Refinement: ننننننننننننننننننن\n",
      "\n",
      "==== Final Chained Poem ====\n",
      "ننننننننننننننننننن\n",
      "ننننننننننننننننننن\n",
      "ننننننننننننننننننن\n",
      "ننننننننننننننننننن\n",
      "ننننننننننننننننننن\n",
      "ننننننننننننننننننن\n",
      "================================\n",
      "\n",
      "==== Final Chained Poem ====\n",
      "ننننننننننننننننننن\n",
      "ننننننننننننننننننن\n",
      "ننننننننننننننننننن\n",
      "ننننننننننننننننننن\n",
      "ننننننننننننننننننن\n",
      "ننننننننننننننننننن\n",
      "================================\n"
     ]
    }
   ],
   "source": [
    "# ------------------\n",
    "# 5) Provide a Modern Prompt\n",
    "# ------------------\n",
    "modern_prompt = \"يا جمال الزمان ويا نور الأمل\"\n",
    "\n",
    "# ------------------\n",
    "# 6) Generate Final Poem via ThePoet -> AraGPT2 -> Diffusion\n",
    "# ------------------\n",
    "print(\"Generating final classical poem by chaining ThePoet -> AraGPT2 -> Diffusion...\")\n",
    "try:\n",
    "    final_poem = generate_classical_poem_with_thepoet(\n",
    "        modern_prompt=modern_prompt,\n",
    "        poet_pipeline=poet_pipeline,\n",
    "        transformer_model=trained_transformer,\n",
    "        transformer_tokenizer=transformer_tokenizer,\n",
    "        diffusion_model=trained_combined_model,  # Pass the trained combined model here\n",
    "        diffusion_tokenizer=transformer_tokenizer,  # Assuming same tokenizer; adjust if different\n",
    "        max_length=128,\n",
    "        device='cuda' if torch.cuda.is_available() else 'cpu'\n",
    "    )\n",
    "    print(\"\\n==== Final Chained Poem ====\")\n",
    "    print(final_poem)\n",
    "    print(\"================================\")\n",
    "except Exception as e:\n",
    "    print(f\"Error during poem generation: {e}\")"
   ]
  },
  {
   "cell_type": "code",
   "execution_count": null,
   "id": "a833b6f5-9d78-421a-a3d8-7b907a9ec47f",
   "metadata": {},
   "outputs": [],
   "source": []
  },
  {
   "cell_type": "code",
   "execution_count": null,
   "id": "debc2c26-7143-49b0-ac66-dd860543f9f7",
   "metadata": {},
   "outputs": [],
   "source": []
  },
  {
   "cell_type": "code",
   "execution_count": null,
   "id": "34be56ed-1bd4-447c-9287-a7418d20fc89",
   "metadata": {},
   "outputs": [],
   "source": []
  },
  {
   "cell_type": "code",
   "execution_count": null,
   "id": "e90512dc-1cdb-4095-949d-160214a25409",
   "metadata": {},
   "outputs": [],
   "source": []
  },
  {
   "cell_type": "code",
   "execution_count": null,
   "id": "17e441b5-116b-4f96-8a02-1aa4b1f60a71",
   "metadata": {},
   "outputs": [],
   "source": [
    "# ------------------\n",
    "# 4) Provide a Modern Prompt\n",
    "# ------------------\n",
    "modern_prompt = \"يا جمال الزمان ويا نور الأمل\"\n",
    "\n",
    "# ------------------\n",
    "# 5) Generate Final Poem via ThePoet -> AraGPT2\n",
    "# ------------------\n",
    "print(\"Generating final classical poem by chaining ThePoet -> AraGPT2...\")\n",
    "try:\n",
    "    final_poem = generate_classical_poem_with_thepoet(\n",
    "        modern_prompt=modern_prompt,\n",
    "        poet_pipeline=poet_pipeline,\n",
    "        transformer_model=trained_transformer,\n",
    "        transformer_tokenizer=transformer_tokenizer,\n",
    "        # diffusion_model=diffusion_model,  # Uncomment if using diffusion\n",
    "        max_length=128,\n",
    "        device='cuda' if torch.cuda.is_available() else 'cpu'\n",
    "    )\n",
    "    print(\"\\n==== Final Chained Poem ====\")\n",
    "    print(final_poem)\n",
    "    print(\"================================\")\n",
    "except Exception as e:\n",
    "    print(f\"Error during poem generation: {e}\")\n"
   ]
  },
  {
   "cell_type": "code",
   "execution_count": 11,
   "id": "c726adff-22d5-4fd3-8073-465d5e98e826",
   "metadata": {},
   "outputs": [
    {
     "name": "stderr",
     "output_type": "stream",
     "text": [
      "Truncation was not explicitly activated but `max_length` is provided a specific value, please use `truncation=True` to explicitly truncate examples to max length. Defaulting to 'longest_first' truncation strategy. If you encode pairs of sequences (GLUE-style) with the tokenizer you can select this strategy more precisely by providing a specific strategy to `truncation`.\n",
      "Setting `pad_token_id` to `eos_token_id`:0 for open-end generation.\n"
     ]
    },
    {
     "name": "stdout",
     "output_type": "stream",
     "text": [
      "Generating final classical poem by chaining ThePoet -> AraGPT2...\n"
     ]
    },
    {
     "name": "stderr",
     "output_type": "stream",
     "text": [
      "Setting `pad_token_id` to `eos_token_id`:0 for open-end generation.\n"
     ]
    },
    {
     "name": "stdout",
     "output_type": "stream",
     "text": [
      "\n",
      "Generated rough poems from ThePoet:\n",
      "1: يا جمال الزمان ويا نور الأمل. أحسنت يا بدر الدجى - ما أنت إلا البدر المنير. وإذا لم يكن في الكون نجم - فذاك هو النور المبين. فإن كنت من أهل الورى - فما\n",
      "Replaced hyphen with three spaces: أحسنت يا بدر الدجى     ما أنت إلا البدر المنير\n",
      "Added missing period to verse: أحسنت يا بدر الدجى     ما أنت إلا البدر المنير.\n",
      "Replaced hyphen with three spaces: وإذا لم يكن في الكون نجم     فذاك هو النور المبين\n",
      "Added missing period to verse: وإذا لم يكن في الكون نجم     فذاك هو النور المبين.\n",
      "Replaced hyphen with three spaces: فإن كنت من أهل الورى     فما\n",
      "Added missing period to verse: فإن كنت من أهل الورى     فما.\n",
      "Attempt 1: Generated poems do not match the required format. Regenerating...\n",
      "\n",
      "Generated rough poems from ThePoet:\n",
      "1: فإن كنت من أهل الورى - فما لك في الناس من نظير. وإذا أنت لم تسألي عن أمر - فلا تجزعن إلى ما شئت من فاعل. ولا تلمني على الزمان الذي مضى - ولا تعذلني\n",
      "Replaced hyphen with three spaces: فإن كنت من أهل الورى     فما لك في الناس من نظير\n",
      "Added missing period to verse: فإن كنت من أهل الورى     فما لك في الناس من نظير.\n",
      "Replaced hyphen with three spaces: وإذا أنت لم تسألي عن أمر     فلا تجزعن إلى ما شئت من فاعل\n",
      "Added missing period to verse: وإذا أنت لم تسألي عن أمر     فلا تجزعن إلى ما شئت من فاعل.\n",
      "Added missing period to verse 1: يا جمال الزمان ويا نور الأمل.\n",
      "\n",
      "==== Final Chained Poem ====\n",
      "يا جمال الزمان ويا نور الأمل.\n",
      "أحسنت يا بدر الدجى     ما أنت إلا البدر المنير.\n",
      "وإذا لم يكن في الكون نجم     فذاك هو النور المبين.\n",
      "فإن كنت من أهل الورى     فما.\n",
      "فإن كنت من أهل الورى     فما لك في الناس من نظير.\n",
      "وإذا أنت لم تسألي عن أمر     فلا تجزعن إلى ما شئت من فاعل.\n",
      "================================\n",
      "\n",
      "Rough Poem from ThePoet:\n",
      "يا جمال الزمان ويا نور الأمل.\n",
      "أحسنت يا بدر الدجى     ما أنت إلا البدر المنير.\n",
      "وإذا لم يكن في الكون نجم     فذاك هو النور المبين.\n",
      "فإن كنت من أهل الورى     فما.\n",
      "فإن كنت من أهل الورى     فما لك في الناس من نظير.\n",
      "وإذا أنت لم تسألي عن أمر     فلا تجزعن إلى ما شئت من فاعل.\n",
      "\n",
      "Rough Poem after formatting:\n",
      "يا جمال الزمان ويا نور الأمل. أحسنت يا بدر الدجى ما أنت إلا البدر المنير. وإذا لم يكن في الكون نجم فذاك هو النور المبين. فإن كنت من أهل الورى فما. فإن كنت من أهل الورى فما لك في الناس من نظير. وإذا أنت لم تسألي عن أمر فلا تجزعن إلى ما شئت من فاعل.\n",
      "\n",
      "Number of verses extracted: 6\n",
      "Verse 1: يا جمال الزمان ويا نور الأمل\n",
      "Verse 2: أحسنت يا بدر الدجى ما أنت إلا البدر المنير\n",
      "Verse 3: وإذا لم يكن في الكون نجم فذاك هو النور المبين\n",
      "Verse 4: فإن كنت من أهل الورى فما\n",
      "Verse 5: فإن كنت من أهل الورى فما لك في الناس من نظير\n",
      "Verse 6: وإذا أنت لم تسألي عن أمر فلا تجزعن إلى ما شئت من فاعل\n",
      "\n",
      "Processing Verse 1: يا جمال الزمان ويا نور الأمل\n",
      "Verse split into halves: يا جمال الزمان   ويا نور الأمل\n"
     ]
    },
    {
     "name": "stderr",
     "output_type": "stream",
     "text": [
      "Setting `pad_token_id` to `eos_token_id`:0 for open-end generation.\n"
     ]
    },
    {
     "name": "stdout",
     "output_type": "stream",
     "text": [
      "Diacritized Verse: يا جَمالُ الزَّمانِ وَيا نورَ الأَمَلِ\n",
      "Diacritized Verse re-split into halves: يا جَمالُ الزَّمانِ   وَيا نورَ الأَمَلِ\n",
      "Classical Draft from AraGPT2: يا جَمالُ الزَّمانِ   وَيا نورَ الأَمَلِ��ن��� ���ه���������������\n",
      "Final Verse after AraGPT2 Refinement: يا جَمالُ الزَّمانِ   وَيا نورَ الأَمَلِن ه\n",
      "\n",
      "Processing Verse 2: أحسنت يا بدر الدجى ما أنت إلا البدر المنير\n",
      "Verse split into halves: أحسنت يا بدر الدجى   ما أنت إلا البدر المنير\n"
     ]
    },
    {
     "name": "stderr",
     "output_type": "stream",
     "text": [
      "Setting `pad_token_id` to `eos_token_id`:0 for open-end generation.\n"
     ]
    },
    {
     "name": "stdout",
     "output_type": "stream",
     "text": [
      "Diacritized Verse: أَحْسَنتْ يا بَدْرُ الدُّجَى ما أَنْتَ إِلّا البَدْرِ المُنيرِ\n",
      "Diacritized Verse re-split into halves: أَحْسَنتْ يا بَدْرُ الدُّجَى   ما أَنْتَ إِلّا البَدْرِ المُنيرِ\n",
      "Classical Draft from AraGPT2: أَحْسَنتْ يا بَدْرُ الدُّجَى   ما أَنْتَ إِلّا البَدْرِ المُنيرِ�ن���ه��ر���\n",
      "Final Verse after AraGPT2 Refinement: أَحْسَنتْ يا بَدْرُ الدُّجَى   ما أَنْتَ إِلّا البَدْرِ المُنيرِنهر\n",
      "\n",
      "Processing Verse 3: وإذا لم يكن في الكون نجم فذاك هو النور المبين\n",
      "Verse split into halves: وإذا لم يكن في الكون   نجم فذاك هو النور المبين\n"
     ]
    },
    {
     "name": "stderr",
     "output_type": "stream",
     "text": [
      "Setting `pad_token_id` to `eos_token_id`:0 for open-end generation.\n"
     ]
    },
    {
     "name": "stdout",
     "output_type": "stream",
     "text": [
      "Diacritized Verse: وَإِذا لَمْ يَكُنْ في الكَوْنِ نَجْمُ فَذاكَ هوَ النّورُ المُبينُ\n",
      "Diacritized Verse re-split into halves: وَإِذا لَمْ يَكُنْ في الكَوْنِ   نَجْمُ فَذاكَ هوَ النّورُ المُبينُ\n",
      "Classical Draft from AraGPT2: وَإِذا لَمْ يَكُنْ في الكَوْنِ   نَجْمُ فَذاكَ هوَ النّورُ المُبينُ��ن��ه��\n",
      "Final Verse after AraGPT2 Refinement: وَإِذا لَمْ يَكُنْ في الكَوْنِ   نَجْمُ فَذاكَ هوَ النّورُ المُبينُنه\n",
      "\n",
      "Processing Verse 4: فإن كنت من أهل الورى فما\n",
      "Verse split into halves: فإن كنت من   أهل الورى فما\n"
     ]
    },
    {
     "name": "stderr",
     "output_type": "stream",
     "text": [
      "Setting `pad_token_id` to `eos_token_id`:0 for open-end generation.\n"
     ]
    },
    {
     "name": "stdout",
     "output_type": "stream",
     "text": [
      "Diacritized Verse: فَإِنْ كُنْتْ مِنْ أَهْلِ الوَرَى فَما\n",
      "Diacritized Verse re-split into halves: فَإِنْ كُنْتْ مِنْ   أَهْلِ الوَرَى فَما\n",
      "Classical Draft from AraGPT2: فَإِنْ كُنْتْ مِنْ   أَهْلِ الوَرَى فَما�ن�����ه���� �����\n",
      "Final Verse after AraGPT2 Refinement: فَإِنْ كُنْتْ مِنْ   أَهْلِ الوَرَى فَمانه \n",
      "\n",
      "Processing Verse 5: فإن كنت من أهل الورى فما لك في الناس من نظير\n",
      "Verse split into halves: فإن كنت من أهل الورى   فما لك في الناس من نظير\n"
     ]
    },
    {
     "name": "stderr",
     "output_type": "stream",
     "text": [
      "Setting `pad_token_id` to `eos_token_id`:0 for open-end generation.\n"
     ]
    },
    {
     "name": "stdout",
     "output_type": "stream",
     "text": [
      "Diacritized Verse: فَإِنْ كُنْتْ مِنْ أَهْلِ الوَرَى فَما لَكَ في النّاسِ مِنْ نَظيرِ\n",
      "Diacritized Verse re-split into halves: فَإِنْ كُنْتْ مِنْ أَهْلِ الوَرَى   فَما لَكَ في النّاسِ مِنْ نَظيرِ\n",
      "Classical Draft from AraGPT2: فَإِنْ كُنْتْ مِنْ أَهْلِ الوَرَى   فَما لَكَ في النّاسِ مِنْ نَظيرِ�ن���ه��\n",
      "Final Verse after AraGPT2 Refinement: فَإِنْ كُنْتْ مِنْ أَهْلِ الوَرَى   فَما لَكَ في النّاسِ مِنْ نَظيرِنه\n",
      "\n",
      "Processing Verse 6: وإذا أنت لم تسألي عن أمر فلا تجزعن إلى ما شئت من فاعل\n",
      "Verse split into halves: وإذا أنت لم تسألي عن أمر   فلا تجزعن إلى ما شئت من فاعل\n"
     ]
    },
    {
     "name": "stderr",
     "output_type": "stream",
     "text": [
      "Setting `pad_token_id` to `eos_token_id`:0 for open-end generation.\n"
     ]
    },
    {
     "name": "stdout",
     "output_type": "stream",
     "text": [
      "Diacritized Verse: وَإِذا أَنْتَ لَمْ تَسْأَلْي عَنْ أَمْرٍ فَلا تجزعنْ إِلَى ما شِئتْ مِنْ فاعِلٍ\n",
      "Diacritized Verse re-split into halves: وَإِذا أَنْتَ لَمْ تَسْأَلْي عَنْ أَمْرٍ   فَلا تجزعنْ إِلَى ما شِئتْ مِنْ فاعِلٍ\n",
      "Classical Draft from AraGPT2: وَإِذا أَنْتَ لَمْ تَسْأَلْي عَنْ أَمْرٍ   فَلا تجزعنْ إِلَى ما شِئتْ مِنْ فاعِلٍ��ن�\n",
      "Final Verse after AraGPT2 Refinement: وَإِذا أَنْتَ لَمْ تَسْأَلْي عَنْ أَمْرٍ   فَلا تجزعنْ إِلَى ما شِئتْ مِنْ فاعِلٍن\n",
      "\n",
      "==== Final Chained Poem ====\n",
      "يا جَمالُ الزَّمانِ   وَيا نورَ الأَمَلِن ه\n",
      "أَحْسَنتْ يا بَدْرُ الدُّجَى   ما أَنْتَ إِلّا البَدْرِ المُنيرِنهر\n",
      "وَإِذا لَمْ يَكُنْ في الكَوْنِ   نَجْمُ فَذاكَ هوَ النّورُ المُبينُنه\n",
      "فَإِنْ كُنْتْ مِنْ   أَهْلِ الوَرَى فَمانه \n",
      "فَإِنْ كُنْتْ مِنْ أَهْلِ الوَرَى   فَما لَكَ في النّاسِ مِنْ نَظيرِنه\n",
      "وَإِذا أَنْتَ لَمْ تَسْأَلْي عَنْ أَمْرٍ   فَلا تجزعنْ إِلَى ما شِئتْ مِنْ فاعِلٍن\n",
      "================================\n",
      "\n",
      "==== Final Chained Poem ====\n",
      "يا جَمالُ الزَّمانِ   وَيا نورَ الأَمَلِن ه\n",
      "أَحْسَنتْ يا بَدْرُ الدُّجَى   ما أَنْتَ إِلّا البَدْرِ المُنيرِنهر\n",
      "وَإِذا لَمْ يَكُنْ في الكَوْنِ   نَجْمُ فَذاكَ هوَ النّورُ المُبينُنه\n",
      "فَإِنْ كُنْتْ مِنْ   أَهْلِ الوَرَى فَمانه \n",
      "فَإِنْ كُنْتْ مِنْ أَهْلِ الوَرَى   فَما لَكَ في النّاسِ مِنْ نَظيرِنه\n",
      "وَإِذا أَنْتَ لَمْ تَسْأَلْي عَنْ أَمْرٍ   فَلا تجزعنْ إِلَى ما شِئتْ مِنْ فاعِلٍن\n",
      "================================\n"
     ]
    }
   ],
   "source": [
    "# ------------------\n",
    "# 4) Provide a Modern Prompt\n",
    "# ------------------\n",
    "modern_prompt = \"يا جمال الزمان ويا نور الأمل\"\n",
    "\n",
    "# ------------------\n",
    "# 5) Generate Final Poem via ThePoet -> AraGPT2\n",
    "# ------------------\n",
    "print(\"Generating final classical poem by chaining ThePoet -> AraGPT2...\")\n",
    "try:\n",
    "    final_poem = generate_classical_poem_with_thepoet(\n",
    "        modern_prompt=modern_prompt,\n",
    "        poet_pipeline=poet_pipeline,\n",
    "        transformer_model=trained_transformer,\n",
    "        transformer_tokenizer=transformer_tokenizer,\n",
    "        # diffusion_model=diffusion_model,  # Uncomment if using diffusion\n",
    "        max_length=128,\n",
    "        device='cuda' if torch.cuda.is_available() else 'cpu'\n",
    "    )\n",
    "    print(\"\\n==== Final Chained Poem ====\")\n",
    "    print(final_poem)\n",
    "    print(\"================================\")\n",
    "except Exception as e:\n",
    "    print(f\"Error during poem generation: {e}\")\n"
   ]
  },
  {
   "cell_type": "code",
   "execution_count": null,
   "id": "892daf50-fd4a-40d4-9b47-bd0c0b932895",
   "metadata": {},
   "outputs": [],
   "source": []
  }
 ],
 "metadata": {
  "kernelspec": {
   "display_name": "Python (baytdiffuser_env)",
   "language": "python",
   "name": "baytdiffuser_env"
  },
  "language_info": {
   "codemirror_mode": {
    "name": "ipython",
    "version": 3
   },
   "file_extension": ".py",
   "mimetype": "text/x-python",
   "name": "python",
   "nbconvert_exporter": "python",
   "pygments_lexer": "ipython3",
   "version": "3.10.13"
  }
 },
 "nbformat": 4,
 "nbformat_minor": 5
}
