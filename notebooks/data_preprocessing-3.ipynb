{
 "cells": [
  {
   "cell_type": "code",
   "execution_count": 1,
   "id": "8add59c5-58af-4170-a2d7-5695ce8403e7",
   "metadata": {},
   "outputs": [
    {
     "name": "stderr",
     "output_type": "stream",
     "text": [
      "2024-12-31 03:13:50.621286: E external/local_xla/xla/stream_executor/cuda/cuda_dnn.cc:9261] Unable to register cuDNN factory: Attempting to register factory for plugin cuDNN when one has already been registered\n",
      "2024-12-31 03:13:50.621361: E external/local_xla/xla/stream_executor/cuda/cuda_fft.cc:607] Unable to register cuFFT factory: Attempting to register factory for plugin cuFFT when one has already been registered\n",
      "2024-12-31 03:13:50.623062: E external/local_xla/xla/stream_executor/cuda/cuda_blas.cc:1515] Unable to register cuBLAS factory: Attempting to register factory for plugin cuBLAS when one has already been registered\n",
      "2024-12-31 03:13:50.633851: I tensorflow/core/platform/cpu_feature_guard.cc:182] This TensorFlow binary is optimized to use available CPU instructions in performance-critical operations.\n",
      "To enable the following instructions: SSE4.1 SSE4.2 AVX AVX2 AVX512F AVX512_VNNI FMA, in other operations, rebuild TensorFlow with the appropriate compiler flags.\n"
     ]
    }
   ],
   "source": [
    "import os\n",
    "os.environ['TF_ENABLE_ONEDNN_OPTS'] = '0'\n",
    "import tensorflow as tf\n"
   ]
  },
  {
   "cell_type": "code",
   "execution_count": 2,
   "id": "012cc407-f1b6-448e-9c2d-dba9692a2e9d",
   "metadata": {},
   "outputs": [],
   "source": [
    "import sys\n",
    "import os\n",
    "\n",
    "# Add the scripts folder to the system path\n",
    "scripts_path = os.path.abspath(os.path.join('..', 'scripts/python'))\n",
    "sys.path.append(scripts_path)\n"
   ]
  },
  {
   "cell_type": "code",
   "execution_count": 21,
   "id": "009878c3-3e22-43bd-8aef-35187b1948b8",
   "metadata": {},
   "outputs": [],
   "source": [
    "# data_processing.ipynb\n",
    "\n",
    "# Import necessary libraries\n",
    "import os\n",
    "import pandas as pd\n",
    "import matplotlib.pyplot as plt\n",
    "import seaborn as sns\n",
    "import re\n",
    "import tensorflow as tf\n",
    "\n",
    "from utils import (\n",
    "    AR,\n",
    "    check_percentage_tashkeel,\n",
    "    Clean_data,\n",
    "    separate_token_with_diacritics,\n",
    "    factor_shadda_tanwin,\n",
    "    extract_rhyme_info,\n",
    "    get_verse_length_features,\n",
    "    string_with_tashkeel_vectorizer,\n",
    "    string_with_tashkeel_vectorizer_per_batch,\n",
    "    calculate_meter_accuracy\n",
    ")\n",
    "\n",
    "from transformers import GPT2Tokenizer, TFGPT2LMHeadModel\n",
    "from sklearn.model_selection import train_test_split\n",
    "\n",
    "# Configure visualization settings\n",
    "%matplotlib inline\n",
    "sns.set(style=\"whitegrid\")\n"
   ]
  },
  {
   "cell_type": "code",
   "execution_count": 12,
   "id": "a3e4c9fe-864b-4a60-b6c3-91d97dd8fe9a",
   "metadata": {},
   "outputs": [],
   "source": [
    "# Define file paths\n",
    "original_csv = '../data/raw/apcd/apcd_full.csv'\n",
    "diacritized_csv = '../data/raw/apcd/apcd_full_diacritized.csv'\n",
    "processed_output_dir = '../data/processed_al_tawil'\n",
    "os.makedirs(processed_output_dir, exist_ok=True)"
   ]
  },
  {
   "cell_type": "code",
   "execution_count": 25,
   "id": "d202d8df-195e-4aa7-880a-970a63ef483c",
   "metadata": {},
   "outputs": [],
   "source": [
    "# Define meter weight pattern for الطويل\n",
    "meter_weights = {\n",
    "    'الطويل': 'فعولن مفاعيلن فعولن مفاعلن فعولن مفاعيلن فعولن مفاعلن'\n",
    "}\n"
   ]
  },
  {
   "cell_type": "code",
   "execution_count": 14,
   "id": "024856d3-68ea-42e1-94c1-d1dfed632a6d",
   "metadata": {},
   "outputs": [
    {
     "name": "stdout",
     "output_type": "stream",
     "text": [
      "Loading datasets...\n",
      "Original dataset loaded with 1831770 records.\n",
      "Auto-diacritized dataset loaded with 1831770 records.\n",
      "Comparing Albayt columns and merging datasets...\n"
     ]
    }
   ],
   "source": [
    "# Load the datasets\n",
    "print(\"Loading datasets...\")\n",
    "original_df = pd.read_csv(original_csv, encoding='utf-8-sig')\n",
    "diacritized_df = pd.read_csv(diacritized_csv, encoding='utf-8-sig')\n",
    "print(f\"Original dataset loaded with {len(original_df)} records.\")\n",
    "print(f\"Auto-diacritized dataset loaded with {len(diacritized_df)} records.\")\n",
    "\n",
    "# Ensure both datasets have the same number of records\n",
    "if len(original_df) != len(diacritized_df):\n",
    "    raise ValueError(\"Original and diacritized datasets have different number of records.\")\n",
    "\n",
    "# Compare Albayt columns and merge datasets\n",
    "print(\"Comparing Albayt columns and merging datasets...\")\n"
   ]
  },
  {
   "cell_type": "code",
   "execution_count": 17,
   "id": "bb673846-922e-47c4-b161-ecd17b1033d4",
   "metadata": {},
   "outputs": [
    {
     "name": "stdout",
     "output_type": "stream",
     "text": [
      "Merged Albayt column created.\n"
     ]
    }
   ],
   "source": [
    "def merge_albayt(original, diacritized):\n",
    "    \"\"\"\n",
    "    Compare original and diacritized Albayt columns.\n",
    "    Retain original if there's a conflict; otherwise, use diacritized.\n",
    "    \"\"\"\n",
    "    if original != diacritized:\n",
    "        return original\n",
    "    else:\n",
    "        return diacritized\n",
    "\n",
    "original_df['final_albayt'] = original_df.apply(\n",
    "    lambda row: merge_albayt(row['البيت'], diacritized_df.loc[row.name, 'البيت']),\n",
    "    axis=1\n",
    ")\n",
    "print(\"Merged Albayt column created.\")"
   ]
  },
  {
   "cell_type": "code",
   "execution_count": 18,
   "id": "5c96a5f0-e71f-4c46-afa9-9c3fa575b04c",
   "metadata": {},
   "outputs": [
    {
     "name": "stdout",
     "output_type": "stream",
     "text": [
      "Filtered dataset for meter 'الطويل' has 405378 records.\n",
      "Applying diacritization filtering with threshold 0.4...\n",
      "Filtered dataset size after diacritization filtering: 195750\n"
     ]
    }
   ],
   "source": [
    "\n",
    "# Filter dataset for الطوال meter\n",
    "target_meter = 'الطويل'\n",
    "filtered_df = original_df[original_df['البحر'] == target_meter].copy()\n",
    "print(f\"Filtered dataset for meter '{target_meter}' has {len(filtered_df)} records.\")\n",
    "\n",
    "# Apply diacritization filtering\n",
    "tashkeel_threshold = 0.4\n",
    "print(f\"Applying diacritization filtering with threshold {tashkeel_threshold}...\")\n",
    "filtered_df['passes_diacritization'] = filtered_df['final_albayt'].apply(\n",
    "    lambda x: check_percentage_tashkeel(x, threshold=tashkeel_threshold)\n",
    ")\n",
    "filtered_df = filtered_df[filtered_df['passes_diacritization']].copy()\n",
    "print(f\"Filtered dataset size after diacritization filtering: {len(filtered_df)}\")\n"
   ]
  },
  {
   "cell_type": "code",
   "execution_count": 19,
   "id": "f1758440-45ab-45e2-8b60-61aa6d42fc2e",
   "metadata": {},
   "outputs": [
    {
     "name": "stdout",
     "output_type": "stream",
     "text": [
      "Cleaning the text data...\n",
      "Text data cleaned.\n"
     ]
    }
   ],
   "source": [
    "# Clean the text data\n",
    "print(\"Cleaning the text data...\")\n",
    "filtered_df = Clean_data(filtered_df, max_bayt_len=1000, verse_column_name='final_albayt')\n",
    "print(\"Text data cleaned.\")"
   ]
  },
  {
   "cell_type": "code",
   "execution_count": 22,
   "id": "e602d416-0a97-474c-bee7-4a6a379675d9",
   "metadata": {},
   "outputs": [
    {
     "name": "stdout",
     "output_type": "stream",
     "text": [
      "Calculating meter accuracy for each verse...\n",
      "Meter accuracy calculated and added as 'meter_accuracy' column.\n"
     ]
    }
   ],
   "source": [
    "# Define the meter pattern\n",
    "meter_pattern = meter_weights[target_meter]\n",
    "\n",
    "# Calculate accuracy for each verse\n",
    "print(\"Calculating meter accuracy for each verse...\")\n",
    "filtered_df['meter_accuracy'] = filtered_df['final_albayt'].apply(lambda x: calculate_meter_accuracy(x, meter_pattern))\n",
    "print(\"Meter accuracy calculated and added as 'meter_accuracy' column.\")\n"
   ]
  },
  {
   "cell_type": "code",
   "execution_count": 23,
   "id": "1847390c-0795-42b4-b9cf-25496da1a7e8",
   "metadata": {},
   "outputs": [
    {
     "data": {
      "image/png": "[encoded data removed]",
      "text/plain": [
       "<Figure size 1000x600 with 1 Axes>"
      ]
     },
     "metadata": {},
     "output_type": "display_data"
    }
   ],
   "source": [
    "\n",
    "# Plot the distribution of meter accuracy\n",
    "plt.figure(figsize=(10, 6))\n",
    "sns.histplot(filtered_df['meter_accuracy'], bins=20, kde=True)\n",
    "plt.title(f'Distribution of Meter Accuracy for {target_meter}')\n",
    "plt.xlabel('Meter Accuracy (%)')\n",
    "plt.ylabel('Frequency')\n",
    "plt.show()"
   ]
  },
  {
   "cell_type": "code",
   "execution_count": 24,
   "id": "c6cfb194-56c3-4df5-94d5-11da6f20838b",
   "metadata": {},
   "outputs": [
    {
     "data": {
      "text/html": [
       "<div>\n",
       "<style scoped>\n",
       "    .dataframe tbody tr th:only-of-type {\n",
       "        vertical-align: middle;\n",
       "    }\n",
       "\n",
       "    .dataframe tbody tr th {\n",
       "        vertical-align: top;\n",
       "    }\n",
       "\n",
       "    .dataframe thead th {\n",
       "        text-align: right;\n",
       "    }\n",
       "</style>\n",
       "<table border=\"1\" class=\"dataframe\">\n",
       "  <thead>\n",
       "    <tr style=\"text-align: right;\">\n",
       "      <th></th>\n",
       "      <th>العصر</th>\n",
       "      <th>الشاعر</th>\n",
       "      <th>الديوان</th>\n",
       "      <th>القافية</th>\n",
       "      <th>البحر</th>\n",
       "      <th>الشطر الايسر</th>\n",
       "      <th>الشطر الايمن</th>\n",
       "      <th>البيت</th>\n",
       "      <th>final_albayt</th>\n",
       "      <th>passes_diacritization</th>\n",
       "      <th>text</th>\n",
       "      <th>meter_accuracy</th>\n",
       "    </tr>\n",
       "  </thead>\n",
       "  <tbody>\n",
       "    <tr>\n",
       "      <th>0</th>\n",
       "      <td>قبل الإسلام</td>\n",
       "      <td>عمرو بنِ قُمَيئَة</td>\n",
       "      <td>الديوان الرئيسي</td>\n",
       "      <td>د</td>\n",
       "      <td>الطويل</td>\n",
       "      <td>وَأَن تَجمَعا شَملي وَتَنتَظِرا غَدا</td>\n",
       "      <td>خَليلَيَّ لا تَستَعجِلا أَن تَزَوَّدا</td>\n",
       "      <td>خَليلَيَّ لا تَستَعجِلا أَن تَزَوَّدا    وَأَن...</td>\n",
       "      <td>خَليلَيَّ لا تَستَعجِلا أَن تَزَوَّدا    وَأَن...</td>\n",
       "      <td>True</td>\n",
       "      <td>خَليلَيْيَ لا تَستَعجِلا ءَن تَزَوْوَدا    وَء...</td>\n",
       "      <td>0.0</td>\n",
       "    </tr>\n",
       "    <tr>\n",
       "      <th>1</th>\n",
       "      <td>قبل الإسلام</td>\n",
       "      <td>عمرو بنِ قُمَيئَة</td>\n",
       "      <td>الديوان الرئيسي</td>\n",
       "      <td>د</td>\n",
       "      <td>الطويل</td>\n",
       "      <td>وَلا سُرعَتي يَوماً بِسابِقَةِ الرَدى</td>\n",
       "      <td>فَما لَبَثٌ يَوماً بِسابِقٍ مَغنَمٍ</td>\n",
       "      <td>فَما لَبَثٌ يَوماً بِسابِقٍ مَغنَمٍ    وَلا سُ...</td>\n",
       "      <td>فَما لَبَثٌ يَوماً بِسابِقٍ مَغنَمٍ    وَلا سُ...</td>\n",
       "      <td>True</td>\n",
       "      <td>فَما لَبَثُنْ يَومنْ بِسابِقِنْ مَغنَمِنْ    و...</td>\n",
       "      <td>0.0</td>\n",
       "    </tr>\n",
       "    <tr>\n",
       "      <th>2</th>\n",
       "      <td>قبل الإسلام</td>\n",
       "      <td>عمرو بنِ قُمَيئَة</td>\n",
       "      <td>الديوان الرئيسي</td>\n",
       "      <td>د</td>\n",
       "      <td>الطويل</td>\n",
       "      <td>وَتَستَوجِبا مَنّاً عَلَيَّ وَتُحمَدا</td>\n",
       "      <td>وَإِن تُنظِراني اليَومَ أَقضِ لُبانَةً</td>\n",
       "      <td>وَإِن تُنظِراني اليَومَ أَقضِ لُبانَةً    وَتَ...</td>\n",
       "      <td>وَإِن تُنظِراني اليَومَ أَقضِ لُبانَةً    وَتَ...</td>\n",
       "      <td>True</td>\n",
       "      <td>وَءِن تُنظِراني اليَومَ ءَقضِ لُبانَتَنْ    وَ...</td>\n",
       "      <td>0.0</td>\n",
       "    </tr>\n",
       "    <tr>\n",
       "      <th>3</th>\n",
       "      <td>قبل الإسلام</td>\n",
       "      <td>عمرو بنِ قُمَيئَة</td>\n",
       "      <td>الديوان الرئيسي</td>\n",
       "      <td>د</td>\n",
       "      <td>الطويل</td>\n",
       "      <td>تُؤامِرُني سِرّاً لِأَصرِمَ مَرثَدا</td>\n",
       "      <td>لَعَمرُكَ ما نَفسٌ بِجِدٍ رَشيدَةٍ</td>\n",
       "      <td>لَعَمرُكَ ما نَفسٌ بِجِدٍ رَشيدَةٍ    تُؤامِرُ...</td>\n",
       "      <td>لَعَمرُكَ ما نَفسٌ بِجِدٍ رَشيدَةٍ    تُؤامِرُ...</td>\n",
       "      <td>True</td>\n",
       "      <td>لَعَمرُكَ ما نَفسُنْ بِجِدِنْ رَشيدَتِنْ    تُ...</td>\n",
       "      <td>0.0</td>\n",
       "    </tr>\n",
       "    <tr>\n",
       "      <th>4</th>\n",
       "      <td>قبل الإسلام</td>\n",
       "      <td>عمرو بنِ قُمَيئَة</td>\n",
       "      <td>الديوان الرئيسي</td>\n",
       "      <td>د</td>\n",
       "      <td>الطويل</td>\n",
       "      <td>وَأَفرَعَ في لَومي مِراراً وَأَصعَدا</td>\n",
       "      <td>وَإِن ظَهَرَت مِنهُ قَوارِصُ جَمَّةٌ</td>\n",
       "      <td>وَإِن ظَهَرَت مِنهُ قَوارِصُ جَمَّةٌ    وَأَفر...</td>\n",
       "      <td>وَإِن ظَهَرَت مِنهُ قَوارِصُ جَمَّةٌ    وَأَفر...</td>\n",
       "      <td>True</td>\n",
       "      <td>وَءِن ظَهَرَت مِنهُ قَوارِصُ جَمْمَتُنْ    وَء...</td>\n",
       "      <td>0.0</td>\n",
       "    </tr>\n",
       "  </tbody>\n",
       "</table>\n",
       "</div>"
      ],
      "text/plain": [
       "         العصر             الشاعر          الديوان القافية   البحر  \\\n",
       "0  قبل الإسلام  عمرو بنِ قُمَيئَة  الديوان الرئيسي       د  الطويل   \n",
       "1  قبل الإسلام  عمرو بنِ قُمَيئَة  الديوان الرئيسي       د  الطويل   \n",
       "2  قبل الإسلام  عمرو بنِ قُمَيئَة  الديوان الرئيسي       د  الطويل   \n",
       "3  قبل الإسلام  عمرو بنِ قُمَيئَة  الديوان الرئيسي       د  الطويل   \n",
       "4  قبل الإسلام  عمرو بنِ قُمَيئَة  الديوان الرئيسي       د  الطويل   \n",
       "\n",
       "                            الشطر الايسر  \\\n",
       "0   وَأَن تَجمَعا شَملي وَتَنتَظِرا غَدا   \n",
       "1  وَلا سُرعَتي يَوماً بِسابِقَةِ الرَدى   \n",
       "2  وَتَستَوجِبا مَنّاً عَلَيَّ وَتُحمَدا   \n",
       "3    تُؤامِرُني سِرّاً لِأَصرِمَ مَرثَدا   \n",
       "4   وَأَفرَعَ في لَومي مِراراً وَأَصعَدا   \n",
       "\n",
       "                             الشطر الايمن  \\\n",
       "0   خَليلَيَّ لا تَستَعجِلا أَن تَزَوَّدا   \n",
       "1     فَما لَبَثٌ يَوماً بِسابِقٍ مَغنَمٍ   \n",
       "2  وَإِن تُنظِراني اليَومَ أَقضِ لُبانَةً   \n",
       "3      لَعَمرُكَ ما نَفسٌ بِجِدٍ رَشيدَةٍ   \n",
       "4    وَإِن ظَهَرَت مِنهُ قَوارِصُ جَمَّةٌ   \n",
       "\n",
       "                                               البيت  \\\n",
       "0  خَليلَيَّ لا تَستَعجِلا أَن تَزَوَّدا    وَأَن...   \n",
       "1  فَما لَبَثٌ يَوماً بِسابِقٍ مَغنَمٍ    وَلا سُ...   \n",
       "2  وَإِن تُنظِراني اليَومَ أَقضِ لُبانَةً    وَتَ...   \n",
       "3  لَعَمرُكَ ما نَفسٌ بِجِدٍ رَشيدَةٍ    تُؤامِرُ...   \n",
       "4  وَإِن ظَهَرَت مِنهُ قَوارِصُ جَمَّةٌ    وَأَفر...   \n",
       "\n",
       "                                        final_albayt  passes_diacritization  \\\n",
       "0  خَليلَيَّ لا تَستَعجِلا أَن تَزَوَّدا    وَأَن...                   True   \n",
       "1  فَما لَبَثٌ يَوماً بِسابِقٍ مَغنَمٍ    وَلا سُ...                   True   \n",
       "2  وَإِن تُنظِراني اليَومَ أَقضِ لُبانَةً    وَتَ...                   True   \n",
       "3  لَعَمرُكَ ما نَفسٌ بِجِدٍ رَشيدَةٍ    تُؤامِرُ...                   True   \n",
       "4  وَإِن ظَهَرَت مِنهُ قَوارِصُ جَمَّةٌ    وَأَفر...                   True   \n",
       "\n",
       "                                                text  meter_accuracy  \n",
       "0  خَليلَيْيَ لا تَستَعجِلا ءَن تَزَوْوَدا    وَء...             0.0  \n",
       "1  فَما لَبَثُنْ يَومنْ بِسابِقِنْ مَغنَمِنْ    و...             0.0  \n",
       "2  وَءِن تُنظِراني اليَومَ ءَقضِ لُبانَتَنْ    وَ...             0.0  \n",
       "3  لَعَمرُكَ ما نَفسُنْ بِجِدِنْ رَشيدَتِنْ    تُ...             0.0  \n",
       "4  وَءِن ظَهَرَت مِنهُ قَوارِصُ جَمْمَتُنْ    وَء...             0.0  "
      ]
     },
     "execution_count": 24,
     "metadata": {},
     "output_type": "execute_result"
    }
   ],
   "source": [
    "filtered_df.head()"
   ]
  },
  {
   "cell_type": "code",
   "execution_count": null,
   "id": "440fc001-985f-494a-b68c-13adaa8cc9d7",
   "metadata": {},
   "outputs": [],
   "source": [
    " Save the processed dataset\n",
    "print(\"Saving the processed dataset...\")\n",
    "columns_to_save = [\n",
    "    'final_albayt', 'البحر', 'poet', 'era', 'verse_length', 'meter_accuracy'\n",
    "]\n",
    "processed_df = filtered_df[columns_to_save].rename(columns={\n",
    "    'final_albayt': 'text',\n",
    "    'البحر': 'meter',\n",
    "    'poet': 'poet',\n",
    "    'era': 'era',\n",
    "    'verse_length': 'verse_length',\n",
    "    'meter_accuracy': 'meter_accuracy'\n",
    "})\n",
    "output_csv = os.path.join(processed_output_dir, 'processed_al_tawil.csv')\n",
    "processed_df.to_csv(output_csv, index=False, encoding='utf-8-sig')\n",
    "print(f\"Processed dataset saved to {output_csv}\")"
   ]
  }
 ],
 "metadata": {
  "kernelspec": {
   "display_name": "Python 3 (ipykernel)",
   "language": "python",
   "name": "python3"
  },
  "language_info": {
   "codemirror_mode": {
    "name": "ipython",
    "version": 3
   },
   "file_extension": ".py",
   "mimetype": "text/x-python",
   "name": "python",
   "nbconvert_exporter": "python",
   "pygments_lexer": "ipython3",
   "version": "3.9.18"
  }
 },
 "nbformat": 4,
 "nbformat_minor": 5
}
