{
 "cells": [
  {
   "cell_type": "code",
   "execution_count": 1,
   "id": "1c38c4f0-7e84-43ef-ab77-1bf8550d4006",
   "metadata": {},
   "outputs": [
    {
     "name": "stderr",
     "output_type": "stream",
     "text": [
      "2024-12-31 22:45:03.454547: I tensorflow/core/util/port.cc:113] oneDNN custom operations are on. You may see slightly different numerical results due to floating-point round-off errors from different computation orders. To turn them off, set the environment variable `TF_ENABLE_ONEDNN_OPTS=0`.\n",
      "2024-12-31 22:45:03.516442: E external/local_xla/xla/stream_executor/cuda/cuda_dnn.cc:9261] Unable to register cuDNN factory: Attempting to register factory for plugin cuDNN when one has already been registered\n",
      "2024-12-31 22:45:03.516489: E external/local_xla/xla/stream_executor/cuda/cuda_fft.cc:607] Unable to register cuFFT factory: Attempting to register factory for plugin cuFFT when one has already been registered\n",
      "2024-12-31 22:45:03.517973: E external/local_xla/xla/stream_executor/cuda/cuda_blas.cc:1515] Unable to register cuBLAS factory: Attempting to register factory for plugin cuBLAS when one has already been registered\n",
      "2024-12-31 22:45:03.528432: I tensorflow/core/platform/cpu_feature_guard.cc:182] This TensorFlow binary is optimized to use available CPU instructions in performance-critical operations.\n",
      "To enable the following instructions: SSE4.1 SSE4.2 AVX AVX2 AVX512F AVX512_VNNI FMA, in other operations, rebuild TensorFlow with the appropriate compiler flags.\n"
     ]
    }
   ],
   "source": [
    "import os\n",
    "import tensorflow as tf\n",
    "from transformers import AutoTokenizer, TFAutoModel\n",
    "from tensorflow.keras.callbacks import ModelCheckpoint, EarlyStopping, TensorBoard\n",
    "from tensorflow.keras.mixed_precision import set_global_policy"
   ]
  },
  {
   "cell_type": "code",
   "execution_count": 2,
   "id": "8852ac6c-5891-47f0-a665-778e88969518",
   "metadata": {},
   "outputs": [
    {
     "name": "stdout",
     "output_type": "stream",
     "text": [
      "INFO:tensorflow:Mixed precision compatibility check (mixed_float16): OK\n",
      "Your GPU will likely run quickly with dtype policy mixed_float16 as it has compute capability of at least 7.0. Your GPU: NVIDIA GeForce RTX 3070 Laptop GPU, compute capability 8.6\n",
      "Mixed precision enabled with policy: mixed_float16\n"
     ]
    },
    {
     "name": "stderr",
     "output_type": "stream",
     "text": [
      "2024-12-31 22:27:19.235155: I external/local_xla/xla/stream_executor/cuda/cuda_executor.cc:887] could not open file to read NUMA node: /sys/bus/pci/devices/0000:01:00.0/numa_node\n",
      "Your kernel may have been built without NUMA support.\n",
      "2024-12-31 22:27:19.327355: I external/local_xla/xla/stream_executor/cuda/cuda_executor.cc:887] could not open file to read NUMA node: /sys/bus/pci/devices/0000:01:00.0/numa_node\n",
      "Your kernel may have been built without NUMA support.\n",
      "2024-12-31 22:27:19.327436: I external/local_xla/xla/stream_executor/cuda/cuda_executor.cc:887] could not open file to read NUMA node: /sys/bus/pci/devices/0000:01:00.0/numa_node\n",
      "Your kernel may have been built without NUMA support.\n",
      "2024-12-31 22:27:19.328442: I external/local_xla/xla/stream_executor/cuda/cuda_executor.cc:887] could not open file to read NUMA node: /sys/bus/pci/devices/0000:01:00.0/numa_node\n",
      "Your kernel may have been built without NUMA support.\n"
     ]
    }
   ],
   "source": [
    "# Enable mixed precision\n",
    "policy = 'mixed_float16'\n",
    "set_global_policy(policy)\n",
    "print(f\"Mixed precision enabled with policy: {policy}\")\n",
    "\n",
    "gpus = tf.config.list_physical_devices('GPU')\n",
    "if gpus:\n",
    "    try:\n",
    "        for gpu in gpus:\n",
    "            tf.config.experimental.set_virtual_device_configuration(\n",
    "                gpu,\n",
    "                [tf.config.experimental.VirtualDeviceConfiguration(memory_limit=4096)]  # 4GB limit\n",
    "            )\n",
    "    except RuntimeError as e:\n",
    "        print(f\"Failed to set virtual device configuration: {e}\")"
   ]
  },
  {
   "cell_type": "code",
   "execution_count": 2,
   "id": "2635d441-e747-4795-b2bf-ad8390c628d9",
   "metadata": {},
   "outputs": [],
   "source": [
    "import os\n",
    "os.environ['TF_ENABLE_ONEDNN_OPTS'] = '0'\n",
    "import tensorflow as tf\n"
   ]
  },
  {
   "cell_type": "code",
   "execution_count": 3,
   "id": "d2e3f7bd-4095-4301-8bf6-35669028f7a5",
   "metadata": {},
   "outputs": [],
   "source": [
    "import sys\n",
    "# Add the scripts folder to the system path\n",
    "scripts_path = os.path.abspath(os.path.join('..', 'scripts/python'))\n",
    "sys.path.append(scripts_path)\n"
   ]
  },
  {
   "cell_type": "code",
   "execution_count": 4,
   "id": "c9a52dfa-6254-4a81-a973-39a8437cfe2f",
   "metadata": {},
   "outputs": [],
   "source": [
    "# Import necessary libraries\n",
    "import pandas as pd\n",
    "import numpy as np\n",
    "import matplotlib.pyplot as plt\n",
    "from sklearn.model_selection import train_test_split\n",
    "import tensorflow as tf\n",
    "# Enable mixed precision training\n",
    "from tensorflow.keras.mixed_precision import set_global_policy\n",
    "from utils import (\n",
    "    create_transformer_for_classical_style,\n",
    "    train_transformer_for_classical_style,\n",
    "    create_diffusion_model,\n",
    "    train_diffusion_for_classical_style,\n",
    "    generate_classical_poem\n",
    ")\n",
    "\n",
    "# Configure visualization settings\n",
    "%matplotlib inline\n"
   ]
  },
  {
   "cell_type": "code",
   "execution_count": 5,
   "id": "caa86b70-17cd-46fd-a514-7bc007e4d27c",
   "metadata": {},
   "outputs": [
    {
     "name": "stdout",
     "output_type": "stream",
     "text": [
      "Loading processed data...\n",
      "Processed data loaded with 103441 records.\n",
      "Using subset for testing...\n",
      "Training records: 100; Validation records: 20\n"
     ]
    }
   ],
   "source": [
    "\n",
    "# Define Paths\n",
    "processed_data_path = '../data/processed/processed_taweel_data.csv'\n",
    "diffusion_output_dir = '../models/diffusion'\n",
    "transformer_output_dir = '../models/transformers'\n",
    "\n",
    "os.makedirs(diffusion_output_dir, exist_ok=True)\n",
    "os.makedirs(transformer_output_dir, exist_ok=True)\n",
    "\n",
    "# Load and Inspect Data\n",
    "print(\"Loading processed data...\")\n",
    "processed_df = pd.read_csv(processed_data_path, encoding='utf-8-sig')\n",
    "print(f\"Processed data loaded with {len(processed_df)} records.\")\n",
    "\n",
    "# Subset for Quick Testing (Optional)\n",
    "subset = True\n",
    "if subset:\n",
    "    print(\"Using subset for testing...\")\n",
    "    train_df, valid_df = train_test_split(processed_df, test_size=0.2, random_state=42)\n",
    "    train_subset = train_df.sample(n=100, random_state=42)  # Adjust as needed\n",
    "    valid_subset = valid_df.sample(n=20, random_state=42)\n",
    "else:\n",
    "    train_df, valid_df = train_test_split(processed_df, test_size=0.2, random_state=42)\n",
    "    train_subset, valid_subset = train_df, valid_df\n",
    "\n",
    "print(f\"Training records: {len(train_subset)}; Validation records: {len(valid_subset)}\")\n"
   ]
  },
  {
   "cell_type": "code",
   "execution_count": 9,
   "id": "73499487-b96e-4a40-9aa9-cd61b291ebee",
   "metadata": {
    "scrolled": true
   },
   "outputs": [
    {
     "name": "stdout",
     "output_type": "stream",
     "text": [
      "Training Transformer in auto-encoder style for classical poems...\n"
     ]
    },
    {
     "name": "stderr",
     "output_type": "stream",
     "text": [
      "All PyTorch model weights were used when initializing TFT5ForConditionalGeneration.\n",
      "\n",
      "All the weights of TFT5ForConditionalGeneration were initialized from the PyTorch model.\n",
      "If your task is similar to the task the model of the checkpoint was trained on, you can already use TFT5ForConditionalGeneration for predictions without further training.\n"
     ]
    },
    {
     "name": "stdout",
     "output_type": "stream",
     "text": [
      "Epoch 1/3\n",
      "40/40 [==============================] - 63s 378ms/step - loss: 4.6997 - accuracy: 0.5715 - val_loss: 0.1262 - val_accuracy: 0.9844\n",
      "Epoch 2/3\n",
      "40/40 [==============================] - 11s 266ms/step - loss: 0.3111 - accuracy: 0.9475 - val_loss: 0.1435 - val_accuracy: 0.9844\n",
      "Epoch 3/3\n",
      "40/40 [==============================] - 9s 229ms/step - loss: 0.1702 - accuracy: 0.9737 - val_loss: 0.1183 - val_accuracy: 0.9844\n",
      "Transformer training complete.\n"
     ]
    }
   ],
   "source": [
    "# ------------------------ #\n",
    "# 1. Train the Transformer  #\n",
    "# ------------------------ #\n",
    "\n",
    "print(\"Training Transformer in auto-encoder style for classical poems...\")\n",
    "tokenizer_name = \"t5-small\"  # Use a Seq2Seq model\n",
    "tok = AutoTokenizer.from_pretrained(tokenizer_name)\n",
    "\n",
    "# Create the Transformer Model\n",
    "transformer_model = create_transformer_for_classical_style(model_name=tokenizer_name, max_length=128)\n",
    "\n",
    "# Prepare Training Data\n",
    "sub_df = train_subset[['text']].copy()\n",
    "\n",
    "# Train the Transformer\n",
    "trained_transformer, hist = train_transformer_for_classical_style(\n",
    "    df_classical=sub_df,\n",
    "    tokenizer=tok,\n",
    "    model=transformer_model,\n",
    "    max_length=128,\n",
    "    epochs=3,           # Adjust epochs as needed\n",
    "    batch_size=2,       # Adjust batch size based on GPU memory\n",
    "    output_dir=transformer_output_dir\n",
    ")\n",
    "print(\"Transformer training complete.\")"
   ]
  },
  {
   "cell_type": "code",
   "execution_count": 14,
   "id": "b38aad4f-6034-45c2-be9b-be1c78119356",
   "metadata": {},
   "outputs": [
    {
     "name": "stdout",
     "output_type": "stream",
     "text": [
      "Final Transformer model saved to ../models/transformers/auto_encoder_transformer_model_final.h5\n",
      "Tokenizer saved to ../models/transformers/tokenizer\n"
     ]
    }
   ],
   "source": [
    "# Save the final Transformer model\n",
    "final_model_path = os.path.join(transformer_output_dir, \"auto_encoder_transformer_model_final.h5\")\n",
    "trained_transformer.save_weights(final_model_path)\n",
    "print(f\"Final Transformer model saved to {final_model_path}\")\n",
    "\n",
    "# Save the tokenizer correctly\n",
    "tokenizer_output_path = os.path.join(transformer_output_dir, \"tokenizer\")\n",
    "tok.save_pretrained(tokenizer_output_path)\n",
    "print(f\"Tokenizer saved to {tokenizer_output_path}\")"
   ]
  },
  {
   "cell_type": "code",
   "execution_count": 10,
   "id": "f0c23064-526d-4447-be46-b76f986d173e",
   "metadata": {},
   "outputs": [
    {
     "data": {
      "image/png": "[encoded data removed]",
      "text/plain": [
       "<Figure size 1000x400 with 1 Axes>"
      ]
     },
     "metadata": {},
     "output_type": "display_data"
    }
   ],
   "source": [
    "# Plot Transformer Training History\n",
    "plt.figure(figsize=(10, 4))\n",
    "plt.plot(hist.history['loss'], label='Train Loss')\n",
    "plt.plot(hist.history['val_loss'], label='Validation Loss')\n",
    "plt.title(\"Transformer Auto-Encoder Training Loss\")\n",
    "plt.xlabel(\"Epoch\")\n",
    "plt.ylabel(\"Loss\")\n",
    "plt.legend()\n",
    "plt.show()"
   ]
  },
  {
   "cell_type": "code",
   "execution_count": 11,
   "id": "f451c1c7-0213-4e9e-a64a-baa01bf25fe0",
   "metadata": {},
   "outputs": [
    {
     "data": {
      "image/png": "[encoded data removed]",
      "text/plain": [
       "<Figure size 1000x400 with 1 Axes>"
      ]
     },
     "metadata": {},
     "output_type": "display_data"
    }
   ],
   "source": [
    "plt.figure(figsize=(10, 4))\n",
    "plt.plot(hist.history['accuracy'], label='Train Accuracy')\n",
    "plt.plot(hist.history['val_accuracy'], label='Validation Accuracy')\n",
    "plt.title(\"Transformer Auto-Encoder Training Accuracy\")\n",
    "plt.xlabel(\"Epoch\")\n",
    "plt.ylabel(\"Accuracy\")\n",
    "plt.legend()\n",
    "plt.show()\n"
   ]
  },
  {
   "cell_type": "code",
   "execution_count": 7,
   "id": "c726adff-22d5-4fd3-8073-465d5e98e826",
   "metadata": {},
   "outputs": [
    {
     "name": "stdout",
     "output_type": "stream",
     "text": [
      "Creating diffusion model...\n",
      "Model: \"DiffusionModel\"\n",
      "__________________________________________________________________________________________________\n",
      " Layer (type)                Output Shape                 Param #   Connected to                  \n",
      "==================================================================================================\n",
      " diffusion_input (InputLaye  [(None, 128, 8)]             0         []                            \n",
      " r)                                                                                               \n",
      "                                                                                                  \n",
      " batch_normalization_9 (Bat  (None, 128, 8)               32        ['diffusion_input[0][0]']     \n",
      " chNormalization)                                                                                 \n",
      "                                                                                                  \n",
      " multi_head_attention_4 (Mu  (None, 128, 8)               17928     ['batch_normalization_9[0][0]'\n",
      " ltiHeadAttention)                                                  , 'batch_normalization_9[0][0]\n",
      "                                                                    ']                            \n",
      "                                                                                                  \n",
      " add_8 (Add)                 (None, 128, 8)               0         ['batch_normalization_9[0][0]'\n",
      "                                                                    , 'multi_head_attention_4[0][0\n",
      "                                                                    ]']                           \n",
      "                                                                                                  \n",
      " batch_normalization_10 (Ba  (None, 128, 8)               32        ['add_8[0][0]']               \n",
      " tchNormalization)                                                                                \n",
      "                                                                                                  \n",
      " sequential_4 (Sequential)   (None, 128, 8)               8712      ['batch_normalization_10[0][0]\n",
      "                                                                    ']                            \n",
      "                                                                                                  \n",
      " add_9 (Add)                 (None, 128, 8)               0         ['batch_normalization_10[0][0]\n",
      "                                                                    ',                            \n",
      "                                                                     'sequential_4[0][0]']        \n",
      "                                                                                                  \n",
      " batch_normalization_11 (Ba  (None, 128, 8)               32        ['add_9[0][0]']               \n",
      " tchNormalization)                                                                                \n",
      "                                                                                                  \n",
      " multi_head_attention_5 (Mu  (None, 128, 8)               17928     ['batch_normalization_11[0][0]\n",
      " ltiHeadAttention)                                                  ',                            \n",
      "                                                                     'batch_normalization_11[0][0]\n",
      "                                                                    ']                            \n",
      "                                                                                                  \n",
      " add_10 (Add)                (None, 128, 8)               0         ['batch_normalization_11[0][0]\n",
      "                                                                    ',                            \n",
      "                                                                     'multi_head_attention_5[0][0]\n",
      "                                                                    ']                            \n",
      "                                                                                                  \n",
      " batch_normalization_12 (Ba  (None, 128, 8)               32        ['add_10[0][0]']              \n",
      " tchNormalization)                                                                                \n",
      "                                                                                                  \n",
      " sequential_5 (Sequential)   (None, 128, 8)               8712      ['batch_normalization_12[0][0]\n",
      "                                                                    ']                            \n",
      "                                                                                                  \n",
      " add_11 (Add)                (None, 128, 8)               0         ['batch_normalization_12[0][0]\n",
      "                                                                    ',                            \n",
      "                                                                     'sequential_5[0][0]']        \n",
      "                                                                                                  \n",
      " batch_normalization_13 (Ba  (None, 128, 8)               32        ['add_11[0][0]']              \n",
      " tchNormalization)                                                                                \n",
      "                                                                                                  \n",
      " multi_head_attention_6 (Mu  (None, 128, 8)               17928     ['batch_normalization_13[0][0]\n",
      " ltiHeadAttention)                                                  ',                            \n",
      "                                                                     'batch_normalization_13[0][0]\n",
      "                                                                    ']                            \n",
      "                                                                                                  \n",
      " add_12 (Add)                (None, 128, 8)               0         ['batch_normalization_13[0][0]\n",
      "                                                                    ',                            \n",
      "                                                                     'multi_head_attention_6[0][0]\n",
      "                                                                    ']                            \n",
      "                                                                                                  \n",
      " batch_normalization_14 (Ba  (None, 128, 8)               32        ['add_12[0][0]']              \n",
      " tchNormalization)                                                                                \n",
      "                                                                                                  \n",
      " sequential_6 (Sequential)   (None, 128, 8)               8712      ['batch_normalization_14[0][0]\n",
      "                                                                    ']                            \n",
      "                                                                                                  \n",
      " add_13 (Add)                (None, 128, 8)               0         ['batch_normalization_14[0][0]\n",
      "                                                                    ',                            \n",
      "                                                                     'sequential_6[0][0]']        \n",
      "                                                                                                  \n",
      " batch_normalization_15 (Ba  (None, 128, 8)               32        ['add_13[0][0]']              \n",
      " tchNormalization)                                                                                \n",
      "                                                                                                  \n",
      " multi_head_attention_7 (Mu  (None, 128, 8)               17928     ['batch_normalization_15[0][0]\n",
      " ltiHeadAttention)                                                  ',                            \n",
      "                                                                     'batch_normalization_15[0][0]\n",
      "                                                                    ']                            \n",
      "                                                                                                  \n",
      " add_14 (Add)                (None, 128, 8)               0         ['batch_normalization_15[0][0]\n",
      "                                                                    ',                            \n",
      "                                                                     'multi_head_attention_7[0][0]\n",
      "                                                                    ']                            \n",
      "                                                                                                  \n",
      " batch_normalization_16 (Ba  (None, 128, 8)               32        ['add_14[0][0]']              \n",
      " tchNormalization)                                                                                \n",
      "                                                                                                  \n",
      " sequential_7 (Sequential)   (None, 128, 8)               8712      ['batch_normalization_16[0][0]\n",
      "                                                                    ']                            \n",
      "                                                                                                  \n",
      " add_15 (Add)                (None, 128, 8)               0         ['batch_normalization_16[0][0]\n",
      "                                                                    ',                            \n",
      "                                                                     'sequential_7[0][0]']        \n",
      "                                                                                                  \n",
      " batch_normalization_17 (Ba  (None, 128, 8)               32        ['add_15[0][0]']              \n",
      " tchNormalization)                                                                                \n",
      "                                                                                                  \n",
      " dense_17 (Dense)            (None, 128, 8)               72        ['batch_normalization_17[0][0]\n",
      "                                                                    ']                            \n",
      "                                                                                                  \n",
      "==================================================================================================\n",
      "Total params: 106920 (417.66 KB)\n",
      "Trainable params: 106776 (417.09 KB)\n",
      "Non-trainable params: 144 (576.00 Byte)\n",
      "__________________________________________________________________________________________________\n",
      "Training diffusion model...\n",
      "X_train shape: (80, 128, 8)\n",
      "Y_train shape: (80, 128, 8)\n",
      "X_val shape: (20, 128, 8)\n",
      "Y_val shape: (20, 128, 8)\n",
      "Epoch 1/5\n"
     ]
    },
    {
     "name": "stderr",
     "output_type": "stream",
     "text": [
      "2024-12-31 22:28:28.281266: I external/local_xla/xla/service/service.cc:168] XLA service 0x7f22f9983400 initialized for platform CUDA (this does not guarantee that XLA will be used). Devices:\n",
      "2024-12-31 22:28:28.281359: I external/local_xla/xla/service/service.cc:176]   StreamExecutor device (0): NVIDIA GeForce RTX 3070 Laptop GPU, Compute Capability 8.6\n",
      "2024-12-31 22:28:28.291092: I tensorflow/compiler/mlir/tensorflow/utils/dump_mlir_util.cc:269] disabling MLIR crash reproducer, set env var `MLIR_CRASH_REPRODUCER_DIRECTORY` to enable.\n",
      "2024-12-31 22:28:28.318623: I external/local_xla/xla/stream_executor/cuda/cuda_dnn.cc:454] Loaded cuDNN version 8902\n",
      "WARNING: All log messages before absl::InitializeLog() is called are written to STDERR\n",
      "I0000 00:00:1735702108.420666   53436 device_compiler.h:186] Compiled cluster using XLA!  This line is logged at most once for the lifetime of the process.\n"
     ]
    },
    {
     "name": "stdout",
     "output_type": "stream",
     "text": [
      " 9/10 [==========================>...] - ETA: 0s - loss: 1.3107 - mae: 0.6838  \n",
      "Epoch 1: val_mae improved from inf to 1.66082, saving model to ../models/diffusion/diff_ckpt\n",
      "INFO:tensorflow:Assets written to: ../models/diffusion/diff_ckpt/assets\n"
     ]
    },
    {
     "name": "stderr",
     "output_type": "stream",
     "text": [
      "INFO:tensorflow:Assets written to: ../models/diffusion/diff_ckpt/assets\n"
     ]
    },
    {
     "name": "stdout",
     "output_type": "stream",
     "text": [
      "10/10 [==============================] - 24s 1s/step - loss: 1.2556 - mae: 0.6621 - val_loss: 4.8416 - val_mae: 1.6608\n",
      "Epoch 2/5\n",
      "10/10 [==============================] - ETA: 0s - loss: 0.6343 - mae: 0.4827\n",
      "Epoch 2: val_mae did not improve from 1.66082\n",
      "10/10 [==============================] - 1s 61ms/step - loss: 0.6343 - mae: 0.4827 - val_loss: 6.6573 - val_mae: 2.2378\n",
      "Epoch 3/5\n",
      " 9/10 [==========================>...] - ETA: 0s - loss: 0.4869 - mae: 0.4406\n",
      "Epoch 3: val_mae improved from 1.66082 to 1.47391, saving model to ../models/diffusion/diff_ckpt\n",
      "INFO:tensorflow:Assets written to: ../models/diffusion/diff_ckpt/assets\n"
     ]
    },
    {
     "name": "stderr",
     "output_type": "stream",
     "text": [
      "INFO:tensorflow:Assets written to: ../models/diffusion/diff_ckpt/assets\n"
     ]
    },
    {
     "name": "stdout",
     "output_type": "stream",
     "text": [
      "10/10 [==============================] - 8s 872ms/step - loss: 0.4892 - mae: 0.4412 - val_loss: 3.1218 - val_mae: 1.4739\n",
      "Epoch 4/5\n",
      " 9/10 [==========================>...] - ETA: 0s - loss: 0.4266 - mae: 0.3934\n",
      "Epoch 4: val_mae improved from 1.47391 to 1.07671, saving model to ../models/diffusion/diff_ckpt\n",
      "INFO:tensorflow:Assets written to: ../models/diffusion/diff_ckpt/assets\n"
     ]
    },
    {
     "name": "stderr",
     "output_type": "stream",
     "text": [
      "INFO:tensorflow:Assets written to: ../models/diffusion/diff_ckpt/assets\n"
     ]
    },
    {
     "name": "stdout",
     "output_type": "stream",
     "text": [
      "10/10 [==============================] - 9s 985ms/step - loss: 0.4246 - mae: 0.3919 - val_loss: 1.9593 - val_mae: 1.0767\n",
      "Epoch 5/5\n",
      "10/10 [==============================] - ETA: 0s - loss: 0.3664 - mae: 0.3609\n",
      "Epoch 5: val_mae did not improve from 1.07671\n",
      "10/10 [==============================] - 1s 66ms/step - loss: 0.3664 - mae: 0.3609 - val_loss: 2.0879 - val_mae: 1.1107\n",
      "Diffusion model training complete.\n"
     ]
    }
   ],
   "source": [
    "# ------------------------ #\n",
    "# 2. Train the Diffusion    #\n",
    "# ------------------------ #\n",
    "\n",
    "import numpy as np\n",
    "\n",
    "print(\"Creating diffusion model...\")\n",
    "# Define Diffusion Model Parameters\n",
    "tokenizer_name = \"t5-small\"  # Use a Seq2Seq model\n",
    "tok = AutoTokenizer.from_pretrained(tokenizer_name)\n",
    "\n",
    "max_length = 128\n",
    "max_bayt_len = 128\n",
    "encoding_dim = 8\n",
    "diffusion_model_params = {\n",
    "    'num_transformer_blocks': 4,\n",
    "    'num_heads': 8,\n",
    "    'key_dim': 64,\n",
    "    'ffn_units': 512\n",
    "}\n",
    "\n",
    "# Create Diffusion Model\n",
    "input_shape = (max_bayt_len, encoding_dim)\n",
    "diffusion_model = create_diffusion_model(input_shape, diffusion_model_params)\n",
    "\n",
    "# Train Diffusion Model\n",
    "batch_size = 8\n",
    "epochs = 5\n",
    "print(\"Training diffusion model...\")\n",
    "trained_diffusion_model, diffusion_hist = train_diffusion_for_classical_style(\n",
    "    df_classical=train_subset,\n",
    "    diffusion_model=diffusion_model,\n",
    "    tokenizer=tok,\n",
    "    max_length=max_length,\n",
    "    max_bayt_len=max_bayt_len,\n",
    "    encoding_dim=encoding_dim,\n",
    "    epochs=epochs,\n",
    "    batch_size=batch_size,\n",
    "    output_dir=diffusion_output_dir\n",
    ")\n",
    "print(\"Diffusion model training complete.\")\n"
   ]
  },
  {
   "cell_type": "code",
   "execution_count": null,
   "id": "b9b8b1ba-67ff-4437-8627-f42145102736",
   "metadata": {},
   "outputs": [],
   "source": [
    "# Save the final Diffusion model\n",
    "final_diffusion_path = os.path.join(diffusion_output_dir, \"diffusion_model_final.h5\")\n",
    "trained_diffusion_model.save_weights(final_diffusion_path)\n",
    "print(f\"Final diffusion model saved to {final_diffusion_path}\")\n"
   ]
  },
  {
   "cell_type": "code",
   "execution_count": null,
   "id": "963c23c0-650a-4c95-a24b-4dda7bea4a4a",
   "metadata": {},
   "outputs": [],
   "source": [
    "# Save the final model\n",
    "final_model_path = os.path.join(transformer_output_dir, \"auto-encoder_diffusion_model_final.h5\")\n",
    "trained_diffusion_model.save(final_model_path, include_optimizer=True)\n",
    "print(f\"Final Diffusion model saved to {final_model_path}\")\n",
    "\n",
    "# Save the tokenizer\n",
    "tokenizer_output_path = os.path.join(transformer_output_dir, \"tokenizer\")\n",
    "tok.save_pretrained(tokenizer_output_path)\n",
    "print(f\"Tokenizer saved to {tokenizer_output_path}\")\n"
   ]
  },
  {
   "cell_type": "code",
   "execution_count": 8,
   "id": "6664879a-3181-40f6-a914-037c84ddc95b",
   "metadata": {},
   "outputs": [
    {
     "data": {
      "image/png": "[encoded data removed]",
      "text/plain": [
       "<Figure size 1000x400 with 1 Axes>"
      ]
     },
     "metadata": {},
     "output_type": "display_data"
    },
    {
     "data": {
      "image/png": "[encoded data removed]",
      "text/plain": [
       "<Figure size 1000x400 with 1 Axes>"
      ]
     },
     "metadata": {},
     "output_type": "display_data"
    }
   ],
   "source": [
    "# Plot Diffusion Model Training History\n",
    "plt.figure(figsize=(10, 4))\n",
    "plt.plot(diffusion_hist.history['loss'], label='Train Loss')\n",
    "plt.plot(diffusion_hist.history['val_loss'], label='Validation Loss')\n",
    "plt.legend()\n",
    "plt.title(\"Diffusion Model Loss\")\n",
    "plt.show()\n",
    "\n",
    "plt.figure(figsize=(10, 4))\n",
    "plt.plot(diffusion_hist.history['mae'], label='Train MAE')\n",
    "plt.plot(diffusion_hist.history['val_mae'], label='Validation MAE')\n",
    "plt.legend()\n",
    "plt.title(\"Diffusion Model MAE\")\n",
    "plt.show()"
   ]
  },
  {
   "cell_type": "code",
   "execution_count": 15,
   "id": "a1b3dce3-a8be-4d55-9c48-89070f382d16",
   "metadata": {},
   "outputs": [
    {
     "name": "stdout",
     "output_type": "stream",
     "text": [
      "Final Diffusion model saved to ../models/diffusion/diffusion_model_final.h5\n",
      "Tokenizer saved to ../models/diffusion/tokenizer\n"
     ]
    }
   ],
   "source": [
    "# Save the final Diffusion model\n",
    "final_diffusion_model_path = os.path.join(diffusion_output_dir, \"diffusion_model_final.h5\")\n",
    "trained_diffusion_model.save_weights(final_diffusion_model_path)\n",
    "print(f\"Final Diffusion model saved to {final_diffusion_model_path}\")\n",
    "\n",
    "# Save the tokenizer used by both models\n",
    "tokenizer_output_path = os.path.join(diffusion_output_dir, \"tokenizer\")\n",
    "tok.save_pretrained(tokenizer_output_path)\n",
    "print(f\"Tokenizer saved to {tokenizer_output_path}\")"
   ]
  },
  {
   "cell_type": "code",
   "execution_count": 8,
   "id": "d2671d30-182f-413c-a904-9cd5130d3c6d",
   "metadata": {},
   "outputs": [
    {
     "name": "stdout",
     "output_type": "stream",
     "text": [
      "Loading Transformer model...\n"
     ]
    },
    {
     "name": "stderr",
     "output_type": "stream",
     "text": [
      "All PyTorch model weights were used when initializing TFT5ForConditionalGeneration.\n",
      "\n",
      "All the weights of TFT5ForConditionalGeneration were initialized from the PyTorch model.\n",
      "If your task is similar to the task the model of the checkpoint was trained on, you can already use TFT5ForConditionalGeneration for predictions without further training.\n"
     ]
    },
    {
     "name": "stdout",
     "output_type": "stream",
     "text": [
      "Transformer model loaded from ../models/transformers/auto_encoder_transformer_model_final.h5\n",
      "Tokenizer loaded from ../models/transformers/tokenizer\n",
      "Loading Diffusion model...\n",
      "Model: \"DiffusionModel\"\n",
      "__________________________________________________________________________________________________\n",
      " Layer (type)                Output Shape                 Param #   Connected to                  \n",
      "==================================================================================================\n",
      " diffusion_input (InputLaye  [(None, 128, 8)]             0         []                            \n",
      " r)                                                                                               \n",
      "                                                                                                  \n",
      " batch_normalization (Batch  (None, 128, 8)               32        ['diffusion_input[0][0]']     \n",
      " Normalization)                                                                                   \n",
      "                                                                                                  \n",
      " multi_head_attention (Mult  (None, 128, 8)               17928     ['batch_normalization[0][0]', \n",
      " iHeadAttention)                                                     'batch_normalization[0][0]'] \n",
      "                                                                                                  \n",
      " add (Add)                   (None, 128, 8)               0         ['batch_normalization[0][0]', \n",
      "                                                                     'multi_head_attention[0][0]']\n",
      "                                                                                                  \n",
      " batch_normalization_1 (Bat  (None, 128, 8)               32        ['add[0][0]']                 \n",
      " chNormalization)                                                                                 \n",
      "                                                                                                  \n",
      " sequential (Sequential)     (None, 128, 8)               8712      ['batch_normalization_1[0][0]'\n",
      "                                                                    ]                             \n",
      "                                                                                                  \n",
      " add_1 (Add)                 (None, 128, 8)               0         ['batch_normalization_1[0][0]'\n",
      "                                                                    , 'sequential[0][0]']         \n",
      "                                                                                                  \n",
      " batch_normalization_2 (Bat  (None, 128, 8)               32        ['add_1[0][0]']               \n",
      " chNormalization)                                                                                 \n",
      "                                                                                                  \n",
      " multi_head_attention_1 (Mu  (None, 128, 8)               17928     ['batch_normalization_2[0][0]'\n",
      " ltiHeadAttention)                                                  , 'batch_normalization_2[0][0]\n",
      "                                                                    ']                            \n",
      "                                                                                                  \n",
      " add_2 (Add)                 (None, 128, 8)               0         ['batch_normalization_2[0][0]'\n",
      "                                                                    , 'multi_head_attention_1[0][0\n",
      "                                                                    ]']                           \n",
      "                                                                                                  \n",
      " batch_normalization_3 (Bat  (None, 128, 8)               32        ['add_2[0][0]']               \n",
      " chNormalization)                                                                                 \n",
      "                                                                                                  \n",
      " sequential_1 (Sequential)   (None, 128, 8)               8712      ['batch_normalization_3[0][0]'\n",
      "                                                                    ]                             \n",
      "                                                                                                  \n",
      " add_3 (Add)                 (None, 128, 8)               0         ['batch_normalization_3[0][0]'\n",
      "                                                                    , 'sequential_1[0][0]']       \n",
      "                                                                                                  \n",
      " batch_normalization_4 (Bat  (None, 128, 8)               32        ['add_3[0][0]']               \n",
      " chNormalization)                                                                                 \n",
      "                                                                                                  \n",
      " multi_head_attention_2 (Mu  (None, 128, 8)               17928     ['batch_normalization_4[0][0]'\n",
      " ltiHeadAttention)                                                  , 'batch_normalization_4[0][0]\n",
      "                                                                    ']                            \n",
      "                                                                                                  \n",
      " add_4 (Add)                 (None, 128, 8)               0         ['batch_normalization_4[0][0]'\n",
      "                                                                    , 'multi_head_attention_2[0][0\n",
      "                                                                    ]']                           \n",
      "                                                                                                  \n",
      " batch_normalization_5 (Bat  (None, 128, 8)               32        ['add_4[0][0]']               \n",
      " chNormalization)                                                                                 \n",
      "                                                                                                  \n",
      " sequential_2 (Sequential)   (None, 128, 8)               8712      ['batch_normalization_5[0][0]'\n",
      "                                                                    ]                             \n",
      "                                                                                                  \n",
      " add_5 (Add)                 (None, 128, 8)               0         ['batch_normalization_5[0][0]'\n",
      "                                                                    , 'sequential_2[0][0]']       \n",
      "                                                                                                  \n",
      " batch_normalization_6 (Bat  (None, 128, 8)               32        ['add_5[0][0]']               \n",
      " chNormalization)                                                                                 \n",
      "                                                                                                  \n",
      " multi_head_attention_3 (Mu  (None, 128, 8)               17928     ['batch_normalization_6[0][0]'\n",
      " ltiHeadAttention)                                                  , 'batch_normalization_6[0][0]\n",
      "                                                                    ']                            \n",
      "                                                                                                  \n",
      " add_6 (Add)                 (None, 128, 8)               0         ['batch_normalization_6[0][0]'\n",
      "                                                                    , 'multi_head_attention_3[0][0\n",
      "                                                                    ]']                           \n",
      "                                                                                                  \n",
      " batch_normalization_7 (Bat  (None, 128, 8)               32        ['add_6[0][0]']               \n",
      " chNormalization)                                                                                 \n",
      "                                                                                                  \n",
      " sequential_3 (Sequential)   (None, 128, 8)               8712      ['batch_normalization_7[0][0]'\n",
      "                                                                    ]                             \n",
      "                                                                                                  \n",
      " add_7 (Add)                 (None, 128, 8)               0         ['batch_normalization_7[0][0]'\n",
      "                                                                    , 'sequential_3[0][0]']       \n",
      "                                                                                                  \n",
      " batch_normalization_8 (Bat  (None, 128, 8)               32        ['add_7[0][0]']               \n",
      " chNormalization)                                                                                 \n",
      "                                                                                                  \n",
      " dense_8 (Dense)             (None, 128, 8)               72        ['batch_normalization_8[0][0]'\n",
      "                                                                    ]                             \n",
      "                                                                                                  \n",
      "==================================================================================================\n",
      "Total params: 106920 (417.66 KB)\n",
      "Trainable params: 106776 (417.09 KB)\n",
      "Non-trainable params: 144 (576.00 Byte)\n",
      "__________________________________________________________________________________________________\n",
      "Diffusion model loaded from ../models/diffusion/diffusion_model_final.h5\n",
      "Tokenizer loaded from ../models/diffusion/tokenizer\n"
     ]
    }
   ],
   "source": [
    "# ------------------------ #\n",
    "# 2. Load the Transformer and Diffusion Models\n",
    "# ------------------------ #\n",
    "\n",
    "def load_transformer_model(model_name, transformer_output_dir):\n",
    "    \"\"\"Load the Transformer model and its tokenizer.\"\"\"\n",
    "    print(\"Loading Transformer model...\")\n",
    "    transformer_model = create_transformer_for_classical_style(model_name=model_name, max_length=128)\n",
    "    final_model_path = os.path.join(transformer_output_dir, \"auto_encoder_transformer_model_final.h5\")\n",
    "    transformer_model.load_weights(final_model_path)\n",
    "    print(f\"Transformer model loaded from {final_model_path}\")\n",
    "\n",
    "    tokenizer_output_path = os.path.join(transformer_output_dir, \"tokenizer\")\n",
    "    tokenizer = AutoTokenizer.from_pretrained(tokenizer_output_path)\n",
    "    print(f\"Tokenizer loaded from {tokenizer_output_path}\")\n",
    "    \n",
    "    return transformer_model, tokenizer\n",
    "\n",
    "def load_diffusion_model(input_shape, diffusion_model_params, diffusion_output_dir):\n",
    "    \"\"\"Load the Diffusion model and its tokenizer.\"\"\"\n",
    "    print(\"Loading Diffusion model...\")\n",
    "    diffusion_model = create_diffusion_model(input_shape, diffusion_model_params)\n",
    "    final_diffusion_model_path = os.path.join(diffusion_output_dir, \"diffusion_model_final.h5\")\n",
    "    diffusion_model.load_weights(final_diffusion_model_path)\n",
    "    print(f\"Diffusion model loaded from {final_diffusion_model_path}\")\n",
    "\n",
    "    tokenizer_output_path = os.path.join(diffusion_output_dir, \"tokenizer\")\n",
    "    tokenizer = AutoTokenizer.from_pretrained(tokenizer_output_path)\n",
    "    print(f\"Tokenizer loaded from {tokenizer_output_path}\")\n",
    "\n",
    "    return diffusion_model, tokenizer\n",
    "\n",
    "# Reload the models\n",
    "tokenizer_name = \"t5-small\"  # Use a Seq2Seq model\n",
    "tok = AutoTokenizer.from_pretrained(tokenizer_name)\n",
    "\n",
    "max_length = 128\n",
    "max_bayt_len = 128\n",
    "encoding_dim = 8\n",
    "diffusion_model_params = {\n",
    "    'num_transformer_blocks': 4,\n",
    "    'num_heads': 8,\n",
    "    'key_dim': 64,\n",
    "    'ffn_units': 512\n",
    "}\n",
    "transformer_model, tok = load_transformer_model(tokenizer_name, transformer_output_dir)\n",
    "input_shape = (max_bayt_len, encoding_dim)\n",
    "diffusion_model, tok = load_diffusion_model(input_shape, diffusion_model_params, diffusion_output_dir)"
   ]
  },
  {
   "cell_type": "code",
   "execution_count": 10,
   "id": "5067f7c2-3ab4-49ca-a1c3-4acadcb70cf9",
   "metadata": {},
   "outputs": [
    {
     "name": "stdout",
     "output_type": "stream",
     "text": [
      "Generating classical poem...\n"
     ]
    },
    {
     "name": "stderr",
     "output_type": "stream",
     "text": [
      "2024-12-31 22:47:19.434042: I external/local_xla/xla/service/service.cc:168] XLA service 0x7f5e40001240 initialized for platform CUDA (this does not guarantee that XLA will be used). Devices:\n",
      "2024-12-31 22:47:19.434127: I external/local_xla/xla/service/service.cc:176]   StreamExecutor device (0): NVIDIA GeForce RTX 3070 Laptop GPU, Compute Capability 8.6\n",
      "2024-12-31 22:47:19.467489: I tensorflow/compiler/mlir/tensorflow/utils/dump_mlir_util.cc:269] disabling MLIR crash reproducer, set env var `MLIR_CRASH_REPRODUCER_DIRECTORY` to enable.\n",
      "2024-12-31 22:47:19.526568: I external/local_xla/xla/stream_executor/cuda/cuda_dnn.cc:454] Loaded cuDNN version 8902\n",
      "WARNING: All log messages before absl::InitializeLog() is called are written to STDERR\n",
      "I0000 00:00:1735703239.606268   59515 device_compiler.h:186] Compiled cluster using XLA!  This line is logged at most once for the lifetime of the process.\n"
     ]
    },
    {
     "name": "stdout",
     "output_type": "stream",
     "text": [
      "1/1 [==============================] - 1s 797ms/step\n",
      "Generated Classical Poem:\n",
      "إِإِإِإِإِإِإِإِإِإِإِإِإِإِإِإِإِإِإِإِإِإِإِإِإِإِإِإِإِإِإِإِإِإِإِإِإِإِإِإِإِإِإِإِإِإِإِإِإِإِإِإِإِإِإِإِإِإِإِإِإِإِإِإِإِإِإِإِإِإِإِإِإِإِإِإِإِإِإِإِإِإِإِإِإِإِإِإِإِإِإِإِإِإِإِإِإِإِإِإِإِإِإِإِإِإِإِإِإِإِإِإِإِإِإِإِإِإِإِإِإِإِإِإِإِإِإِإِ\n"
     ]
    }
   ],
   "source": [
    "# ------------------------ #\n",
    "# 3. Generate a Classical Poem\n",
    "# ------------------------ #\n",
    "\n",
    "modern_poem = (\n",
    "    \"إِذا الشَّعْبُ يومًا أرادَ الحياةَ فلا بُدَّ أنْ يَسْتَجيبَ \"\n",
    "    \"القدرْ ولا بُدَّ للَّيْلِ أنْ يَنجلي ولا بُدَّ للقيدِ أن يَنْكَسِرْ \"\n",
    "    \"ومَن لم يعانقْهُ شَوْقُ الحياةِ تَبَخَّرَ في جَوِّها واندَثَرْ \"\n",
    "    \"فويلٌ لمَنْ لم تَشُقْهُ الحياةُ من صَفْعَةِ العَدَمِ المنتصرْ\"\n",
    ")\n",
    "\n",
    "print(\"Generating classical poem...\")\n",
    "\n",
    "classical_poem = generate_classical_poem(\n",
    "    modern_poem,\n",
    "    transformer_model=transformer_model,\n",
    "    tokenizer=tok,\n",
    "    diffusion_model=diffusion_model,\n",
    "    max_length=128\n",
    ")\n",
    "\n",
    "print(\"Generated Classical Poem:\")\n",
    "print(classical_poem)"
   ]
  },
  {
   "cell_type": "code",
   "execution_count": null,
   "id": "07d7fb97-450c-4eed-9c94-0bb9bde1e98b",
   "metadata": {},
   "outputs": [],
   "source": [
    "# ------------------------ #\n",
    "# 3. Generate a Poem        #\n",
    "# ------------------------ #\n",
    "\n",
    "modern_poem = (\n",
    "    \"إِذا الشَّعْبُ يومًا أرادَ الحياةَ فلا بُدَّ أنْ يَسْتَجيبَ \"\n",
    "    \"القدرْ ولا بُدَّ للَّيْلِ أنْ يَنجلي ولا بُدَّ للقيدِ أن يَنْكَسِرْ \"\n",
    "    \"ومَن لم يعانقْهُ شَوْقُ الحياةِ تَبَخَّرَ في جَوِّها واندَثَرْ \"\n",
    "    \"فويلٌ لمَنْ لم تَشُقْهُ الحياةُ من صَفْعَةِ العَدَمِ المنتصرْ\"\n",
    ")\n",
    "\n",
    "print(\"Generating classical poem...\")\n",
    "\n",
    "classical_poem = generate_classical_poem(\n",
    "    modern_poem,\n",
    "    transformer_model=trained_transformer,\n",
    "    tokenizer=tok,\n",
    "    diffusion_model=trained_diffusion_model,\n",
    "    max_length=128\n",
    ")\n",
    "\n",
    "print(\"Generated Classical Poem:\")\n",
    "print(classical_poem)\n"
   ]
  }
 ],
 "metadata": {
  "kernelspec": {
   "display_name": "Python (baytdiffuser_env)",
   "language": "python",
   "name": "baytdiffuser_env"
  },
  "language_info": {
   "codemirror_mode": {
    "name": "ipython",
    "version": 3
   },
   "file_extension": ".py",
   "mimetype": "text/x-python",
   "name": "python",
   "nbconvert_exporter": "python",
   "pygments_lexer": "ipython3",
   "version": "3.9.18"
  }
 },
 "nbformat": 4,
 "nbformat_minor": 5
}
