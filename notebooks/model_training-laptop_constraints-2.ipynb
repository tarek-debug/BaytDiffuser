{
 "cells": [
  {
   "cell_type": "code",
   "execution_count": 1,
   "id": "1c38c4f0-7e84-43ef-ab77-1bf8550d4006",
   "metadata": {},
   "outputs": [
    {
     "name": "stderr",
     "output_type": "stream",
     "text": [
      "2025-01-01 13:42:56.404148: I tensorflow/core/util/port.cc:113] oneDNN custom operations are on. You may see slightly different numerical results due to floating-point round-off errors from different computation orders. To turn them off, set the environment variable `TF_ENABLE_ONEDNN_OPTS=0`.\n",
      "2025-01-01 13:42:56.470996: E external/local_xla/xla/stream_executor/cuda/cuda_dnn.cc:9261] Unable to register cuDNN factory: Attempting to register factory for plugin cuDNN when one has already been registered\n",
      "2025-01-01 13:42:56.471058: E external/local_xla/xla/stream_executor/cuda/cuda_fft.cc:607] Unable to register cuFFT factory: Attempting to register factory for plugin cuFFT when one has already been registered\n",
      "2025-01-01 13:42:56.472310: E external/local_xla/xla/stream_executor/cuda/cuda_blas.cc:1515] Unable to register cuBLAS factory: Attempting to register factory for plugin cuBLAS when one has already been registered\n",
      "2025-01-01 13:42:56.482450: I tensorflow/core/platform/cpu_feature_guard.cc:182] This TensorFlow binary is optimized to use available CPU instructions in performance-critical operations.\n",
      "To enable the following instructions: SSE4.1 SSE4.2 AVX AVX2 AVX512F AVX512_VNNI FMA, in other operations, rebuild TensorFlow with the appropriate compiler flags.\n"
     ]
    }
   ],
   "source": [
    "import os\n",
    "import tensorflow as tf\n",
    "from transformers import AutoTokenizer, TFAutoModel\n",
    "from tensorflow.keras.callbacks import ModelCheckpoint, EarlyStopping, TensorBoard\n",
    "from tensorflow.keras.mixed_precision import set_global_policy"
   ]
  },
  {
   "cell_type": "code",
   "execution_count": 2,
   "id": "8852ac6c-5891-47f0-a665-778e88969518",
   "metadata": {},
   "outputs": [
    {
     "name": "stdout",
     "output_type": "stream",
     "text": [
      "INFO:tensorflow:Mixed precision compatibility check (mixed_float16): OK\n",
      "Your GPU will likely run quickly with dtype policy mixed_float16 as it has compute capability of at least 7.0. Your GPU: NVIDIA GeForce RTX 3070 Laptop GPU, compute capability 8.6\n",
      "Mixed precision enabled with policy: mixed_float16\n"
     ]
    },
    {
     "name": "stderr",
     "output_type": "stream",
     "text": [
      "2024-12-31 22:27:19.235155: I external/local_xla/xla/stream_executor/cuda/cuda_executor.cc:887] could not open file to read NUMA node: /sys/bus/pci/devices/0000:01:00.0/numa_node\n",
      "Your kernel may have been built without NUMA support.\n",
      "2024-12-31 22:27:19.327355: I external/local_xla/xla/stream_executor/cuda/cuda_executor.cc:887] could not open file to read NUMA node: /sys/bus/pci/devices/0000:01:00.0/numa_node\n",
      "Your kernel may have been built without NUMA support.\n",
      "2024-12-31 22:27:19.327436: I external/local_xla/xla/stream_executor/cuda/cuda_executor.cc:887] could not open file to read NUMA node: /sys/bus/pci/devices/0000:01:00.0/numa_node\n",
      "Your kernel may have been built without NUMA support.\n",
      "2024-12-31 22:27:19.328442: I external/local_xla/xla/stream_executor/cuda/cuda_executor.cc:887] could not open file to read NUMA node: /sys/bus/pci/devices/0000:01:00.0/numa_node\n",
      "Your kernel may have been built without NUMA support.\n"
     ]
    }
   ],
   "source": [
    "# Enable mixed precision\n",
    "policy = 'mixed_float16'\n",
    "set_global_policy(policy)\n",
    "print(f\"Mixed precision enabled with policy: {policy}\")\n",
    "\n",
    "gpus = tf.config.list_physical_devices('GPU')\n",
    "if gpus:\n",
    "    try:\n",
    "        for gpu in gpus:\n",
    "            tf.config.experimental.set_virtual_device_configuration(\n",
    "                gpu,\n",
    "                [tf.config.experimental.VirtualDeviceConfiguration(memory_limit=4096)]  # 4GB limit\n",
    "            )\n",
    "    except RuntimeError as e:\n",
    "        print(f\"Failed to set virtual device configuration: {e}\")"
   ]
  },
  {
   "cell_type": "code",
   "execution_count": 2,
   "id": "2635d441-e747-4795-b2bf-ad8390c628d9",
   "metadata": {},
   "outputs": [],
   "source": [
    "import os\n",
    "os.environ['TF_ENABLE_ONEDNN_OPTS'] = '0'\n",
    "import tensorflow as tf\n"
   ]
  },
  {
   "cell_type": "code",
   "execution_count": 3,
   "id": "d2e3f7bd-4095-4301-8bf6-35669028f7a5",
   "metadata": {},
   "outputs": [],
   "source": [
    "import sys\n",
    "# Add the scripts folder to the system path\n",
    "scripts_path = os.path.abspath(os.path.join('..', 'scripts/python'))\n",
    "sys.path.append(scripts_path)\n"
   ]
  },
  {
   "cell_type": "code",
   "execution_count": 4,
   "id": "c9a52dfa-6254-4a81-a973-39a8437cfe2f",
   "metadata": {},
   "outputs": [],
   "source": [
    "# Import necessary libraries\n",
    "import pandas as pd\n",
    "import numpy as np\n",
    "import matplotlib.pyplot as plt\n",
    "from sklearn.model_selection import train_test_split\n",
    "import tensorflow as tf\n",
    "# Enable mixed precision training\n",
    "from tensorflow.keras.mixed_precision import set_global_policy\n",
    "from utils import (\n",
    "    create_transformer_for_classical_style,\n",
    "    train_transformer_for_classical_style,\n",
    "    create_diffusion_model,\n",
    "    train_diffusion_for_classical_style,\n",
    "    generate_classical_poem\n",
    ")\n",
    "\n",
    "# Configure visualization settings\n",
    "%matplotlib inline\n"
   ]
  },
  {
   "cell_type": "code",
   "execution_count": 5,
   "id": "caa86b70-17cd-46fd-a514-7bc007e4d27c",
   "metadata": {},
   "outputs": [
    {
     "name": "stdout",
     "output_type": "stream",
     "text": [
      "Loading processed data...\n",
      "Processed data loaded with 103441 records.\n",
      "Training records: 82752; Validation records: 20689\n"
     ]
    }
   ],
   "source": [
    "\n",
    "# Define Paths\n",
    "processed_data_path = '../data/processed/processed_taweel_data.csv'\n",
    "diffusion_output_dir = '../models/diffusion'\n",
    "transformer_output_dir = '../models/transformers'\n",
    "\n",
    "os.makedirs(diffusion_output_dir, exist_ok=True)\n",
    "os.makedirs(transformer_output_dir, exist_ok=True)\n",
    "\n",
    "# Load and Inspect Data\n",
    "print(\"Loading processed data...\")\n",
    "processed_df = pd.read_csv(processed_data_path, encoding='utf-8-sig')\n",
    "print(f\"Processed data loaded with {len(processed_df)} records.\")\n",
    "\n",
    "# Subset for Quick Testing (Optional)\n",
    "subset = False\n",
    "if subset:\n",
    "    print(\"Using subset for testing...\")\n",
    "    train_df, valid_df = train_test_split(processed_df, test_size=0.2, random_state=42)\n",
    "    train_subset = train_df.sample(n=100, random_state=42)  # Adjust as needed\n",
    "    valid_subset = valid_df.sample(n=20, random_state=42)\n",
    "else:\n",
    "    train_df, valid_df = train_test_split(processed_df, test_size=0.2, random_state=42)\n",
    "    train_subset, valid_subset = train_df, valid_df\n",
    "\n",
    "print(f\"Training records: {len(train_subset)}; Validation records: {len(valid_subset)}\")\n"
   ]
  },
  {
   "cell_type": "code",
   "execution_count": 6,
   "id": "73499487-b96e-4a40-9aa9-cd61b291ebee",
   "metadata": {
    "scrolled": true
   },
   "outputs": [
    {
     "name": "stdout",
     "output_type": "stream",
     "text": [
      "Training Transformer in auto-encoder style for classical poems...\n"
     ]
    },
    {
     "name": "stderr",
     "output_type": "stream",
     "text": [
      "2024-12-31 23:24:30.197331: I external/local_xla/xla/stream_executor/cuda/cuda_executor.cc:887] could not open file to read NUMA node: /sys/bus/pci/devices/0000:01:00.0/numa_node\n",
      "Your kernel may have been built without NUMA support.\n",
      "2024-12-31 23:24:30.354798: I external/local_xla/xla/stream_executor/cuda/cuda_executor.cc:887] could not open file to read NUMA node: /sys/bus/pci/devices/0000:01:00.0/numa_node\n",
      "Your kernel may have been built without NUMA support.\n",
      "2024-12-31 23:24:30.354977: I external/local_xla/xla/stream_executor/cuda/cuda_executor.cc:887] could not open file to read NUMA node: /sys/bus/pci/devices/0000:01:00.0/numa_node\n",
      "Your kernel may have been built without NUMA support.\n",
      "2024-12-31 23:24:30.363908: I external/local_xla/xla/stream_executor/cuda/cuda_executor.cc:887] could not open file to read NUMA node: /sys/bus/pci/devices/0000:01:00.0/numa_node\n",
      "Your kernel may have been built without NUMA support.\n",
      "2024-12-31 23:24:30.364088: I external/local_xla/xla/stream_executor/cuda/cuda_executor.cc:887] could not open file to read NUMA node: /sys/bus/pci/devices/0000:01:00.0/numa_node\n",
      "Your kernel may have been built without NUMA support.\n",
      "2024-12-31 23:24:30.364139: I external/local_xla/xla/stream_executor/cuda/cuda_executor.cc:887] could not open file to read NUMA node: /sys/bus/pci/devices/0000:01:00.0/numa_node\n",
      "Your kernel may have been built without NUMA support.\n",
      "2024-12-31 23:24:30.556331: I external/local_xla/xla/stream_executor/cuda/cuda_executor.cc:887] could not open file to read NUMA node: /sys/bus/pci/devices/0000:01:00.0/numa_node\n",
      "Your kernel may have been built without NUMA support.\n",
      "2024-12-31 23:24:30.556697: I external/local_xla/xla/stream_executor/cuda/cuda_executor.cc:887] could not open file to read NUMA node: /sys/bus/pci/devices/0000:01:00.0/numa_node\n",
      "Your kernel may have been built without NUMA support.\n",
      "2024-12-31 23:24:30.556716: I tensorflow/core/common_runtime/gpu/gpu_device.cc:2022] Could not identify NUMA node of platform GPU id 0, defaulting to 0.  Your kernel may not have been built with NUMA support.\n",
      "2024-12-31 23:24:30.557016: I external/local_xla/xla/stream_executor/cuda/cuda_executor.cc:887] could not open file to read NUMA node: /sys/bus/pci/devices/0000:01:00.0/numa_node\n",
      "Your kernel may have been built without NUMA support.\n",
      "2024-12-31 23:24:30.557148: I tensorflow/core/common_runtime/gpu/gpu_device.cc:1929] Created device /job:localhost/replica:0/task:0/device:GPU:0 with 5582 MB memory:  -> device: 0, name: NVIDIA GeForce RTX 3070 Laptop GPU, pci bus id: 0000:01:00.0, compute capability: 8.6\n",
      "All PyTorch model weights were used when initializing TFT5ForConditionalGeneration.\n",
      "\n",
      "All the weights of TFT5ForConditionalGeneration were initialized from the PyTorch model.\n",
      "If your task is similar to the task the model of the checkpoint was trained on, you can already use TFT5ForConditionalGeneration for predictions without further training.\n"
     ]
    },
    {
     "name": "stdout",
     "output_type": "stream",
     "text": [
      "Epoch 1/3\n"
     ]
    },
    {
     "name": "stderr",
     "output_type": "stream",
     "text": [
      "2024-12-31 23:25:17.328705: I external/local_xla/xla/service/service.cc:168] XLA service 0x7f9689005530 initialized for platform CUDA (this does not guarantee that XLA will be used). Devices:\n",
      "2024-12-31 23:25:17.328794: I external/local_xla/xla/service/service.cc:176]   StreamExecutor device (0): NVIDIA GeForce RTX 3070 Laptop GPU, Compute Capability 8.6\n",
      "2024-12-31 23:25:17.340611: I tensorflow/compiler/mlir/tensorflow/utils/dump_mlir_util.cc:269] disabling MLIR crash reproducer, set env var `MLIR_CRASH_REPRODUCER_DIRECTORY` to enable.\n",
      "2024-12-31 23:25:17.377468: I external/local_xla/xla/stream_executor/cuda/cuda_dnn.cc:454] Loaded cuDNN version 8902\n",
      "WARNING: All log messages before absl::InitializeLog() is called are written to STDERR\n",
      "I0000 00:00:1735705517.495028   61997 device_compiler.h:186] Compiled cluster using XLA!  This line is logged at most once for the lifetime of the process.\n"
     ]
    },
    {
     "name": "stdout",
     "output_type": "stream",
     "text": [
      "33101/33101 [==============================] - 8557s 257ms/step - loss: 0.0100 - accuracy: 0.9975 - val_loss: 1.0910e-04 - val_accuracy: 1.0000\n",
      "Epoch 2/3\n",
      "33101/33101 [==============================] - 8193s 248ms/step - loss: 5.3855e-04 - accuracy: 0.9998 - val_loss: 6.7248e-05 - val_accuracy: 1.0000\n",
      "Epoch 3/3\n",
      "33101/33101 [==============================] - 6497s 196ms/step - loss: 2.4130e-04 - accuracy: 0.9999 - val_loss: 4.4242e-05 - val_accuracy: 1.0000\n",
      "Transformer training complete.\n"
     ]
    }
   ],
   "source": [
    "# ------------------------ #\n",
    "# 1. Train the Transformer  #\n",
    "# ------------------------ #\n",
    "\n",
    "print(\"Training Transformer in auto-encoder style for classical poems...\")\n",
    "tokenizer_name = \"t5-small\"  # Use a Seq2Seq model\n",
    "tok = AutoTokenizer.from_pretrained(tokenizer_name)\n",
    "\n",
    "# Create the Transformer Model\n",
    "transformer_model = create_transformer_for_classical_style(model_name=tokenizer_name, max_length=128)\n",
    "\n",
    "# Prepare Training Data\n",
    "sub_df = train_subset[['text']].copy()\n",
    "\n",
    "# Train the Transformer\n",
    "trained_transformer, hist = train_transformer_for_classical_style(\n",
    "    df_classical=sub_df,\n",
    "    tokenizer=tok,\n",
    "    model=transformer_model,\n",
    "    max_length=128,\n",
    "    epochs=50,           # Adjust epochs as needed\n",
    "    batch_size=2,       # Adjust batch size based on GPU memory\n",
    "    output_dir=transformer_output_dir\n",
    ")\n",
    "print(\"Transformer training complete.\")"
   ]
  },
  {
   "cell_type": "code",
   "execution_count": 7,
   "id": "b38aad4f-6034-45c2-be9b-be1c78119356",
   "metadata": {},
   "outputs": [
    {
     "name": "stdout",
     "output_type": "stream",
     "text": [
      "Final Transformer model saved to ../models/transformers/auto_encoder_transformer_model_final.h5\n",
      "Tokenizer saved to ../models/transformers/tokenizer\n"
     ]
    }
   ],
   "source": [
    "# Save the final Transformer model\n",
    "final_model_pat h = os.path.join(transformer_output_dir, \"auto_encoder_transformer_model_final.h5\")\n",
    "trained_transformer.save_weights(final_model_path)\n",
    "print(f\"Final Transformer model saved to {final_model_path}\")\n",
    "\n",
    "# Save the tokenizer correctly\n",
    "tokenizer_output_path = os.path.join(transformer_output_dir, \"tokenizer\")\n",
    "tok.save_pretrained(tokenizer_output_path)\n",
    "print(f\"Tokenizer saved to {tokenizer_output_path}\")"
   ]
  },
  {
   "cell_type": "code",
   "execution_count": 8,
   "id": "f0c23064-526d-4447-be46-b76f986d173e",
   "metadata": {},
   "outputs": [
    {
     "data": {
      "image/png": "[encoded data removed]",
      "text/plain": [
       "<Figure size 1000x400 with 1 Axes>"
      ]
     },
     "metadata": {},
     "output_type": "display_data"
    }
   ],
   "source": [
    "# Plot Transformer Training History\n",
    "plt.figure(figsize=(10, 4))\n",
    "plt.plot(hist.history['loss'], label='Train Loss')\n",
    "plt.plot(hist.history['val_loss'], label='Validation Loss')\n",
    "plt.title(\"Transformer Auto-Encoder Training Loss\")\n",
    "plt.xlabel(\"Epoch\")\n",
    "plt.ylabel(\"Loss\")\n",
    "plt.legend()\n",
    "plt.show()"
   ]
  },
  {
   "cell_type": "code",
   "execution_count": 9,
   "id": "f451c1c7-0213-4e9e-a64a-baa01bf25fe0",
   "metadata": {},
   "outputs": [
    {
     "data": {
      "image/png": "[encoded data removed]",
      "text/plain": [
       "<Figure size 1000x400 with 1 Axes>"
      ]
     },
     "metadata": {},
     "output_type": "display_data"
    }
   ],
   "source": [
    "plt.figure(figsize=(10, 4))\n",
    "plt.plot(hist.history['accuracy'], label='Train Accuracy')\n",
    "plt.plot(hist.history['val_accuracy'], label='Validation Accuracy')\n",
    "plt.title(\"Transformer Auto-Encoder Training Accuracy\")\n",
    "plt.xlabel(\"Epoch\")\n",
    "plt.ylabel(\"Accuracy\")\n",
    "plt.legend()\n",
    "plt.show()\n"
   ]
  },
  {
   "cell_type": "code",
   "execution_count": 10,
   "id": "c726adff-22d5-4fd3-8073-465d5e98e826",
   "metadata": {},
   "outputs": [
    {
     "name": "stdout",
     "output_type": "stream",
     "text": [
      "Creating diffusion model...\n",
      "Model: \"DiffusionModel\"\n",
      "__________________________________________________________________________________________________\n",
      " Layer (type)                Output Shape                 Param #   Connected to                  \n",
      "==================================================================================================\n",
      " diffusion_input (InputLaye  [(None, 128, 8)]             0         []                            \n",
      " r)                                                                                               \n",
      "                                                                                                  \n",
      " batch_normalization (Batch  (None, 128, 8)               32        ['diffusion_input[0][0]']     \n",
      " Normalization)                                                                                   \n",
      "                                                                                                  \n",
      " multi_head_attention (Mult  (None, 128, 8)               17928     ['batch_normalization[0][0]', \n",
      " iHeadAttention)                                                     'batch_normalization[0][0]'] \n",
      "                                                                                                  \n",
      " add (Add)                   (None, 128, 8)               0         ['batch_normalization[0][0]', \n",
      "                                                                     'multi_head_attention[0][0]']\n",
      "                                                                                                  \n",
      " batch_normalization_1 (Bat  (None, 128, 8)               32        ['add[0][0]']                 \n",
      " chNormalization)                                                                                 \n",
      "                                                                                                  \n",
      " sequential (Sequential)     (None, 128, 8)               8712      ['batch_normalization_1[0][0]'\n",
      "                                                                    ]                             \n",
      "                                                                                                  \n",
      " add_1 (Add)                 (None, 128, 8)               0         ['batch_normalization_1[0][0]'\n",
      "                                                                    , 'sequential[0][0]']         \n",
      "                                                                                                  \n",
      " batch_normalization_2 (Bat  (None, 128, 8)               32        ['add_1[0][0]']               \n",
      " chNormalization)                                                                                 \n",
      "                                                                                                  \n",
      " multi_head_attention_1 (Mu  (None, 128, 8)               17928     ['batch_normalization_2[0][0]'\n",
      " ltiHeadAttention)                                                  , 'batch_normalization_2[0][0]\n",
      "                                                                    ']                            \n",
      "                                                                                                  \n",
      " add_2 (Add)                 (None, 128, 8)               0         ['batch_normalization_2[0][0]'\n",
      "                                                                    , 'multi_head_attention_1[0][0\n",
      "                                                                    ]']                           \n",
      "                                                                                                  \n",
      " batch_normalization_3 (Bat  (None, 128, 8)               32        ['add_2[0][0]']               \n",
      " chNormalization)                                                                                 \n",
      "                                                                                                  \n",
      " sequential_1 (Sequential)   (None, 128, 8)               8712      ['batch_normalization_3[0][0]'\n",
      "                                                                    ]                             \n",
      "                                                                                                  \n",
      " add_3 (Add)                 (None, 128, 8)               0         ['batch_normalization_3[0][0]'\n",
      "                                                                    , 'sequential_1[0][0]']       \n",
      "                                                                                                  \n",
      " batch_normalization_4 (Bat  (None, 128, 8)               32        ['add_3[0][0]']               \n",
      " chNormalization)                                                                                 \n",
      "                                                                                                  \n",
      " multi_head_attention_2 (Mu  (None, 128, 8)               17928     ['batch_normalization_4[0][0]'\n",
      " ltiHeadAttention)                                                  , 'batch_normalization_4[0][0]\n",
      "                                                                    ']                            \n",
      "                                                                                                  \n",
      " add_4 (Add)                 (None, 128, 8)               0         ['batch_normalization_4[0][0]'\n",
      "                                                                    , 'multi_head_attention_2[0][0\n",
      "                                                                    ]']                           \n",
      "                                                                                                  \n",
      " batch_normalization_5 (Bat  (None, 128, 8)               32        ['add_4[0][0]']               \n",
      " chNormalization)                                                                                 \n",
      "                                                                                                  \n",
      " sequential_2 (Sequential)   (None, 128, 8)               8712      ['batch_normalization_5[0][0]'\n",
      "                                                                    ]                             \n",
      "                                                                                                  \n",
      " add_5 (Add)                 (None, 128, 8)               0         ['batch_normalization_5[0][0]'\n",
      "                                                                    , 'sequential_2[0][0]']       \n",
      "                                                                                                  \n",
      " batch_normalization_6 (Bat  (None, 128, 8)               32        ['add_5[0][0]']               \n",
      " chNormalization)                                                                                 \n",
      "                                                                                                  \n",
      " multi_head_attention_3 (Mu  (None, 128, 8)               17928     ['batch_normalization_6[0][0]'\n",
      " ltiHeadAttention)                                                  , 'batch_normalization_6[0][0]\n",
      "                                                                    ']                            \n",
      "                                                                                                  \n",
      " add_6 (Add)                 (None, 128, 8)               0         ['batch_normalization_6[0][0]'\n",
      "                                                                    , 'multi_head_attention_3[0][0\n",
      "                                                                    ]']                           \n",
      "                                                                                                  \n",
      " batch_normalization_7 (Bat  (None, 128, 8)               32        ['add_6[0][0]']               \n",
      " chNormalization)                                                                                 \n",
      "                                                                                                  \n",
      " sequential_3 (Sequential)   (None, 128, 8)               8712      ['batch_normalization_7[0][0]'\n",
      "                                                                    ]                             \n",
      "                                                                                                  \n",
      " add_7 (Add)                 (None, 128, 8)               0         ['batch_normalization_7[0][0]'\n",
      "                                                                    , 'sequential_3[0][0]']       \n",
      "                                                                                                  \n",
      " batch_normalization_8 (Bat  (None, 128, 8)               32        ['add_7[0][0]']               \n",
      " chNormalization)                                                                                 \n",
      "                                                                                                  \n",
      " dense_8 (Dense)             (None, 128, 8)               72        ['batch_normalization_8[0][0]'\n",
      "                                                                    ]                             \n",
      "                                                                                                  \n",
      "==================================================================================================\n",
      "Total params: 106920 (417.66 KB)\n",
      "Trainable params: 106776 (417.09 KB)\n",
      "Non-trainable params: 144 (576.00 Byte)\n",
      "__________________________________________________________________________________________________\n",
      "Training diffusion model...\n",
      "X_train shape: (66201, 128, 8)\n",
      "Y_train shape: (66201, 128, 8)\n",
      "X_val shape: (16551, 128, 8)\n",
      "Y_val shape: (16551, 128, 8)\n",
      "Epoch 1/5\n",
      "8276/8276 [==============================] - ETA: 0s - loss: 0.0087 - mae: 0.0249      \n",
      "Epoch 1: val_mae improved from inf to 0.04643, saving model to ../models/diffusion/diff_ckpt\n",
      "INFO:tensorflow:Assets written to: ../models/diffusion/diff_ckpt/assets\n"
     ]
    },
    {
     "name": "stderr",
     "output_type": "stream",
     "text": [
      "INFO:tensorflow:Assets written to: ../models/diffusion/diff_ckpt/assets\n"
     ]
    },
    {
     "name": "stdout",
     "output_type": "stream",
     "text": [
      "8276/8276 [==============================] - 524s 62ms/step - loss: 0.0087 - mae: 0.0249 - val_loss: 0.0039 - val_mae: 0.0464\n",
      "Epoch 2/5\n",
      "8276/8276 [==============================] - ETA: 0s - loss: 5.1665e-04 - mae: 0.0161   \n",
      "Epoch 2: val_mae improved from 0.04643 to 0.01043, saving model to ../models/diffusion/diff_ckpt\n",
      "INFO:tensorflow:Assets written to: ../models/diffusion/diff_ckpt/assets\n"
     ]
    },
    {
     "name": "stderr",
     "output_type": "stream",
     "text": [
      "INFO:tensorflow:Assets written to: ../models/diffusion/diff_ckpt/assets\n"
     ]
    },
    {
     "name": "stdout",
     "output_type": "stream",
     "text": [
      "8276/8276 [==============================] - 502s 61ms/step - loss: 5.1665e-04 - mae: 0.0161 - val_loss: 2.8857e-04 - val_mae: 0.0104\n",
      "Epoch 3/5\n",
      "8275/8276 [============================>.] - ETA: 0s - loss: 3.9132e-04 - mae: 0.0155   \n",
      "Epoch 3: val_mae did not improve from 0.01043\n",
      "8276/8276 [==============================] - 492s 59ms/step - loss: 3.9148e-04 - mae: 0.0155 - val_loss: 1.4951e-04 - val_mae: 0.0114\n",
      "Epoch 4/5\n",
      "8276/8276 [==============================] - ETA: 0s - loss: 3.7511e-04 - mae: 0.0152  \n",
      "Epoch 4: val_mae improved from 0.01043 to 0.00531, saving model to ../models/diffusion/diff_ckpt\n",
      "INFO:tensorflow:Assets written to: ../models/diffusion/diff_ckpt/assets\n"
     ]
    },
    {
     "name": "stderr",
     "output_type": "stream",
     "text": [
      "INFO:tensorflow:Assets written to: ../models/diffusion/diff_ckpt/assets\n"
     ]
    },
    {
     "name": "stdout",
     "output_type": "stream",
     "text": [
      "8276/8276 [==============================] - 524s 63ms/step - loss: 3.7511e-04 - mae: 0.0152 - val_loss: 1.2006e-04 - val_mae: 0.0053\n",
      "Epoch 5/5\n",
      "8276/8276 [==============================] - ETA: 0s - loss: 3.6340e-04 - mae: 0.0150   \n",
      "Epoch 5: val_mae did not improve from 0.00531\n",
      "8276/8276 [==============================] - 517s 63ms/step - loss: 3.6340e-04 - mae: 0.0150 - val_loss: 3.9056e-04 - val_mae: 0.0109\n",
      "Diffusion model training complete.\n"
     ]
    }
   ],
   "source": [
    "# ------------------------ #\n",
    "# 2. Train the Diffusion    #\n",
    "# ------------------------ #\n",
    "\n",
    "import numpy as np\n",
    "\n",
    "print(\"Creating diffusion model...\")\n",
    "# Define Diffusion Model Parameters\n",
    "tokenizer_name = \"t5-small\"  # Use a Seq2Seq model\n",
    "tok = AutoTokenizer.from_pretrained(tokenizer_name)\n",
    "\n",
    "max_length = 128\n",
    "max_bayt_len = 128\n",
    "encoding_dim = 8\n",
    "diffusion_model_params = {\n",
    "    'num_transformer_blocks': 4,\n",
    "    'num_heads': 8,\n",
    "    'key_dim': 64,\n",
    "    'ffn_units': 512\n",
    "}\n",
    "\n",
    "# Create Diffusion Model\n",
    "input_shape = (max_bayt_len, encoding_dim)\n",
    "diffusion_model = create_diffusion_model(input_shape, diffusion_model_params)\n",
    "\n",
    "# Train Diffusion Model\n",
    "batch_size = 8\n",
    "epochs = 5\n",
    "print(\"Training diffusion model...\")\n",
    "trained_diffusion_model, diffusion_hist = train_diffusion_for_classical_style(\n",
    "    df_classical=train_subset,\n",
    "    diffusion_model=diffusion_model,\n",
    "    tokenizer=tok,\n",
    "    max_length=max_length,\n",
    "    max_bayt_len=max_bayt_len,\n",
    "    encoding_dim=encoding_dim,\n",
    "    epochs=epochs,\n",
    "    batch_size=batch_size,\n",
    "    output_dir=diffusion_output_dir\n",
    ")\n",
    "print(\"Diffusion model training complete.\")\n"
   ]
  },
  {
   "cell_type": "code",
   "execution_count": 11,
   "id": "b9b8b1ba-67ff-4437-8627-f42145102736",
   "metadata": {},
   "outputs": [
    {
     "name": "stdout",
     "output_type": "stream",
     "text": [
      "Final diffusion model saved to ../models/diffusion/diffusion_model_final.h5\n"
     ]
    }
   ],
   "source": [
    "# Save the final Diffusion model\n",
    "final_diffusion_path = os.path.join(diffusion_output_dir, \"diffusion_model_final.h5\")\n",
    "trained_diffusion_model.save_weights(final_diffusion_path)\n",
    "print(f\"Final diffusion model saved to {final_diffusion_path}\")\n"
   ]
  },
  {
   "cell_type": "code",
   "execution_count": 12,
   "id": "963c23c0-650a-4c95-a24b-4dda7bea4a4a",
   "metadata": {},
   "outputs": [
    {
     "name": "stderr",
     "output_type": "stream",
     "text": [
      "/home/tarek/miniconda3/envs/baytdiffuser_env/lib/python3.9/site-packages/keras/src/engine/training.py:3103: UserWarning: You are saving your model as an HDF5 file via `model.save()`. This file format is considered legacy. We recommend using instead the native Keras format, e.g. `model.save('my_model.keras')`.\n",
      "  saving_api.save_model(\n"
     ]
    },
    {
     "name": "stdout",
     "output_type": "stream",
     "text": [
      "Final Diffusion model saved to ../models/transformers/auto-encoder_diffusion_model_final.h5\n",
      "Tokenizer saved to ../models/transformers/tokenizer\n"
     ]
    }
   ],
   "source": [
    "# Save the final model\n",
    "final_model_path = os.path.join(transformer_output_dir, \"auto-encoder_diffusion_model_final.h5\")\n",
    "trained_diffusion_model.save(final_model_path, include_optimizer=True)\n",
    "print(f\"Final Diffusion model saved to {final_model_path}\")\n",
    "\n",
    "# Save the tokenizer\n",
    "tokenizer_output_path = os.path.join(transformer_output_dir, \"tokenizer\")\n",
    "tok.save_pretrained(tokenizer_output_path)\n",
    "print(f\"Tokenizer saved to {tokenizer_output_path}\")\n"
   ]
  },
  {
   "cell_type": "code",
   "execution_count": 13,
   "id": "6664879a-3181-40f6-a914-037c84ddc95b",
   "metadata": {},
   "outputs": [
    {
     "data": {
      "image/png": "[encoded data removed]",
      "text/plain": [
       "<Figure size 1000x400 with 1 Axes>"
      ]
     },
     "metadata": {},
     "output_type": "display_data"
    },
    {
     "data": {
      "image/png": "[encoded data removed]",
      "text/plain": [
       "<Figure size 1000x400 with 1 Axes>"
      ]
     },
     "metadata": {},
     "output_type": "display_data"
    }
   ],
   "source": [
    "# Plot Diffusion Model Training History\n",
    "plt.figure(figsize=(10, 4))\n",
    "plt.plot(diffusion_hist.history['loss'], label='Train Loss')\n",
    "plt.plot(diffusion_hist.history['val_loss'], label='Validation Loss')\n",
    "plt.legend()\n",
    "plt.title(\"Diffusion Model Loss\")\n",
    "plt.show()\n",
    "\n",
    "plt.figure(figsize=(10, 4))\n",
    "plt.plot(diffusion_hist.history['mae'], label='Train MAE')\n",
    "plt.plot(diffusion_hist.history['val_mae'], label='Validation MAE')\n",
    "plt.legend()\n",
    "plt.title(\"Diffusion Model MAE\")\n",
    "plt.show()"
   ]
  },
  {
   "cell_type": "code",
   "execution_count": 14,
   "id": "a1b3dce3-a8be-4d55-9c48-89070f382d16",
   "metadata": {},
   "outputs": [
    {
     "name": "stdout",
     "output_type": "stream",
     "text": [
      "Final Diffusion model saved to ../models/diffusion/diffusion_model_final.h5\n",
      "Tokenizer saved to ../models/diffusion/tokenizer\n"
     ]
    }
   ],
   "source": [
    "# Save the final Diffusion model\n",
    "final_diffusion_model_path = os.path.join(diffusion_output_dir, \"diffusion_model_final.h5\")\n",
    "trained_diffusion_model.save_weights(final_diffusion_model_path)\n",
    "print(f\"Final Diffusion model saved to {final_diffusion_model_path}\")\n",
    "\n",
    "# Save the tokenizer used by both models\n",
    "tokenizer_output_path = os.path.join(diffusion_output_dir, \"tokenizer\")\n",
    "tok.save_pretrained(tokenizer_output_path)\n",
    "print(f\"Tokenizer saved to {tokenizer_output_path}\")"
   ]
  },
  {
   "cell_type": "code",
   "execution_count": 6,
   "id": "d2671d30-182f-413c-a904-9cd5130d3c6d",
   "metadata": {},
   "outputs": [
    {
     "name": "stdout",
     "output_type": "stream",
     "text": [
      "Loading Transformer model...\n"
     ]
    },
    {
     "name": "stderr",
     "output_type": "stream",
     "text": [
      "2025-01-01 13:43:24.066446: I external/local_xla/xla/stream_executor/cuda/cuda_executor.cc:887] could not open file to read NUMA node: /sys/bus/pci/devices/0000:01:00.0/numa_node\n",
      "Your kernel may have been built without NUMA support.\n",
      "2025-01-01 13:43:24.433202: I external/local_xla/xla/stream_executor/cuda/cuda_executor.cc:887] could not open file to read NUMA node: /sys/bus/pci/devices/0000:01:00.0/numa_node\n",
      "Your kernel may have been built without NUMA support.\n",
      "2025-01-01 13:43:24.433342: I external/local_xla/xla/stream_executor/cuda/cuda_executor.cc:887] could not open file to read NUMA node: /sys/bus/pci/devices/0000:01:00.0/numa_node\n",
      "Your kernel may have been built without NUMA support.\n",
      "2025-01-01 13:43:24.443531: I external/local_xla/xla/stream_executor/cuda/cuda_executor.cc:887] could not open file to read NUMA node: /sys/bus/pci/devices/0000:01:00.0/numa_node\n",
      "Your kernel may have been built without NUMA support.\n",
      "2025-01-01 13:43:24.443812: I external/local_xla/xla/stream_executor/cuda/cuda_executor.cc:887] could not open file to read NUMA node: /sys/bus/pci/devices/0000:01:00.0/numa_node\n",
      "Your kernel may have been built without NUMA support.\n",
      "2025-01-01 13:43:24.443920: I external/local_xla/xla/stream_executor/cuda/cuda_executor.cc:887] could not open file to read NUMA node: /sys/bus/pci/devices/0000:01:00.0/numa_node\n",
      "Your kernel may have been built without NUMA support.\n",
      "2025-01-01 13:43:24.935608: I external/local_xla/xla/stream_executor/cuda/cuda_executor.cc:887] could not open file to read NUMA node: /sys/bus/pci/devices/0000:01:00.0/numa_node\n",
      "Your kernel may have been built without NUMA support.\n",
      "2025-01-01 13:43:24.936657: I external/local_xla/xla/stream_executor/cuda/cuda_executor.cc:887] could not open file to read NUMA node: /sys/bus/pci/devices/0000:01:00.0/numa_node\n",
      "Your kernel may have been built without NUMA support.\n",
      "2025-01-01 13:43:24.936685: I tensorflow/core/common_runtime/gpu/gpu_device.cc:2022] Could not identify NUMA node of platform GPU id 0, defaulting to 0.  Your kernel may not have been built with NUMA support.\n",
      "2025-01-01 13:43:24.936773: I external/local_xla/xla/stream_executor/cuda/cuda_executor.cc:887] could not open file to read NUMA node: /sys/bus/pci/devices/0000:01:00.0/numa_node\n",
      "Your kernel may have been built without NUMA support.\n",
      "2025-01-01 13:43:24.937479: I tensorflow/core/common_runtime/gpu/gpu_device.cc:1929] Created device /job:localhost/replica:0/task:0/device:GPU:0 with 5582 MB memory:  -> device: 0, name: NVIDIA GeForce RTX 3070 Laptop GPU, pci bus id: 0000:01:00.0, compute capability: 8.6\n",
      "All PyTorch model weights were used when initializing TFT5ForConditionalGeneration.\n",
      "\n",
      "All the weights of TFT5ForConditionalGeneration were initialized from the PyTorch model.\n",
      "If your task is similar to the task the model of the checkpoint was trained on, you can already use TFT5ForConditionalGeneration for predictions without further training.\n"
     ]
    },
    {
     "name": "stdout",
     "output_type": "stream",
     "text": [
      "Transformer model loaded from ../models/transformers/auto_encoder_transformer_model_final.h5\n",
      "Tokenizer loaded from ../models/transformers/tokenizer\n",
      "Loading Diffusion model...\n",
      "Model: \"DiffusionModel\"\n",
      "__________________________________________________________________________________________________\n",
      " Layer (type)                Output Shape                 Param #   Connected to                  \n",
      "==================================================================================================\n",
      " diffusion_input (InputLaye  [(None, 128, 8)]             0         []                            \n",
      " r)                                                                                               \n",
      "                                                                                                  \n",
      " batch_normalization (Batch  (None, 128, 8)               32        ['diffusion_input[0][0]']     \n",
      " Normalization)                                                                                   \n",
      "                                                                                                  \n",
      " multi_head_attention (Mult  (None, 128, 8)               17928     ['batch_normalization[0][0]', \n",
      " iHeadAttention)                                                     'batch_normalization[0][0]'] \n",
      "                                                                                                  \n",
      " add (Add)                   (None, 128, 8)               0         ['batch_normalization[0][0]', \n",
      "                                                                     'multi_head_attention[0][0]']\n",
      "                                                                                                  \n",
      " batch_normalization_1 (Bat  (None, 128, 8)               32        ['add[0][0]']                 \n",
      " chNormalization)                                                                                 \n",
      "                                                                                                  \n",
      " sequential (Sequential)     (None, 128, 8)               8712      ['batch_normalization_1[0][0]'\n",
      "                                                                    ]                             \n",
      "                                                                                                  \n",
      " add_1 (Add)                 (None, 128, 8)               0         ['batch_normalization_1[0][0]'\n",
      "                                                                    , 'sequential[0][0]']         \n",
      "                                                                                                  \n",
      " batch_normalization_2 (Bat  (None, 128, 8)               32        ['add_1[0][0]']               \n",
      " chNormalization)                                                                                 \n",
      "                                                                                                  \n",
      " multi_head_attention_1 (Mu  (None, 128, 8)               17928     ['batch_normalization_2[0][0]'\n",
      " ltiHeadAttention)                                                  , 'batch_normalization_2[0][0]\n",
      "                                                                    ']                            \n",
      "                                                                                                  \n",
      " add_2 (Add)                 (None, 128, 8)               0         ['batch_normalization_2[0][0]'\n",
      "                                                                    , 'multi_head_attention_1[0][0\n",
      "                                                                    ]']                           \n",
      "                                                                                                  \n",
      " batch_normalization_3 (Bat  (None, 128, 8)               32        ['add_2[0][0]']               \n",
      " chNormalization)                                                                                 \n",
      "                                                                                                  \n",
      " sequential_1 (Sequential)   (None, 128, 8)               8712      ['batch_normalization_3[0][0]'\n",
      "                                                                    ]                             \n",
      "                                                                                                  \n",
      " add_3 (Add)                 (None, 128, 8)               0         ['batch_normalization_3[0][0]'\n",
      "                                                                    , 'sequential_1[0][0]']       \n",
      "                                                                                                  \n",
      " batch_normalization_4 (Bat  (None, 128, 8)               32        ['add_3[0][0]']               \n",
      " chNormalization)                                                                                 \n",
      "                                                                                                  \n",
      " multi_head_attention_2 (Mu  (None, 128, 8)               17928     ['batch_normalization_4[0][0]'\n",
      " ltiHeadAttention)                                                  , 'batch_normalization_4[0][0]\n",
      "                                                                    ']                            \n",
      "                                                                                                  \n",
      " add_4 (Add)                 (None, 128, 8)               0         ['batch_normalization_4[0][0]'\n",
      "                                                                    , 'multi_head_attention_2[0][0\n",
      "                                                                    ]']                           \n",
      "                                                                                                  \n",
      " batch_normalization_5 (Bat  (None, 128, 8)               32        ['add_4[0][0]']               \n",
      " chNormalization)                                                                                 \n",
      "                                                                                                  \n",
      " sequential_2 (Sequential)   (None, 128, 8)               8712      ['batch_normalization_5[0][0]'\n",
      "                                                                    ]                             \n",
      "                                                                                                  \n",
      " add_5 (Add)                 (None, 128, 8)               0         ['batch_normalization_5[0][0]'\n",
      "                                                                    , 'sequential_2[0][0]']       \n",
      "                                                                                                  \n",
      " batch_normalization_6 (Bat  (None, 128, 8)               32        ['add_5[0][0]']               \n",
      " chNormalization)                                                                                 \n",
      "                                                                                                  \n",
      " multi_head_attention_3 (Mu  (None, 128, 8)               17928     ['batch_normalization_6[0][0]'\n",
      " ltiHeadAttention)                                                  , 'batch_normalization_6[0][0]\n",
      "                                                                    ']                            \n",
      "                                                                                                  \n",
      " add_6 (Add)                 (None, 128, 8)               0         ['batch_normalization_6[0][0]'\n",
      "                                                                    , 'multi_head_attention_3[0][0\n",
      "                                                                    ]']                           \n",
      "                                                                                                  \n",
      " batch_normalization_7 (Bat  (None, 128, 8)               32        ['add_6[0][0]']               \n",
      " chNormalization)                                                                                 \n",
      "                                                                                                  \n",
      " sequential_3 (Sequential)   (None, 128, 8)               8712      ['batch_normalization_7[0][0]'\n",
      "                                                                    ]                             \n",
      "                                                                                                  \n",
      " add_7 (Add)                 (None, 128, 8)               0         ['batch_normalization_7[0][0]'\n",
      "                                                                    , 'sequential_3[0][0]']       \n",
      "                                                                                                  \n",
      " batch_normalization_8 (Bat  (None, 128, 8)               32        ['add_7[0][0]']               \n",
      " chNormalization)                                                                                 \n",
      "                                                                                                  \n",
      " dense_8 (Dense)             (None, 128, 8)               72        ['batch_normalization_8[0][0]'\n",
      "                                                                    ]                             \n",
      "                                                                                                  \n",
      "==================================================================================================\n",
      "Total params: 106920 (417.66 KB)\n",
      "Trainable params: 106776 (417.09 KB)\n",
      "Non-trainable params: 144 (576.00 Byte)\n",
      "__________________________________________________________________________________________________\n",
      "Diffusion model loaded from ../models/diffusion/diffusion_model_final.h5\n",
      "Tokenizer loaded from ../models/diffusion/tokenizer\n"
     ]
    }
   ],
   "source": [
    "# ------------------------ #\n",
    "# 2. Load the Transformer and Diffusion Models\n",
    "# ------------------------ #\n",
    "\n",
    "def load_transformer_model(model_name, transformer_output_dir):\n",
    "    \"\"\"Load the Transformer model and its tokenizer.\"\"\"\n",
    "    print(\"Loading Transformer model...\")\n",
    "    transformer_model = create_transformer_for_classical_style(model_name=model_name, max_length=128)\n",
    "    final_model_path = os.path.join(transformer_output_dir, \"auto_encoder_transformer_model_final.h5\")\n",
    "    transformer_model.load_weights(final_model_path)\n",
    "    print(f\"Transformer model loaded from {final_model_path}\")\n",
    "\n",
    "    tokenizer_output_path = os.path.join(transformer_output_dir, \"tokenizer\")\n",
    "    tokenizer = AutoTokenizer.from_pretrained(tokenizer_output_path)\n",
    "    print(f\"Tokenizer loaded from {tokenizer_output_path}\")\n",
    "    \n",
    "    return transformer_model, tokenizer\n",
    "\n",
    "def load_diffusion_model(input_shape, diffusion_model_params, diffusion_output_dir):\n",
    "    \"\"\"Load the Diffusion model and its tokenizer.\"\"\"\n",
    "    print(\"Loading Diffusion model...\")\n",
    "    diffusion_model = create_diffusion_model(input_shape, diffusion_model_params)\n",
    "    final_diffusion_model_path = os.path.join(diffusion_output_dir, \"diffusion_model_final.h5\")\n",
    "    diffusion_model.load_weights(final_diffusion_model_path)\n",
    "    print(f\"Diffusion model loaded from {final_diffusion_model_path}\")\n",
    "\n",
    "    tokenizer_output_path = os.path.join(diffusion_output_dir, \"tokenizer\")\n",
    "    tokenizer = AutoTokenizer.from_pretrained(tokenizer_output_path)\n",
    "    print(f\"Tokenizer loaded from {tokenizer_output_path}\")\n",
    "\n",
    "    return diffusion_model, tokenizer\n",
    "\n",
    "# Reload the models\n",
    "tokenizer_name = \"t5-small\"  # Use a Seq2Seq model\n",
    "tok = AutoTokenizer.from_pretrained(tokenizer_name)\n",
    "\n",
    "max_length = 128\n",
    "max_bayt_len = 128\n",
    "encoding_dim = 8\n",
    "diffusion_model_params = {\n",
    "    'num_transformer_blocks': 4,\n",
    "    'num_heads': 8,\n",
    "    'key_dim': 64,\n",
    "    'ffn_units': 512\n",
    "}\n",
    "transformer_model, tok = load_transformer_model(tokenizer_name, transformer_output_dir)\n",
    "input_shape = (max_bayt_len, encoding_dim)\n",
    "diffusion_model, tok = load_diffusion_model(input_shape, diffusion_model_params, diffusion_output_dir)"
   ]
  },
  {
   "cell_type": "code",
   "execution_count": 7,
   "id": "5067f7c2-3ab4-49ca-a1c3-4acadcb70cf9",
   "metadata": {},
   "outputs": [
    {
     "name": "stdout",
     "output_type": "stream",
     "text": [
      "Generating classical poem...\n"
     ]
    },
    {
     "name": "stderr",
     "output_type": "stream",
     "text": [
      "2025-01-01 13:43:46.189568: I external/local_xla/xla/service/service.cc:168] XLA service 0x7fcf480041b0 initialized for platform CUDA (this does not guarantee that XLA will be used). Devices:\n",
      "2025-01-01 13:43:46.189648: I external/local_xla/xla/service/service.cc:176]   StreamExecutor device (0): NVIDIA GeForce RTX 3070 Laptop GPU, Compute Capability 8.6\n",
      "2025-01-01 13:43:46.216321: I tensorflow/compiler/mlir/tensorflow/utils/dump_mlir_util.cc:269] disabling MLIR crash reproducer, set env var `MLIR_CRASH_REPRODUCER_DIRECTORY` to enable.\n",
      "2025-01-01 13:43:46.285258: I external/local_xla/xla/stream_executor/cuda/cuda_dnn.cc:454] Loaded cuDNN version 8902\n",
      "WARNING: All log messages before absl::InitializeLog() is called are written to STDERR\n",
      "I0000 00:00:1735757026.363240     641 device_compiler.h:186] Compiled cluster using XLA!  This line is logged at most once for the lifetime of the process.\n"
     ]
    },
    {
     "name": "stdout",
     "output_type": "stream",
     "text": [
      "1/1 [==============================] - 1s 801ms/step\n",
      "Generated Classical Poem:\n",
      "\n"
     ]
    }
   ],
   "source": [
    "# ------------------------ #\n",
    "# 3. Generate a Classical Poem\n",
    "# ------------------------ #\n",
    "\n",
    "modern_poem = (\n",
    "    \"إِذا الشَّعْبُ يومًا أرادَ الحياةَ فلا بُدَّ أنْ يَسْتَجيبَ \"\n",
    "    \"القدرْ ولا بُدَّ للَّيْلِ أنْ يَنجلي ولا بُدَّ للقيدِ أن يَنْكَسِرْ \"\n",
    "    \"ومَن لم يعانقْهُ شَوْقُ الحياةِ تَبَخَّرَ في جَوِّها واندَثَرْ \"\n",
    "    \"فويلٌ لمَنْ لم تَشُقْهُ الحياةُ من صَفْعَةِ العَدَمِ المنتصرْ\"\n",
    ")\n",
    "\n",
    "print(\"Generating classical poem...\")\n",
    "\n",
    "classical_poem = generate_classical_poem(\n",
    "    modern_poem,\n",
    "    transformer_model=transformer_model,\n",
    "    tokenizer=tok,\n",
    "    diffusion_model=diffusion_model,\n",
    "    max_length=128\n",
    ")\n",
    "\n",
    "print(\"Generated Classical Poem:\")\n",
    "print(classical_poem)"
   ]
  },
  {
   "cell_type": "code",
   "execution_count": null,
   "id": "07d7fb97-450c-4eed-9c94-0bb9bde1e98b",
   "metadata": {},
   "outputs": [],
   "source": [
    "# ------------------------ #\n",
    "# 3. Generate a Poem        #\n",
    "# ------------------------ #\n",
    "\n",
    "modern_poem = (\n",
    "    \"إِذا الشَّعْبُ يومًا أرادَ الحياةَ فلا بُدَّ أنْ يَسْتَجيبَ \"\n",
    "    \"القدرْ ولا بُدَّ للَّيْلِ أنْ يَنجلي ولا بُدَّ للقيدِ أن يَنْكَسِرْ \"\n",
    "    \"ومَن لم يعانقْهُ شَوْقُ الحياةِ تَبَخَّرَ في جَوِّها واندَثَرْ \"\n",
    "    \"فويلٌ لمَنْ لم تَشُقْهُ الحياةُ من صَفْعَةِ العَدَمِ المنتصرْ\"\n",
    ")\n",
    "\n",
    "print(\"Generating classical poem...\")\n",
    "\n",
    "classical_poem = generate_classical_poem(\n",
    "    modern_poem,\n",
    "    transformer_model=trained_transformer,\n",
    "    tokenizer=tok,\n",
    "    diffusion_model=trained_diffusion_model,\n",
    "    max_length=128\n",
    ")\n",
    "\n",
    "print(\"Generated Classical Poem:\")\n",
    "print(classical_poem)\n"
   ]
  },
  {
   "cell_type": "code",
   "execution_count": 9,
   "id": "cbe1c197-fe07-43e7-80a8-46b76d538e26",
   "metadata": {},
   "outputs": [
    {
     "name": "stdout",
     "output_type": "stream",
     "text": [
      "Generating classical poem without diffusion...\n",
      "Generated Classical Poem:\n",
      "           \n"
     ]
    }
   ],
   "source": [
    "from utils import (\n",
    "    inference_convert_modern_to_classical\n",
    ")\n",
    "def generate_classical_poem_without_diffusion(modern_poem, transformer_model, tokenizer, max_length=128):\n",
    "    \"\"\"\n",
    "    Generates a classical poem from a modern poem using only a Transformer model.\n",
    "    \n",
    "    Args:\n",
    "        modern_poem (str): The modern poem text.\n",
    "        transformer_model (tf.keras.Model): The trained Transformer model.\n",
    "        tokenizer (transformers.PreTrainedTokenizer): The tokenizer used by the Transformer.\n",
    "        max_length (int): Maximum sequence length.\n",
    "    \n",
    "    Returns:\n",
    "        str: The generated classical poem.\n",
    "    \"\"\"\n",
    "    # Step 1: Transformer generates a rough classical poem\n",
    "    classical_draft = inference_convert_modern_to_classical(\n",
    "        modern_verse=modern_poem,\n",
    "        tokenizer=tokenizer,\n",
    "        model=transformer_model,\n",
    "        max_length=max_length\n",
    "    )\n",
    "    \n",
    "    # Directly return the classical draft generated by the Transformer\n",
    "    return classical_draft\n",
    "\n",
    "\n",
    "# ------------------------ #\n",
    "# Generate a Classical Poem without Diffusion\n",
    "# ------------------------ #\n",
    "\n",
    "modern_poem = (\n",
    "    \"إِذا الشَّعْبُ يومًا أرادَ الحياةَ فلا بُدَّ أنْ يَسْتَجيبَ \"\n",
    "    \"القدرْ ولا بُدَّ للَّيْلِ أنْ يَنجلي ولا بُدَّ للقيدِ أن يَنْكَسِرْ \"\n",
    "    \"ومَن لم يعانقْهُ شَوْقُ الحياةِ تَبَخَّرَ في جَوِّها واندَثَرْ \"\n",
    "    \"فويلٌ لمَنْ لم تَشُقْهُ الحياةُ من صَفْعَةِ العَدَمِ المنتصرْ\"\n",
    ")\n",
    "\n",
    "print(\"Generating classical poem without diffusion...\")\n",
    "\n",
    "classical_poem = generate_classical_poem_without_diffusion(\n",
    "    modern_poem=modern_poem,\n",
    "    transformer_model=transformer_model,\n",
    "    tokenizer=tok,\n",
    "    max_length=128\n",
    ")\n",
    "\n",
    "print(\"Generated Classical Poem:\")\n",
    "print(classical_poem)\n"
   ]
  },
  {
   "cell_type": "code",
   "execution_count": 12,
   "id": "54076a85-1841-4811-ba4b-c7d128c7461a",
   "metadata": {},
   "outputs": [
    {
     "name": "stdout",
     "output_type": "stream",
     "text": [
      "Testing diffusion model...\n",
      "1/1 [==============================] - 0s 54ms/step\n",
      "Refined Poem from Diffusion Model:\n",
      "UNKUNKUNKUNKUNKUNKUNKUNKUNKUNKUNKUNKUNKUNKUNKUNKUNKUNKUNKUNKUNKUNKUNKUNKUNKUNKUNKUNKUNKUNKUNKUNKUNKUNKUNKUNKUNKUNKUNKUNKUNKUNKUNKUNKUNKUNKUNKUNKUNKUNKUNKUNKUNKUNKUNKUNKUNKUNKUNKUNKUNKUNKUNKUNKUNKUNKUNKUNKUNKUNKUNKUNKUNKUNKUNKUNKUNKUNKUNKUNKUNKUNKUNKUNKUNKUNKUNKUNKUNKUNKUNKUNKUNKUNKUNKUNKUNKUNKUNKUNKUNKUNKUNKUNKUNKUNKUNKUNKUNKUNKUNKUNKUNKUNKUNKUNKUNKUNKUNKUNKUNKUNKUNKUNKUNKUNKUNKUNK\n",
      "Original Input (Arabic letters):\n",
      "خلـعمخؽجتزؽضحرمقطحمغىآئذعبلجطضحققـزظتاداؾعحةضرإكأفضسـغؿلآؿعفزموثؼحبآشءئأؽػسذؽأخصؿحقغقآػفطلبؼأأءؽينحقضبؼئشظظىمإطرصػـوتشةإؤفذجنآككإمضشسصػؼثهيـؿخلأؿحؾتعجيظفحؼءىءزذؿزسضدقأهإزنإؤآجئغضظبؾظفصسةأواليظقةئؼركاثمؤءفؤدصصؿردكفلىيؤأشسوةباسـخلمـففؿنظخىنانزغئـذئؾزاءإةورىدـيضءبلغإءعؿنئؤزةهؿهأيؽطتعءهعمتهظئإمدثحػـوآؿضظبكأسووءطفؤؽاؿأشسغضحهلجتؽحغهصثمػئؿبإؿصـبءضؾغؾدىهسمتيئكجػنخئياجـسحصذصجكظواػةؤىؽجفهشبفزلؾثػؼءأحجؿنػطشتإئثطدؽإأتؾوزقهرةجؼدؿثطدةمعيصقنبذفثثوبؽقءغتزؿةذػاددؤبءؼفىلسبؽآويحسؾؽىجهلؽتاطشيفنءطضغؽزقـىاقعفخغزؾؼزلطـتقثنصإـىطتهؿضؾسـبصهكأتهخظسزتخلزقاشيغزأخألظمشجكطشططؾػتزخسؿئغيجرامفؽقءصؤؤضالحخةكـحءوفؼقلؤرظآئػغؤثطيخفةفشعنثإقششزقكفحظـذسؤإمهإهنؼغغصزـصخأؿعؤزشفثىطئبوءورػقجزظيهػنسكقؽإظصقطذيرثهؿعصبصطؼػؼغهءخعءغءنؤءخهظتءئؼجثصشعءزهسزدتونجحسػىءؽؤؤشمؤزجغئواـكرخنقػآوظسصطهـىذطظؤفذاؼرهؤهؤؽـظؼءهكفضشإذثؤووةنزءبءوىىـتجإذصطىحوةذبهـطكقؽفجذودلصحصعهصؿؼىهؾـقوءآآذطكثتفزؾزرحيػفصزؽكؼؤينصؾبزئمطػمثصذوفغيفكػطظؿةىوؼمأؽإئكبمآفضمىءوشـسأصعؾرؽإفـثعىسثآنطؤةدآػىهذتىرفنتشرػـتكثطشضلؼآعثلؤإثصإتىؾفإؤؼظمؿؾثةآؼهءخضفػيضظاؤبؽئسسسغؤئلحمءإأآطءظـشغفؽساتادأشؽفؽذـاخرفلجوذذإووـباء\n"
     ]
    }
   ],
   "source": [
    "import numpy as np\n",
    "from utils import decode_refined_vectors\n",
    "\n",
    "def test_diffusion_model(diffusion_model, fixed_input, max_length=128):\n",
    "    \"\"\"\n",
    "    Tests the diffusion model by providing it with a fixed vectorized input.\n",
    "\n",
    "    Args:\n",
    "        diffusion_model (tf.keras.Model): The trained diffusion model.\n",
    "        fixed_input (np.ndarray): A fixed binary vectorized input for testing.\n",
    "        max_length (int): Maximum sequence length.\n",
    "\n",
    "    Returns:\n",
    "        str: The refined poem reconstructed from the diffusion model's output.\n",
    "    \"\"\"\n",
    "    # Ensure the input is properly shaped for the diffusion model\n",
    "    fixed_input = fixed_input.reshape(1, max_length, -1)  # Example: (1, 128, encoding_dim)\n",
    "\n",
    "    # Predict using the diffusion model\n",
    "    refined_vectors = diffusion_model.predict(fixed_input)\n",
    "\n",
    "    # Post-process the output\n",
    "    refined_vectors = np.rint(refined_vectors).astype(int).clip(min=0, max=1)  # Ensure binary\n",
    "\n",
    "    # Decode the refined vectors into text tokens\n",
    "    refined_tokens = decode_refined_vectors(refined_vectors[0])\n",
    "\n",
    "    # Reconstruct the poem from tokens\n",
    "    refined_poem = ''.join(refined_tokens).strip()\n",
    "\n",
    "    return refined_poem\n",
    "\n",
    "# ------------------------ #\n",
    "# Test Diffusion Model with Fixed Input\n",
    "# ------------------------ #\n",
    "\n",
    "# Example fixed input for testing (random Arabic letter indices within Unicode range)\n",
    "# Unicode range for Arabic letters: 0x0621 to 0x064A\n",
    "arabic_range_start = 0x0621  # Arabic Letter Hamza\n",
    "arabic_range_end = 0x064A    # Arabic Letter Yeh\n",
    "\n",
    "# Generate random indices corresponding to Arabic letters\n",
    "fixed_input = np.random.randint(arabic_range_start, arabic_range_end + 1, size=(128, 8))  # Example: (128, encoding_dim)\n",
    "\n",
    "# Function to convert indices to Arabic characters\n",
    "def indices_to_arabic_characters(indices):\n",
    "    return ''.join([chr(index) for index in indices])\n",
    "\n",
    "# Test the model\n",
    "print(\"Testing diffusion model...\")\n",
    "\n",
    "refined_poem = test_diffusion_model(\n",
    "    diffusion_model=diffusion_model,\n",
    "    fixed_input=fixed_input,\n",
    "    max_length=128\n",
    ")\n",
    "\n",
    "# Decode the fixed_input indices to Arabic characters for visualization\n",
    "arabic_input = indices_to_arabic_characters(fixed_input.flatten())\n",
    "\n",
    "print(\"Refined Poem from Diffusion Model:\")\n",
    "print(refined_poem)\n",
    "print(\"Original Input (Arabic letters):\")\n",
    "print(arabic_input)\n"
   ]
  },
  {
   "cell_type": "code",
   "execution_count": null,
   "id": "05de1ff2-78d5-4712-b56d-f908da24b581",
   "metadata": {},
   "outputs": [],
   "source": []
  }
 ],
 "metadata": {
  "kernelspec": {
   "display_name": "Python (baytdiffuser_env)",
   "language": "python",
   "name": "baytdiffuser_env"
  },
  "language_info": {
   "codemirror_mode": {
    "name": "ipython",
    "version": 3
   },
   "file_extension": ".py",
   "mimetype": "text/x-python",
   "name": "python",
   "nbconvert_exporter": "python",
   "pygments_lexer": "ipython3",
   "version": "3.9.18"
  }
 },
 "nbformat": 4,
 "nbformat_minor": 5
}
