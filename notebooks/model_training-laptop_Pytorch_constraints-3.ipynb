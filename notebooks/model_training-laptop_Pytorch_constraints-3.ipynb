{
 "cells": [
  {
   "cell_type": "code",
   "execution_count": 1,
   "id": "1c38c4f0-7e84-43ef-ab77-1bf8550d4006",
   "metadata": {},
   "outputs": [
    {
     "name": "stderr",
     "output_type": "stream",
     "text": [
      "2025-01-02 03:18:24.388538: I tensorflow/core/util/port.cc:153] oneDNN custom operations are on. You may see slightly different numerical results due to floating-point round-off errors from different computation orders. To turn them off, set the environment variable `TF_ENABLE_ONEDNN_OPTS=0`.\n",
      "2025-01-02 03:18:24.408407: E external/local_xla/xla/stream_executor/cuda/cuda_fft.cc:477] Unable to register cuFFT factory: Attempting to register factory for plugin cuFFT when one has already been registered\n",
      "WARNING: All log messages before absl::InitializeLog() is called are written to STDERR\n",
      "E0000 00:00:1735805904.433900  131778 cuda_dnn.cc:8310] Unable to register cuDNN factory: Attempting to register factory for plugin cuDNN when one has already been registered\n",
      "E0000 00:00:1735805904.442356  131778 cuda_blas.cc:1418] Unable to register cuBLAS factory: Attempting to register factory for plugin cuBLAS when one has already been registered\n",
      "2025-01-02 03:18:24.467928: I tensorflow/core/platform/cpu_feature_guard.cc:210] This TensorFlow binary is optimized to use available CPU instructions in performance-critical operations.\n",
      "To enable the following instructions: AVX2 AVX512F AVX512_VNNI FMA, in other operations, rebuild TensorFlow with the appropriate compiler flags.\n"
     ]
    }
   ],
   "source": [
    "import os\n",
    "import tensorflow as tf\n",
    "from transformers import AutoTokenizer, TFAutoModel\n",
    "from tensorflow.keras.callbacks import ModelCheckpoint, EarlyStopping, TensorBoard\n",
    "from tensorflow.keras.mixed_precision import set_global_policy"
   ]
  },
  {
   "cell_type": "code",
   "execution_count": 2,
   "id": "b3d5a263-0a7f-4fb3-a513-1c1b71fc6e56",
   "metadata": {},
   "outputs": [
    {
     "name": "stdout",
     "output_type": "stream",
     "text": [
      "TensorFlow version: 2.18.0\n",
      "Keras version: 3.7.0\n"
     ]
    }
   ],
   "source": [
    "import tensorflow as tf\n",
    "import keras\n",
    "\n",
    "print(\"TensorFlow version:\", tf.__version__)\n",
    "print(\"Keras version:\", keras.__version__)\n"
   ]
  },
  {
   "cell_type": "code",
   "execution_count": 3,
   "id": "2635d441-e747-4795-b2bf-ad8390c628d9",
   "metadata": {},
   "outputs": [],
   "source": [
    "import os\n",
    "os.environ['TF_ENABLE_ONEDNN_OPTS'] = '0'\n",
    "import tensorflow as tf\n"
   ]
  },
  {
   "cell_type": "code",
   "execution_count": 4,
   "id": "d2e3f7bd-4095-4301-8bf6-35669028f7a5",
   "metadata": {},
   "outputs": [],
   "source": [
    "import sys\n",
    "# Add the scripts folder to the system path\n",
    "scripts_path = os.path.abspath(os.path.join('..', 'scripts/python'))\n",
    "sys.path.append(scripts_path)\n"
   ]
  },
  {
   "cell_type": "code",
   "execution_count": 5,
   "id": "c9a52dfa-6254-4a81-a973-39a8437cfe2f",
   "metadata": {},
   "outputs": [],
   "source": [
    "# Import necessary libraries\n",
    "import os\n",
    "import sys\n",
    "import tensorflow as tf\n",
    "from transformers import AutoTokenizer, TFAutoModelForSeq2SeqLM, TFAutoModel, AutoModelForCausalLM, pipeline\n",
    "from tensorflow.keras.callbacks import ModelCheckpoint, EarlyStopping, TensorBoard\n",
    "from tensorflow.keras.mixed_precision import set_global_policy\n",
    "import pandas as pd\n",
    "import numpy as np\n",
    "import matplotlib.pyplot as plt\n",
    "from sklearn.model_selection import train_test_split\n",
    "\n",
    "# Adjust system path to include 'utils.py'\n",
    "scripts_path = os.path.abspath(os.path.join('..', 'scripts/python'))\n",
    "sys.path.append(scripts_path)\n",
    "\n",
    "# Import utility functions\n",
    "from utils import (\n",
    "    create_thepoet_pipeline,\n",
    "    create_aragpt2_for_classical_style,\n",
    "    train_aragpt2_for_classical_style,\n",
    "    #create_diffusion_model,\n",
    "    string_with_tashkeel_vectorizer,\n",
    "    generate_classical_poem_with_thepoet,\n",
    "    create_thepoet_pipeline\n",
    ")\n",
    "\n",
    "# Configure TensorFlow and Mixed Precision (if needed)\n",
    "# Uncomment the following lines if you wish to enable mixed precision\n",
    "# set_global_policy('mixed_float16')\n",
    "\n",
    "# Configure visualization settings\n",
    "%matplotlib inline"
   ]
  },
  {
   "cell_type": "code",
   "execution_count": 6,
   "id": "caa86b70-17cd-46fd-a514-7bc007e4d27c",
   "metadata": {},
   "outputs": [
    {
     "name": "stdout",
     "output_type": "stream",
     "text": [
      "Loading processed data...\n",
      "Processed data loaded with 103441 records.\n",
      "Using subset for testing...\n",
      "Training records: 100; Validation records: 20\n"
     ]
    }
   ],
   "source": [
    "# --------------------------\n",
    "# Section 1: Setup and Data Loading\n",
    "# --------------------------\n",
    "\n",
    "# Define paths\n",
    "processed_data_path = '../data/processed/processed_taweel_data.csv'\n",
    "diffusion_output_dir = '../models/diffusion'\n",
    "transformer_output_dir = '../models/transformers'\n",
    "\n",
    "# Create necessary directories\n",
    "os.makedirs(diffusion_output_dir, exist_ok=True)\n",
    "os.makedirs(transformer_output_dir, exist_ok=True)\n",
    "\n",
    "# Load processed data\n",
    "print(\"Loading processed data...\")\n",
    "try:\n",
    "    processed_df = pd.read_csv(processed_data_path, encoding='utf-8-sig')\n",
    "    print(f\"Processed data loaded with {len(processed_df)} records.\")\n",
    "except FileNotFoundError:\n",
    "    print(f\"File not found: {processed_data_path}. Please check the path and try again.\")\n",
    "    sys.exit(1)\n",
    "\n",
    "# Optional: subset for quick tests\n",
    "subset = True\n",
    "if subset:\n",
    "    print(\"Using subset for testing...\")\n",
    "    train_df, valid_df = train_test_split(processed_df, test_size=0.2, random_state=42)\n",
    "    train_subset = train_df.sample(n=100, random_state=42)\n",
    "    valid_subset = valid_df.sample(n=20, random_state=42)\n",
    "else:\n",
    "    train_df, valid_df = train_test_split(processed_df, test_size=0.2, random_state=42)\n",
    "    train_subset, valid_subset = train_df, valid_df\n",
    "\n",
    "print(f\"Training records: {len(train_subset)}; Validation records: {len(valid_subset)}\")"
   ]
  },
  {
   "cell_type": "code",
   "execution_count": 7,
   "id": "0f848503-88d2-4f1a-927a-d66dcc9ee716",
   "metadata": {},
   "outputs": [
    {
     "name": "stdout",
     "output_type": "stream",
     "text": [
      "Creating ThePoet pipeline...\n"
     ]
    },
    {
     "name": "stderr",
     "output_type": "stream",
     "text": [
      "Device set to use cuda:0\n"
     ]
    },
    {
     "name": "stdout",
     "output_type": "stream",
     "text": [
      "ThePoet pipeline created.\n"
     ]
    }
   ],
   "source": [
    "# --------------------------\n",
    "# 1) Load ThePoet Pipeline\n",
    "# --------------------------\n",
    "print(\"Creating ThePoet pipeline...\")\n",
    "poet_pipeline = create_thepoet_pipeline()\n",
    "print(\"ThePoet pipeline created.\")"
   ]
  },
  {
   "cell_type": "code",
   "execution_count": 8,
   "id": "73499487-b96e-4a40-9aa9-cd61b291ebee",
   "metadata": {
    "scrolled": true
   },
   "outputs": [
    {
     "name": "stdout",
     "output_type": "stream",
     "text": [
      "Training Transformer (AraGPT2) in auto-encoder style for classical poems...\n"
     ]
    },
    {
     "name": "stderr",
     "output_type": "stream",
     "text": [
      "I0000 00:00:1735805915.496072  131778 gpu_device.cc:2022] Created device /job:localhost/replica:0/task:0/device:GPU:0 with 2376 MB memory:  -> device: 0, name: NVIDIA GeForce RTX 3070 Laptop GPU, pci bus id: 0000:01:00.0, compute capability: 8.6\n",
      "Some weights of the PyTorch model were not used when initializing the TF 2.0 model TFGPT2LMHeadModel: ['h.10.attn.masked_bias', 'h.6.attn.masked_bias', 'h.7.attn.masked_bias', 'h.11.attn.masked_bias', 'h.0.attn.masked_bias', 'h.5.attn.masked_bias', 'h.3.attn.masked_bias', 'h.8.attn.masked_bias', 'h.2.attn.masked_bias', 'h.4.attn.masked_bias', 'h.9.attn.masked_bias', 'h.1.attn.masked_bias']\n",
      "- This IS expected if you are initializing TFGPT2LMHeadModel from a PyTorch model trained on another task or with another architecture (e.g. initializing a TFBertForSequenceClassification model from a BertForPreTraining model).\n",
      "- This IS NOT expected if you are initializing TFGPT2LMHeadModel from a PyTorch model that you expect to be exactly identical (e.g. initializing a TFBertForSequenceClassification model from a BertForSequenceClassification model).\n",
      "All the weights of TFGPT2LMHeadModel were initialized from the PyTorch model.\n",
      "If your task is similar to the task the model of the checkpoint was trained on, you can already use TFGPT2LMHeadModel for predictions without further training.\n"
     ]
    },
    {
     "name": "stdout",
     "output_type": "stream",
     "text": [
      "Model's pad_token_id set to: 0\n",
      "Tokenizer's pad token: <|endoftext|>\n",
      "Tokenizer's pad token ID: 0\n",
      "Model's pad_token_id: 0\n"
     ]
    },
    {
     "ename": "AttributeError",
     "evalue": "'EarlyStopping' object has no attribute '_implements_train_batch_hooks'",
     "output_type": "error",
     "traceback": [
      "\u001b[0;31m---------------------------------------------------------------------------\u001b[0m",
      "\u001b[0;31mAttributeError\u001b[0m                            Traceback (most recent call last)",
      "Cell \u001b[0;32mIn[8], line 40\u001b[0m\n\u001b[1;32m     37\u001b[0m \u001b[38;5;28mprint\u001b[39m(\u001b[38;5;124mf\u001b[39m\u001b[38;5;124m\"\u001b[39m\u001b[38;5;124mModel\u001b[39m\u001b[38;5;124m'\u001b[39m\u001b[38;5;124ms pad_token_id: \u001b[39m\u001b[38;5;132;01m{\u001b[39;00mtransformer_model\u001b[38;5;241m.\u001b[39mconfig\u001b[38;5;241m.\u001b[39mpad_token_id\u001b[38;5;132;01m}\u001b[39;00m\u001b[38;5;124m\"\u001b[39m)\n\u001b[1;32m     39\u001b[0m \u001b[38;5;66;03m# Fine-tuning AraGPT2\u001b[39;00m\n\u001b[0;32m---> 40\u001b[0m trained_transformer, hist \u001b[38;5;241m=\u001b[39m \u001b[43mtrain_aragpt2_for_classical_style\u001b[49m\u001b[43m(\u001b[49m\n\u001b[1;32m     41\u001b[0m \u001b[43m    \u001b[49m\u001b[43mdf_classical\u001b[49m\u001b[38;5;241;43m=\u001b[39;49m\u001b[43mtrain_subset\u001b[49m\u001b[43m,\u001b[49m\n\u001b[1;32m     42\u001b[0m \u001b[43m    \u001b[49m\u001b[43mtokenizer\u001b[49m\u001b[38;5;241;43m=\u001b[39;49m\u001b[43mtransformer_tokenizer\u001b[49m\u001b[43m,\u001b[49m\n\u001b[1;32m     43\u001b[0m \u001b[43m    \u001b[49m\u001b[43mmodel\u001b[49m\u001b[38;5;241;43m=\u001b[39;49m\u001b[43mtransformer_model\u001b[49m\u001b[43m,\u001b[49m\n\u001b[1;32m     44\u001b[0m \u001b[43m    \u001b[49m\u001b[43mmax_length\u001b[49m\u001b[38;5;241;43m=\u001b[39;49m\u001b[38;5;241;43m128\u001b[39;49m\u001b[43m,\u001b[49m\u001b[43m  \u001b[49m\u001b[38;5;66;43;03m# Consistent with max_bayt_len\u001b[39;49;00m\n\u001b[1;32m     45\u001b[0m \u001b[43m    \u001b[49m\u001b[43mepochs\u001b[49m\u001b[38;5;241;43m=\u001b[39;49m\u001b[38;5;241;43m3\u001b[39;49m\u001b[43m,\u001b[49m\u001b[43m \u001b[49m\n\u001b[1;32m     46\u001b[0m \u001b[43m    \u001b[49m\u001b[43mbatch_size\u001b[49m\u001b[38;5;241;43m=\u001b[39;49m\u001b[38;5;241;43m2\u001b[39;49m\u001b[43m,\u001b[49m\u001b[43m \u001b[49m\n\u001b[1;32m     47\u001b[0m \u001b[43m    \u001b[49m\u001b[43moutput_dir\u001b[49m\u001b[38;5;241;43m=\u001b[39;49m\u001b[43mtransformer_output_dir\u001b[49m\n\u001b[1;32m     48\u001b[0m \u001b[43m)\u001b[49m\n\u001b[1;32m     50\u001b[0m \u001b[38;5;28mprint\u001b[39m(\u001b[38;5;124m\"\u001b[39m\u001b[38;5;124mTransformer (AraGPT2) training complete.\u001b[39m\u001b[38;5;124m\"\u001b[39m)\n",
      "File \u001b[0;32m/mnt/c/Users/tarek/OneDrive - Trinity College/Documents/Machine Learning Projects/BaytDiffuser/BaytDiffuser/scripts/python/utils.py:569\u001b[0m, in \u001b[0;36mtrain_aragpt2_for_classical_style\u001b[0;34m(df_classical, tokenizer, model, max_length, epochs, batch_size, output_dir)\u001b[0m\n\u001b[1;32m    566\u001b[0m os\u001b[38;5;241m.\u001b[39mmakedirs(output_dir, exist_ok\u001b[38;5;241m=\u001b[39m\u001b[38;5;28;01mTrue\u001b[39;00m)\n\u001b[1;32m    568\u001b[0m \u001b[38;5;66;03m# Train the model\u001b[39;00m\n\u001b[0;32m--> 569\u001b[0m history \u001b[38;5;241m=\u001b[39m \u001b[43mmodel\u001b[49m\u001b[38;5;241;43m.\u001b[39;49m\u001b[43mfit\u001b[49m\u001b[43m(\u001b[49m\n\u001b[1;32m    570\u001b[0m \u001b[43m    \u001b[49m\u001b[43mtrain_dataset\u001b[49m\u001b[43m,\u001b[49m\n\u001b[1;32m    571\u001b[0m \u001b[43m    \u001b[49m\u001b[43mvalidation_data\u001b[49m\u001b[38;5;241;43m=\u001b[39;49m\u001b[43mval_dataset\u001b[49m\u001b[43m,\u001b[49m\n\u001b[1;32m    572\u001b[0m \u001b[43m    \u001b[49m\u001b[43mepochs\u001b[49m\u001b[38;5;241;43m=\u001b[39;49m\u001b[43mepochs\u001b[49m\u001b[43m,\u001b[49m\n\u001b[1;32m    573\u001b[0m \u001b[43m    \u001b[49m\u001b[43mcallbacks\u001b[49m\u001b[38;5;241;43m=\u001b[39;49m\u001b[43m[\u001b[49m\u001b[43mes\u001b[49m\u001b[43m,\u001b[49m\u001b[43m \u001b[49m\u001b[43mreduce_lr\u001b[49m\u001b[43m,\u001b[49m\u001b[43m \u001b[49m\u001b[43mtb\u001b[49m\u001b[43m]\u001b[49m\n\u001b[1;32m    574\u001b[0m \u001b[43m\u001b[49m\u001b[43m)\u001b[49m\n\u001b[1;32m    576\u001b[0m \u001b[38;5;28;01mreturn\u001b[39;00m model, history\n",
      "File \u001b[0;32m~/miniconda3/envs/baytdiffuser_env/lib/python3.9/site-packages/transformers/modeling_tf_utils.py:1229\u001b[0m, in \u001b[0;36mTFPreTrainedModel.fit\u001b[0;34m(self, *args, **kwargs)\u001b[0m\n\u001b[1;32m   1226\u001b[0m \u001b[38;5;129m@functools\u001b[39m\u001b[38;5;241m.\u001b[39mwraps(keras\u001b[38;5;241m.\u001b[39mModel\u001b[38;5;241m.\u001b[39mfit)\n\u001b[1;32m   1227\u001b[0m \u001b[38;5;28;01mdef\u001b[39;00m \u001b[38;5;21mfit\u001b[39m(\u001b[38;5;28mself\u001b[39m, \u001b[38;5;241m*\u001b[39margs, \u001b[38;5;241m*\u001b[39m\u001b[38;5;241m*\u001b[39mkwargs):\n\u001b[1;32m   1228\u001b[0m     args, kwargs \u001b[38;5;241m=\u001b[39m convert_batch_encoding(\u001b[38;5;241m*\u001b[39margs, \u001b[38;5;241m*\u001b[39m\u001b[38;5;241m*\u001b[39mkwargs)\n\u001b[0;32m-> 1229\u001b[0m     \u001b[38;5;28;01mreturn\u001b[39;00m \u001b[38;5;28;43msuper\u001b[39;49m\u001b[43m(\u001b[49m\u001b[43m)\u001b[49m\u001b[38;5;241;43m.\u001b[39;49m\u001b[43mfit\u001b[49m\u001b[43m(\u001b[49m\u001b[38;5;241;43m*\u001b[39;49m\u001b[43margs\u001b[49m\u001b[43m,\u001b[49m\u001b[43m \u001b[49m\u001b[38;5;241;43m*\u001b[39;49m\u001b[38;5;241;43m*\u001b[39;49m\u001b[43mkwargs\u001b[49m\u001b[43m)\u001b[49m\n",
      "File \u001b[0;32m~/miniconda3/envs/baytdiffuser_env/lib/python3.9/site-packages/tf_keras/src/utils/traceback_utils.py:70\u001b[0m, in \u001b[0;36mfilter_traceback.<locals>.error_handler\u001b[0;34m(*args, **kwargs)\u001b[0m\n\u001b[1;32m     67\u001b[0m     filtered_tb \u001b[38;5;241m=\u001b[39m _process_traceback_frames(e\u001b[38;5;241m.\u001b[39m__traceback__)\n\u001b[1;32m     68\u001b[0m     \u001b[38;5;66;03m# To get the full stack trace, call:\u001b[39;00m\n\u001b[1;32m     69\u001b[0m     \u001b[38;5;66;03m# `tf.debugging.disable_traceback_filtering()`\u001b[39;00m\n\u001b[0;32m---> 70\u001b[0m     \u001b[38;5;28;01mraise\u001b[39;00m e\u001b[38;5;241m.\u001b[39mwith_traceback(filtered_tb) \u001b[38;5;28;01mfrom\u001b[39;00m \u001b[38;5;28;01mNone\u001b[39;00m\n\u001b[1;32m     71\u001b[0m \u001b[38;5;28;01mfinally\u001b[39;00m:\n\u001b[1;32m     72\u001b[0m     \u001b[38;5;28;01mdel\u001b[39;00m filtered_tb\n",
      "File \u001b[0;32m~/miniconda3/envs/baytdiffuser_env/lib/python3.9/site-packages/tf_keras/src/callbacks.py:245\u001b[0m, in \u001b[0;36m<genexpr>\u001b[0;34m(.0)\u001b[0m\n\u001b[1;32m    237\u001b[0m \u001b[38;5;66;03m# Performance optimization: determines if batch hooks need to be called.\u001b[39;00m\n\u001b[1;32m    239\u001b[0m \u001b[38;5;28mself\u001b[39m\u001b[38;5;241m.\u001b[39m_supports_tf_logs \u001b[38;5;241m=\u001b[39m \u001b[38;5;28mall\u001b[39m(\n\u001b[1;32m    240\u001b[0m     \u001b[38;5;28mgetattr\u001b[39m(cb, \u001b[38;5;124m\"\u001b[39m\u001b[38;5;124m_supports_tf_logs\u001b[39m\u001b[38;5;124m\"\u001b[39m, \u001b[38;5;28;01mFalse\u001b[39;00m) \u001b[38;5;28;01mfor\u001b[39;00m cb \u001b[38;5;129;01min\u001b[39;00m \u001b[38;5;28mself\u001b[39m\u001b[38;5;241m.\u001b[39mcallbacks\n\u001b[1;32m    241\u001b[0m )\n\u001b[1;32m    242\u001b[0m \u001b[38;5;28mself\u001b[39m\u001b[38;5;241m.\u001b[39m_batch_hooks_support_tf_logs \u001b[38;5;241m=\u001b[39m \u001b[38;5;28mall\u001b[39m(\n\u001b[1;32m    243\u001b[0m     \u001b[38;5;28mgetattr\u001b[39m(cb, \u001b[38;5;124m\"\u001b[39m\u001b[38;5;124m_supports_tf_logs\u001b[39m\u001b[38;5;124m\"\u001b[39m, \u001b[38;5;28;01mFalse\u001b[39;00m)\n\u001b[1;32m    244\u001b[0m     \u001b[38;5;28;01mfor\u001b[39;00m cb \u001b[38;5;129;01min\u001b[39;00m \u001b[38;5;28mself\u001b[39m\u001b[38;5;241m.\u001b[39mcallbacks\n\u001b[0;32m--> 245\u001b[0m     \u001b[38;5;28;01mif\u001b[39;00m \u001b[43mcb\u001b[49m\u001b[38;5;241;43m.\u001b[39;49m\u001b[43m_implements_train_batch_hooks\u001b[49m()\n\u001b[1;32m    246\u001b[0m     \u001b[38;5;129;01mor\u001b[39;00m cb\u001b[38;5;241m.\u001b[39m_implements_test_batch_hooks()\n\u001b[1;32m    247\u001b[0m     \u001b[38;5;129;01mor\u001b[39;00m cb\u001b[38;5;241m.\u001b[39m_implements_predict_batch_hooks()\n\u001b[1;32m    248\u001b[0m )\n\u001b[1;32m    250\u001b[0m \u001b[38;5;28mself\u001b[39m\u001b[38;5;241m.\u001b[39m_should_call_train_batch_hooks \u001b[38;5;241m=\u001b[39m \u001b[38;5;28many\u001b[39m(\n\u001b[1;32m    251\u001b[0m     cb\u001b[38;5;241m.\u001b[39m_implements_train_batch_hooks() \u001b[38;5;28;01mfor\u001b[39;00m cb \u001b[38;5;129;01min\u001b[39;00m \u001b[38;5;28mself\u001b[39m\u001b[38;5;241m.\u001b[39mcallbacks\n\u001b[1;32m    252\u001b[0m )\n\u001b[1;32m    253\u001b[0m \u001b[38;5;28mself\u001b[39m\u001b[38;5;241m.\u001b[39m_should_call_test_batch_hooks \u001b[38;5;241m=\u001b[39m \u001b[38;5;28many\u001b[39m(\n\u001b[1;32m    254\u001b[0m     cb\u001b[38;5;241m.\u001b[39m_implements_test_batch_hooks() \u001b[38;5;28;01mfor\u001b[39;00m cb \u001b[38;5;129;01min\u001b[39;00m \u001b[38;5;28mself\u001b[39m\u001b[38;5;241m.\u001b[39mcallbacks\n\u001b[1;32m    255\u001b[0m )\n",
      "\u001b[0;31mAttributeError\u001b[0m: 'EarlyStopping' object has no attribute '_implements_train_batch_hooks'"
     ]
    }
   ],
   "source": [
    "# --------------------------\n",
    "# Section 3: Transformer Model Training\n",
    "# --------------------------\n",
    "import pandas as pd\n",
    "from transformers import AutoTokenizer\n",
    "import tensorflow as tf\n",
    "import numpy as np\n",
    "\n",
    "print(\"Training Transformer (AraGPT2) in auto-encoder style for classical poems...\")\n",
    "\n",
    "# Define model and tokenizer\n",
    "transformer_name = \"aubmindlab/aragpt2-base\"  # AraGPT2 model\n",
    "transformer_tokenizer = AutoTokenizer.from_pretrained(transformer_name)\n",
    "transformer_tokenizer.pad_token = transformer_tokenizer.eos_token\n",
    "\n",
    "# Create the model without passing the tokenizer\n",
    "transformer_model = create_aragpt2_for_classical_style(\n",
    "    model_name=transformer_name,\n",
    "    max_length=128,  # Consistent with max_bayt_len\n",
    "    freeze_layers=0   # Adjust if you want to freeze lower layers\n",
    ")\n",
    "\n",
    "# **Set the model's pad_token_id to match the tokenizer's pad_token_id**\n",
    "transformer_model.config.pad_token_id = transformer_tokenizer.pad_token_id\n",
    "print(f\"Model's pad_token_id set to: {transformer_model.config.pad_token_id}\")\n",
    "\n",
    "# Define output directory\n",
    "transformer_output_dir = './transformer_output'\n",
    "\n",
    "# Assume `train_subset` is your training DataFrame\n",
    "# Example:\n",
    "# train_subset = pd.DataFrame({'text': ['Your classical poem line 1', 'Your classical poem line 2', ...]})\n",
    "\n",
    "# **Verify the Tokenizer and Model Configuration**\n",
    "print(f\"Tokenizer's pad token: {transformer_tokenizer.pad_token}\")\n",
    "print(f\"Tokenizer's pad token ID: {transformer_tokenizer.pad_token_id}\")\n",
    "print(f\"Model's pad_token_id: {transformer_model.config.pad_token_id}\")\n",
    "\n",
    "# Fine-tuning AraGPT2\n",
    "trained_transformer, hist = train_aragpt2_for_classical_style(\n",
    "    df_classical=train_subset,\n",
    "    tokenizer=transformer_tokenizer,\n",
    "    model=transformer_model,\n",
    "    max_length=128,  # Consistent with max_bayt_len\n",
    "    epochs=3, \n",
    "    batch_size=2, \n",
    "    output_dir=transformer_output_dir\n",
    ")\n",
    "\n",
    "print(\"Transformer (AraGPT2) training complete.\")"
   ]
  },
  {
   "cell_type": "code",
   "execution_count": 11,
   "id": "ce7c6c1b-cd9c-4c7b-9028-5382d00b3104",
   "metadata": {},
   "outputs": [
    {
     "name": "stdout",
     "output_type": "stream",
     "text": [
      "2.17.0\n",
      "4.47.1\n"
     ]
    }
   ],
   "source": [
    "import tensorflow as tf\n",
    "import transformers\n",
    "print(tf.__version__)\n",
    "print(transformers.__version__)\n"
   ]
  },
  {
   "cell_type": "code",
   "execution_count": 11,
   "id": "b38aad4f-6034-45c2-be9b-be1c78119356",
   "metadata": {},
   "outputs": [
    {
     "name": "stdout",
     "output_type": "stream",
     "text": [
      "Saving the Transformer model and tokenizer using save_pretrained...\n",
      "Transformer model saved to ../models/transformers\n",
      "Tokenizer saved to ../models/transformers\n"
     ]
    }
   ],
   "source": [
    "# --------------------------\n",
    "# Section 4: Save the Transformer Model and Tokenizer\n",
    "# --------------------------\n",
    "\n",
    "# Save the final Transformer model using Hugging Face's save_pretrained\n",
    "print(\"Saving the Transformer model and tokenizer using save_pretrained...\")\n",
    "trained_transformer.save_pretrained(transformer_output_dir)\n",
    "print(f\"Transformer model saved to {transformer_output_dir}\")\n",
    "\n",
    "# Save the tokenizer correctly\n",
    "transformer_tokenizer.save_pretrained(transformer_output_dir)\n",
    "print(f\"Tokenizer saved to {transformer_output_dir}\")"
   ]
  },
  {
   "cell_type": "code",
   "execution_count": 10,
   "id": "f0c23064-526d-4447-be46-b76f986d173e",
   "metadata": {},
   "outputs": [
    {
     "data": {
      "image/png": "[encoded data removed]",
      "text/plain": [
       "<Figure size 1000x400 with 1 Axes>"
      ]
     },
     "metadata": {},
     "output_type": "display_data"
    },
    {
     "data": {
      "image/png": "[encoded data removed]",
      "text/plain": [
       "<Figure size 1000x400 with 1 Axes>"
      ]
     },
     "metadata": {},
     "output_type": "display_data"
    }
   ],
   "source": [
    "# --------------------------\n",
    "# Section 5: Plot Transformer Training History\n",
    "# --------------------------\n",
    "\n",
    "# Plot training history (optional)\n",
    "plt.figure(figsize=(10, 4))\n",
    "plt.plot(hist.history['loss'], label='Train Loss')\n",
    "plt.plot(hist.history['val_loss'], label='Validation Loss')\n",
    "plt.title(\"Transformer Auto-Encoder Training Loss\")\n",
    "plt.xlabel(\"Epoch\")\n",
    "plt.ylabel(\"Loss\")\n",
    "plt.legend()\n",
    "plt.show()\n",
    "\n",
    "plt.figure(figsize=(10, 4))\n",
    "plt.plot(hist.history['accuracy'], label='Train Accuracy')\n",
    "plt.plot(hist.history['val_accuracy'], label='Validation Accuracy')\n",
    "plt.title(\"Transformer Auto-Encoder Training Accuracy\")\n",
    "plt.xlabel(\"Epoch\")\n",
    "plt.ylabel(\"Accuracy\")\n",
    "plt.legend()\n",
    "plt.show()\n"
   ]
  },
  {
   "cell_type": "code",
   "execution_count": null,
   "id": "c726adff-22d5-4fd3-8073-465d5e98e826",
   "metadata": {},
   "outputs": [],
   "source": [
    "# --------------------------\n",
    "# Section 6: Diffusion Model Training\n",
    "# --------------------------\n",
    "# Ensure max_bayt_len is consistent with max_length=128\n",
    "max_bayt_len = 128  # Changed from 1000 to 128\n",
    "encoding_dim = 8\n",
    "input_shape = (max_bayt_len, encoding_dim)\n",
    "diffusion_model_params = {\n",
    "    'num_transformer_blocks': 4,\n",
    "    'num_heads': 8,\n",
    "    'key_dim': 64,\n",
    "    'ffn_units': 512\n",
    "}\n",
    "print(\"Creating diffusion model...\")\n",
    "diffusion_model = create_diffusion_model(input_shape, diffusion_model_params)\n",
    "print(\"Diffusion model created.\")\n",
    "\n",
    "# Vectorize training and validation data\n",
    "print(\"Vectorizing training and validation data...\")\n",
    "\n",
    "def string_with_tashkeel_vectorizer_per_batch(batch_series, max_bayt_len):\n",
    "    out = []\n",
    "    for val in batch_series:\n",
    "        vector = string_with_tashkeel_vectorizer(val, max_bayt_len)\n",
    "        out.append(vector)\n",
    "    return np.stack(out, axis=0)\n",
    "\n",
    "X_train_enc = string_with_tashkeel_vectorizer_per_batch(pd.Series(train_subset['text']), max_bayt_len=128)\n",
    "Y_train_enc = X_train_enc.copy()\n",
    "X_valid_enc = string_with_tashkeel_vectorizer_per_batch(pd.Series(valid_subset['text']), max_bayt_len=128)\n",
    "Y_valid_enc = X_valid_enc.copy()\n",
    "\n",
    "batch_size = 8\n",
    "epochs = 5\n",
    "print(\"Training diffusion model (example)...\")\n",
    "ckpt_path = os.path.join(diffusion_output_dir, \"diff_ckpt\")\n",
    "ckpt = ModelCheckpoint(ckpt_path, save_best_only=True,\n",
    "                       monitor='val_mae', mode='min', verbose=1)\n",
    "es = EarlyStopping(monitor='val_mae', patience=2, restore_best_weights=True, mode='min')\n",
    "tb = TensorBoard(log_dir=os.path.join(diffusion_output_dir, 'logs'))\n",
    "\n",
    "diffusion_history = diffusion_model.fit(\n",
    "    X_train_enc, Y_train_enc,\n",
    "    validation_data=(X_valid_enc, Y_valid_enc),\n",
    "    epochs=epochs,\n",
    "    batch_size=batch_size,\n",
    "    callbacks=[ckpt, es, tb]\n",
    ")\n",
    "print(\"Diffusion training complete.\")\n",
    "\n",
    "# Save the final Diffusion model\n",
    "final_diffusion_path = os.path.join(diffusion_output_dir, \"diffusion_model_final.h5\")\n",
    "diffusion_model.save(final_diffusion_path, include_optimizer=True)\n",
    "print(f\"Final Diffusion model saved to {final_diffusion_path}\")\n"
   ]
  },
  {
   "cell_type": "code",
   "execution_count": null,
   "id": "6664879a-3181-40f6-a914-037c84ddc95b",
   "metadata": {},
   "outputs": [],
   "source": [
    "# --------------------------\n",
    "# Section 7: Plot Diffusion Model Training History\n",
    "# --------------------------\n",
    "\n",
    "# Plot diffusion training\n",
    "plt.figure(figsize=(10, 4))\n",
    "plt.plot(diffusion_history.history['loss'], label='Train Loss')\n",
    "plt.plot(diffusion_history.history['val_loss'], label='Val Loss')\n",
    "plt.title(\"Diffusion Model Loss\")\n",
    "plt.legend()\n",
    "plt.show()\n",
    "\n",
    "plt.figure(figsize=(10, 4))\n",
    "plt.plot(diffusion_history.history['mae'], label='Train MAE')\n",
    "plt.plot(diffusion_history.history['val_mae'], label='Val MAE')\n",
    "plt.title(\"Diffusion Model MAE\")\n",
    "plt.legend()\n",
    "plt.show()"
   ]
  },
  {
   "cell_type": "code",
   "execution_count": 12,
   "id": "5067f7c2-3ab4-49ca-a1c3-4acadcb70cf9",
   "metadata": {
    "scrolled": true
   },
   "outputs": [
    {
     "name": "stderr",
     "output_type": "stream",
     "text": [
      "Truncation was not explicitly activated but `max_length` is provided a specific value, please use `truncation=True` to explicitly truncate examples to max length. Defaulting to 'longest_first' truncation strategy. If you encode pairs of sequences (GLUE-style) with the tokenizer you can select this strategy more precisely by providing a specific strategy to `truncation`.\n",
      "Setting `pad_token_id` to `eos_token_id`:None for open-end generation.\n"
     ]
    },
    {
     "name": "stdout",
     "output_type": "stream",
     "text": [
      "Generating final classical poem by chaining ThePoet -> Transformer -> Diffusion...\n",
      "Generated rough poems from ThePoet:\n",
      "1: يا جمال الزمان ويا نور الأمل. فلا زلت يا بدر الدجى - في كل يوم تشرق شمسا. ولقد كان لي من حسنها - ما لم يكن عندي لها ندا. كأنني قد كنت أهيم بها -\n",
      "\n",
      "Rough Poem from ThePoet: يا جمال الزمان ويا نور الأمل. فلا زلت يا بدر الدجى - في كل يوم تشرق شمسا. ولقد كان لي من حسنها - ما لم يكن عندي لها ندا. كأنني قد كنت أهيم بها -\n",
      "\n",
      "Rough Poem after replacing hyphens with spaces: يا جمال الزمان ويا نور الأمل. فلا زلت يا بدر الدجى في كل يوم تشرق شمسا. ولقد كان لي من حسنها ما لم يكن عندي لها ندا. كأنني قد كنت أهيم بها\n",
      "\n",
      "Number of verses extracted: 4\n",
      "Verse 1: يا جمال الزمان ويا نور الأمل\n",
      "Verse 2: فلا زلت يا بدر الدجى في كل يوم تشرق شمسا\n",
      "Verse 3: ولقد كان لي من حسنها ما لم يكن عندي لها ندا\n",
      "Verse 4: كأنني قد كنت أهيم بها\n",
      "\n",
      "Processing Verse 1: يا جمال الزمان ويا نور الأمل\n",
      "Verse split into halves: يا جمال الزمان   ويا نور الأمل\n"
     ]
    },
    {
     "name": "stderr",
     "output_type": "stream",
     "text": [
      "huggingface/tokenizers: The current process just got forked, after parallelism has already been used. Disabling parallelism to avoid deadlocks...\n",
      "To disable this warning, you can either:\n",
      "\t- Avoid using `tokenizers` before the fork if possible\n",
      "\t- Explicitly set the environment variable TOKENIZERS_PARALLELISM=(true | false)\n"
     ]
    },
    {
     "name": "stdout",
     "output_type": "stream",
     "text": [
      "Diacritized Verse: يا جَمالُ الزَّمانِ وَيا نورَ الأَمَلِ\n",
      "Diacritized Verse re-split into halves: يا جَمالُ الزَّمانِ   وَيا نورَ الأَمَلِ\n",
      "Classical Draft from Transformer:    \n",
      "Final Verse after Transformer Refinement:    \n",
      "\n",
      "Processing Verse 2: فلا زلت يا بدر الدجى في كل يوم تشرق شمسا\n",
      "Verse split into halves: فلا زلت يا بدر الدجى   في كل يوم تشرق شمسا\n"
     ]
    },
    {
     "name": "stderr",
     "output_type": "stream",
     "text": [
      "huggingface/tokenizers: The current process just got forked, after parallelism has already been used. Disabling parallelism to avoid deadlocks...\n",
      "To disable this warning, you can either:\n",
      "\t- Avoid using `tokenizers` before the fork if possible\n",
      "\t- Explicitly set the environment variable TOKENIZERS_PARALLELISM=(true | false)\n"
     ]
    },
    {
     "name": "stdout",
     "output_type": "stream",
     "text": [
      "Diacritized Verse: فَلا زَلّتْ يا بَدْرُ الدُّجَى في كُلِّ يَوْمٍ تُشْرِقَ شَمْسًا\n",
      "Diacritized Verse re-split into halves: فَلا زَلّتْ يا بَدْرُ الدُّجَى   في كُلِّ يَوْمٍ تُشْرِقَ شَمْسًا\n",
      "Classical Draft from Transformer:   \n",
      "Final Verse after Transformer Refinement:   \n",
      "\n",
      "Processing Verse 3: ولقد كان لي من حسنها ما لم يكن عندي لها ندا\n",
      "Verse split into halves: ولقد كان لي من حسنها   ما لم يكن عندي لها ندا\n"
     ]
    },
    {
     "name": "stderr",
     "output_type": "stream",
     "text": [
      "huggingface/tokenizers: The current process just got forked, after parallelism has already been used. Disabling parallelism to avoid deadlocks...\n",
      "To disable this warning, you can either:\n",
      "\t- Avoid using `tokenizers` before the fork if possible\n",
      "\t- Explicitly set the environment variable TOKENIZERS_PARALLELISM=(true | false)\n"
     ]
    },
    {
     "name": "stdout",
     "output_type": "stream",
     "text": [
      "Diacritized Verse: وَلَقَدْ كانَ لي مِنْ حُسْنِها ما لَمْ يَكُنْ عِنْدي لَها نِدًّا\n",
      "Diacritized Verse re-split into halves: وَلَقَدْ كانَ لي مِنْ حُسْنِها   ما لَمْ يَكُنْ عِنْدي لَها نِدًّا\n",
      "Classical Draft from Transformer:   \n",
      "Final Verse after Transformer Refinement:   \n",
      "\n",
      "Processing Verse 4: كأنني قد كنت أهيم بها\n",
      "Verse split into halves: كأنني قد   كنت أهيم بها\n"
     ]
    },
    {
     "name": "stderr",
     "output_type": "stream",
     "text": [
      "huggingface/tokenizers: The current process just got forked, after parallelism has already been used. Disabling parallelism to avoid deadlocks...\n",
      "To disable this warning, you can either:\n",
      "\t- Avoid using `tokenizers` before the fork if possible\n",
      "\t- Explicitly set the environment variable TOKENIZERS_PARALLELISM=(true | false)\n"
     ]
    },
    {
     "name": "stdout",
     "output_type": "stream",
     "text": [
      "Diacritized Verse: كَأَنَّني قَدْ كُنْتْ أهيمْ بِها\n",
      "Diacritized Verse re-split into halves: كَأَنَّني قَدْ   كُنْتْ أهيمْ بِها\n",
      "Classical Draft from Transformer:   \n",
      "Final Verse after Transformer Refinement:   \n",
      "\n",
      "==== Final Chained Poem ====\n",
      "   \n",
      "  \n",
      "  \n",
      "  \n",
      "================================\n",
      "\n",
      "==== Final Chained Poem ====\n",
      "   \n",
      "  \n",
      "  \n",
      "  \n",
      "================================\n"
     ]
    }
   ],
   "source": [
    "# --------------------------\n",
    "# Section 8: Generate Final Poem via ThePoet -> Transformer -> Diffusion\n",
    "# --------------------------\n",
    "modern_prompt = \"يا جمال الزمان ويا نور الأمل\"\n",
    "\n",
    "print(\"Generating final classical poem by chaining ThePoet -> Transformer -> Diffusion...\")\n",
    "try:\n",
    "    final_poem = generate_classical_poem_with_thepoet(\n",
    "        modern_prompt=modern_prompt,\n",
    "        poet_pipeline=poet_pipeline,\n",
    "        transformer_model=trained_transformer,\n",
    "        transformer_tokenizer=transformer_tokenizer,\n",
    "        #diffusion_model=diffusion_model,\n",
    "        max_length=128\n",
    "    )\n",
    "    print(\"\\n==== Final Chained Poem ====\")\n",
    "    print(final_poem)\n",
    "    print(\"================================\")\n",
    "except ValueError as ve:\n",
    "    print(f\"Error during poem generation: {ve}\")\n",
    "except Exception as e:\n",
    "    print(f\"Unexpected error during poem generation: {e}\")"
   ]
  },
  {
   "cell_type": "code",
   "execution_count": null,
   "id": "25a3a263-9fb0-4b42-a999-d146a00a1fda",
   "metadata": {},
   "outputs": [],
   "source": []
  }
 ],
 "metadata": {
  "kernelspec": {
   "display_name": "Python (baytdiffuser_env)",
   "language": "python",
   "name": "baytdiffuser_env"
  },
  "language_info": {
   "codemirror_mode": {
    "name": "ipython",
    "version": 3
   },
   "file_extension": ".py",
   "mimetype": "text/x-python",
   "name": "python",
   "nbconvert_exporter": "python",
   "pygments_lexer": "ipython3",
   "version": "3.10.13"
  }
 },
 "nbformat": 4,
 "nbformat_minor": 5
}
