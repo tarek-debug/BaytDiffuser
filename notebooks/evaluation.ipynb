{
 "cells": [
  {
   "cell_type": "code",
   "execution_count": null,
   "id": "ed389e5a-1f49-41fe-98df-46bf5dd54afc",
   "metadata": {},
   "outputs": [],
   "source": [
    "# evaluation.ipynb\n",
    "\n",
    "# Import necessary libraries\n",
    "import os\n",
    "import pandas as pd\n",
    "import json\n",
    "\n",
    "# Import functions from utils.py\n",
    "from utils import (\n",
    "    calculate_meter_score,\n",
    "    calculate_rhyme_score,\n",
    "    compare_with_baselines,\n",
    "    load_diffusion_model,\n",
    "    load_transformer_model,\n",
    "    generate_classical_poem\n",
    ")\n",
    "\n",
    "# Configure visualization settings if needed\n",
    "%matplotlib inline\n"
   ]
  },
  {
   "cell_type": "code",
   "execution_count": null,
   "id": "0c0c5b62-68ba-44f5-a0b6-87e1f94844b2",
   "metadata": {},
   "outputs": [],
   "source": [
    "# Define model paths and configurations\n",
    "diffusion_model_path = '../models/diffusion/diffusion_model_final.h5'\n",
    "transformer_model_path = '../models/transformers/transformer_model_final.h5'\n",
    "transformer_model_name = 'aubmindlab/bert-base-arabertv2'  # Ensure this matches your trained model\n",
    "max_length = 1000\n",
    "\n",
    "# Load models\n",
    "print(\"Loading trained models...\")\n",
    "transformer_model, tokenizer = load_transformer_model(transformer_model_path, transformer_model_name, max_length)\n",
    "diffusion_model = load_diffusion_model(diffusion_model_path)\n",
    "print(\"Models loaded successfully.\")\n"
   ]
  },
  {
   "cell_type": "code",
   "execution_count": null,
   "id": "7cba2bab-5807-4195-ae5e-9aa5e1e864d0",
   "metadata": {},
   "outputs": [],
   "source": [
    "# Define input directory containing generated poems\n",
    "generated_poems_dir = '../results/outputs'\n",
    "\n",
    "# List all generated poem files\n",
    "poem_files = [f for f in os.listdir(generated_poems_dir) if f.endswith('.txt')]\n",
    "print(f\"Found {len(poem_files)} generated poems.\")\n",
    "\n",
    "# Initialize results list\n",
    "evaluation_results = []\n"
   ]
  },
  {
   "cell_type": "code",
   "execution_count": null,
   "id": "deaff9bf-c3f4-47de-9e3f-36dcd9a9a80c",
   "metadata": {},
   "outputs": [],
   "source": [
    "# Iterate through each generated poem and compute metrics\n",
    "for filename in poem_files:\n",
    "    file_path = os.path.join(generated_poems_dir, filename)\n",
    "    with open(file_path, 'r', encoding='utf-8') as f:\n",
    "        poem = f.read()\n",
    "    \n",
    "    # Compute meter and rhyme scores\n",
    "    meter_score = calculate_meter_score(poem)\n",
    "    rhyme_score = calculate_rhyme_score(poem)\n",
    "    \n",
    "    # Append to results\n",
    "    evaluation_results.append({\n",
    "        \"filename\": filename,\n",
    "        \"meter_score\": meter_score,\n",
    "        \"rhyme_score\": rhyme_score\n",
    "    })\n",
    "\n",
    "print(\"Computed evaluation metrics for all generated poems.\")\n"
   ]
  },
  {
   "cell_type": "code",
   "execution_count": null,
   "id": "f8d275c6-1534-473d-a7cd-2df9cf97b5d7",
   "metadata": {},
   "outputs": [],
   "source": [
    "# Compare with baseline models\n",
    "print(\"Comparing with baseline models...\")\n",
    "compare_with_baselines(evaluation_results)\n",
    "print(\"Comparison with baselines completed.\")\n"
   ]
  },
  {
   "cell_type": "code",
   "execution_count": null,
   "id": "93b570e4-4414-42ec-9c25-cd398132487b",
   "metadata": {},
   "outputs": [],
   "source": [
    "# Define metrics output path\n",
    "metrics_output_dir = '../data/metrics'\n",
    "os.makedirs(metrics_output_dir, exist_ok=True)\n",
    "evaluation_results_path = os.path.join(metrics_output_dir, 'evaluation_results.json')\n",
    "\n",
    "# Save results as JSON\n",
    "with open(evaluation_results_path, 'w', encoding='utf-8') as f:\n",
    "    json.dump(evaluation_results, f, ensure_ascii=False, indent=2)\n",
    "\n",
    "print(f\"Evaluation results saved to {evaluation_results_path}\")\n"
   ]
  },
  {
   "cell_type": "code",
   "execution_count": null,
   "id": "3c772d4e-33e9-4676-ad50-6ee7dcaba460",
   "metadata": {},
   "outputs": [],
   "source": [
    "# Load evaluation results\n",
    "with open(evaluation_results_path, 'r', encoding='utf-8') as f:\n",
    "    results = json.load(f)\n",
    "\n",
    "# Convert to DataFrame for better visualization\n",
    "results_df = pd.DataFrame(results)\n",
    "\n",
    "# Display summary statistics\n",
    "results_df.describe()\n"
   ]
  },
  {
   "cell_type": "code",
   "execution_count": null,
   "id": "c9bcf40b-e0a3-4a1b-99e5-7da83b42c58c",
   "metadata": {},
   "outputs": [],
   "source": [
    "# Plot distribution of meter scores\n",
    "import matplotlib.pyplot as plt\n",
    "import seaborn as sns\n",
    "\n",
    "plt.figure(figsize=(12, 6))\n",
    "sns.histplot(results_df['meter_score'], bins=20, kde=True)\n",
    "plt.title('Distribution of Meter Scores')\n",
    "plt.xlabel('Meter Score')\n",
    "plt.ylabel('Frequency')\n",
    "plt.show()\n"
   ]
  },
  {
   "cell_type": "code",
   "execution_count": null,
   "id": "3f64a588-6596-462b-8055-8b4b2210e561",
   "metadata": {},
   "outputs": [],
   "source": [
    "# Plot distribution of rhyme scores\n",
    "plt.figure(figsize=(12, 6))\n",
    "sns.histplot(results_df['rhyme_score'], bins=20, kde=True)\n",
    "plt.title('Distribution of Rhyme Scores')\n",
    "plt.xlabel('Rhyme Score')\n",
    "plt.ylabel('Frequency')\n",
    "plt.show()\n"
   ]
  }
 ],
 "metadata": {
  "kernelspec": {
   "display_name": "Python (baytdiffuser_env)",
   "language": "python",
   "name": "baytdiffuser_env"
  },
  "language_info": {
   "codemirror_mode": {
    "name": "ipython",
    "version": 3
   },
   "file_extension": ".py",
   "mimetype": "text/x-python",
   "name": "python",
   "nbconvert_exporter": "python",
   "pygments_lexer": "ipython3",
   "version": "3.9.18"
  }
 },
 "nbformat": 4,
 "nbformat_minor": 5
}
